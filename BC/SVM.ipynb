{
 "cells": [
  {
   "cell_type": "code",
   "execution_count": 1,
   "metadata": {},
   "outputs": [],
   "source": [
    "import pandas as pd\n",
    "import numpy as np\n",
    "from sklearn.ensemble import GradientBoostingClassifier\n",
    "from sklearn.model_selection import RepeatedStratifiedKFold\n",
    "from sklearn.metrics import roc_auc_score\n",
    "from sklearn.metrics import accuracy_score\n",
    "from sklearn.metrics import f1_score\n",
    "from imblearn.metrics import sensitivity_score\n",
    "from imblearn.metrics import specificity_score\n",
    "from sklearn.metrics import precision_score\n",
    "from sklearn.svm import SVC"
   ]
  },
  {
   "cell_type": "code",
   "execution_count": 2,
   "metadata": {},
   "outputs": [],
   "source": [
    "seed = 34675341"
   ]
  },
  {
   "cell_type": "code",
   "execution_count": 3,
   "metadata": {},
   "outputs": [],
   "source": [
    "sp = RepeatedStratifiedKFold(random_state=seed,n_repeats=3,n_splits=5)"
   ]
  },
  {
   "cell_type": "code",
   "execution_count": 4,
   "metadata": {},
   "outputs": [],
   "source": [
    "TCGA = pd.read_csv('data_TCGA.csv')\n",
    "X_TCGA = TCGA.iloc[:,2:]\n",
    "y_TCGA = TCGA.iloc[:,1]\n",
    "GSE5764 = pd.read_csv('data_GSE5764.csv')\n",
    "X_GSE5764 = GSE5764.iloc[:,2:]\n",
    "y_GSE5764 = GSE5764.iloc[:,1]\n",
    "GSE7904 = pd.read_csv('data_GSE7904.csv')\n",
    "X_GSE7904 = GSE7904.iloc[:,2:]\n",
    "y_GSE7904 = GSE7904.iloc[:,1]\n",
    "GSE10780 = pd.read_csv('data_GSE10780.csv')\n",
    "X_GSE10780 = GSE10780.iloc[:,2:]\n",
    "y_GSE10780 = GSE10780.iloc[:,1]\n",
    "GSE10810 = pd.read_csv('data_GSE10810.csv')\n",
    "X_GSE10810 = GSE10810.iloc[:,2:]\n",
    "y_GSE10810 = GSE10810.iloc[:,1]\n",
    "GSE26910 = pd.read_csv('data_GSE26910.csv')\n",
    "X_GSE26910 = GSE26910.iloc[:,2:]\n",
    "y_GSE26910 = GSE26910.iloc[:,1]\n",
    "GSE29431 = pd.read_csv('data_GSE29431.csv')\n",
    "X_GSE29431 = GSE29431.iloc[:,2:]\n",
    "y_GSE29431 = GSE29431.iloc[:,1]\n",
    "GSE31192 = pd.read_csv('data_GSE31192.csv')\n",
    "X_GSE31192 = GSE31192.iloc[:,2:]\n",
    "y_GSE31192 = GSE31192.iloc[:,1]\n",
    "GSE33447 = pd.read_csv('data_GSE33447.csv')\n",
    "X_GSE33447 = GSE33447.iloc[:,2:]\n",
    "y_GSE33447 = GSE33447.iloc[:,1]\n",
    "GSE36295 = pd.read_csv('data_GSE36295.csv')\n",
    "X_GSE36295 = GSE36295.iloc[:,2:]\n",
    "y_GSE36295 = GSE36295.iloc[:,1]\n",
    "GSE38959 = pd.read_csv('data_GSE38959.csv')\n",
    "X_GSE38959 = GSE38959.iloc[:,2:]\n",
    "y_GSE38959 = GSE38959.iloc[:,1]\n",
    "GSE42568 = pd.read_csv('data_GSE42568.csv')\n",
    "X_GSE42568 = GSE42568.iloc[:,2:]\n",
    "y_GSE42568 = GSE42568.iloc[:,1]\n",
    "GSE65216 = pd.read_csv('data_GSE65216.csv')\n",
    "X_GSE65216 = GSE65216.iloc[:,2:]\n",
    "y_GSE65216 = GSE65216.iloc[:,1]\n",
    "GSE71053 = pd.read_csv('data_GSE71053.csv')\n",
    "X_GSE71053 = GSE71053.iloc[:,2:]\n",
    "y_GSE71053 = GSE71053.iloc[:,1]\n",
    "GSE76250 = pd.read_csv('data_GSE76250.csv')\n",
    "X_GSE76250 = GSE76250.iloc[:,2:]\n",
    "y_GSE76250 = GSE76250.iloc[:,1]\n",
    "GSE86374 = pd.read_csv('data_GSE86374.csv')\n",
    "X_GSE86374 = GSE86374.iloc[:,2:]\n",
    "y_GSE86374 = GSE86374.iloc[:,1]\n",
    "GSE162228 = pd.read_csv('data_GSE162228.csv')\n",
    "X_GSE162228 = GSE162228.iloc[:,2:]\n",
    "y_GSE162228 = GSE162228.iloc[:,1]\n",
    "GSE233242 = pd.read_csv('data_GSE233242.csv')\n",
    "X_GSE233242 = GSE233242.iloc[:,2:]\n",
    "y_GSE233242 = GSE233242.iloc[:,1]"
   ]
  },
  {
   "cell_type": "code",
   "execution_count": 13,
   "metadata": {},
   "outputs": [],
   "source": [
    "import hyperopt\n",
    "from hyperopt import hp"
   ]
  },
  {
   "cell_type": "code",
   "execution_count": 14,
   "metadata": {},
   "outputs": [],
   "source": [
    "def objective(params):\n",
    "    aucs = []\n",
    "    for train_index,test_index in sp.split(X_TCGA,y_TCGA):\n",
    "        X_train = X_TCGA.iloc[train_index,:]\n",
    "        X_vali = X_TCGA.iloc[test_index,:]\n",
    "        y_train = y_TCGA[train_index]\n",
    "        y_vali = y_TCGA[test_index]\n",
    "        model = SVC(random_state=seed,\n",
    "                    C=params['C'],\n",
    "                    gamma=params['gamma'],\n",
    "                    probability=True)\n",
    "        model.fit(X_train,y_train)\n",
    "        pro_vali = model.predict_proba(X_vali)[:,1]\n",
    "        auc_vali = roc_auc_score(y_vali,pro_vali)\n",
    "        aucs.append(auc_vali)\n",
    "    return -np.mean(aucs)"
   ]
  },
  {
   "cell_type": "code",
   "execution_count": 15,
   "metadata": {},
   "outputs": [],
   "source": [
    "space = {\n",
    "    'C':hp.uniform('C',0,10),\n",
    "    'gamma':hp.uniform('gamma',0,10),\n",
    "}"
   ]
  },
  {
   "cell_type": "code",
   "execution_count": 16,
   "metadata": {},
   "outputs": [
    {
     "name": "stdout",
     "output_type": "stream",
     "text": [
      "100%|██████████| 50/50 [03:40<00:00,  4.41s/trial, best loss: -1.0]                 \n"
     ]
    }
   ],
   "source": [
    "best_param = hyperopt.fmin(objective,space,hyperopt.tpe.suggest,max_evals=50)"
   ]
  },
  {
   "cell_type": "code",
   "execution_count": 17,
   "metadata": {},
   "outputs": [
    {
     "data": {
      "text/plain": [
       "{'C': np.float64(7.919027695105535), 'gamma': np.float64(0.013708528499826934)}"
      ]
     },
     "execution_count": 17,
     "metadata": {},
     "output_type": "execute_result"
    }
   ],
   "source": [
    "best_param"
   ]
  },
  {
   "cell_type": "code",
   "execution_count": 5,
   "metadata": {},
   "outputs": [
    {
     "data": {
      "text/html": [
       "<style>#sk-container-id-1 {\n",
       "  /* Definition of color scheme common for light and dark mode */\n",
       "  --sklearn-color-text: #000;\n",
       "  --sklearn-color-text-muted: #666;\n",
       "  --sklearn-color-line: gray;\n",
       "  /* Definition of color scheme for unfitted estimators */\n",
       "  --sklearn-color-unfitted-level-0: #fff5e6;\n",
       "  --sklearn-color-unfitted-level-1: #f6e4d2;\n",
       "  --sklearn-color-unfitted-level-2: #ffe0b3;\n",
       "  --sklearn-color-unfitted-level-3: chocolate;\n",
       "  /* Definition of color scheme for fitted estimators */\n",
       "  --sklearn-color-fitted-level-0: #f0f8ff;\n",
       "  --sklearn-color-fitted-level-1: #d4ebff;\n",
       "  --sklearn-color-fitted-level-2: #b3dbfd;\n",
       "  --sklearn-color-fitted-level-3: cornflowerblue;\n",
       "\n",
       "  /* Specific color for light theme */\n",
       "  --sklearn-color-text-on-default-background: var(--sg-text-color, var(--theme-code-foreground, var(--jp-content-font-color1, black)));\n",
       "  --sklearn-color-background: var(--sg-background-color, var(--theme-background, var(--jp-layout-color0, white)));\n",
       "  --sklearn-color-border-box: var(--sg-text-color, var(--theme-code-foreground, var(--jp-content-font-color1, black)));\n",
       "  --sklearn-color-icon: #696969;\n",
       "\n",
       "  @media (prefers-color-scheme: dark) {\n",
       "    /* Redefinition of color scheme for dark theme */\n",
       "    --sklearn-color-text-on-default-background: var(--sg-text-color, var(--theme-code-foreground, var(--jp-content-font-color1, white)));\n",
       "    --sklearn-color-background: var(--sg-background-color, var(--theme-background, var(--jp-layout-color0, #111)));\n",
       "    --sklearn-color-border-box: var(--sg-text-color, var(--theme-code-foreground, var(--jp-content-font-color1, white)));\n",
       "    --sklearn-color-icon: #878787;\n",
       "  }\n",
       "}\n",
       "\n",
       "#sk-container-id-1 {\n",
       "  color: var(--sklearn-color-text);\n",
       "}\n",
       "\n",
       "#sk-container-id-1 pre {\n",
       "  padding: 0;\n",
       "}\n",
       "\n",
       "#sk-container-id-1 input.sk-hidden--visually {\n",
       "  border: 0;\n",
       "  clip: rect(1px 1px 1px 1px);\n",
       "  clip: rect(1px, 1px, 1px, 1px);\n",
       "  height: 1px;\n",
       "  margin: -1px;\n",
       "  overflow: hidden;\n",
       "  padding: 0;\n",
       "  position: absolute;\n",
       "  width: 1px;\n",
       "}\n",
       "\n",
       "#sk-container-id-1 div.sk-dashed-wrapped {\n",
       "  border: 1px dashed var(--sklearn-color-line);\n",
       "  margin: 0 0.4em 0.5em 0.4em;\n",
       "  box-sizing: border-box;\n",
       "  padding-bottom: 0.4em;\n",
       "  background-color: var(--sklearn-color-background);\n",
       "}\n",
       "\n",
       "#sk-container-id-1 div.sk-container {\n",
       "  /* jupyter's `normalize.less` sets `[hidden] { display: none; }`\n",
       "     but bootstrap.min.css set `[hidden] { display: none !important; }`\n",
       "     so we also need the `!important` here to be able to override the\n",
       "     default hidden behavior on the sphinx rendered scikit-learn.org.\n",
       "     See: https://github.com/scikit-learn/scikit-learn/issues/21755 */\n",
       "  display: inline-block !important;\n",
       "  position: relative;\n",
       "}\n",
       "\n",
       "#sk-container-id-1 div.sk-text-repr-fallback {\n",
       "  display: none;\n",
       "}\n",
       "\n",
       "div.sk-parallel-item,\n",
       "div.sk-serial,\n",
       "div.sk-item {\n",
       "  /* draw centered vertical line to link estimators */\n",
       "  background-image: linear-gradient(var(--sklearn-color-text-on-default-background), var(--sklearn-color-text-on-default-background));\n",
       "  background-size: 2px 100%;\n",
       "  background-repeat: no-repeat;\n",
       "  background-position: center center;\n",
       "}\n",
       "\n",
       "/* Parallel-specific style estimator block */\n",
       "\n",
       "#sk-container-id-1 div.sk-parallel-item::after {\n",
       "  content: \"\";\n",
       "  width: 100%;\n",
       "  border-bottom: 2px solid var(--sklearn-color-text-on-default-background);\n",
       "  flex-grow: 1;\n",
       "}\n",
       "\n",
       "#sk-container-id-1 div.sk-parallel {\n",
       "  display: flex;\n",
       "  align-items: stretch;\n",
       "  justify-content: center;\n",
       "  background-color: var(--sklearn-color-background);\n",
       "  position: relative;\n",
       "}\n",
       "\n",
       "#sk-container-id-1 div.sk-parallel-item {\n",
       "  display: flex;\n",
       "  flex-direction: column;\n",
       "}\n",
       "\n",
       "#sk-container-id-1 div.sk-parallel-item:first-child::after {\n",
       "  align-self: flex-end;\n",
       "  width: 50%;\n",
       "}\n",
       "\n",
       "#sk-container-id-1 div.sk-parallel-item:last-child::after {\n",
       "  align-self: flex-start;\n",
       "  width: 50%;\n",
       "}\n",
       "\n",
       "#sk-container-id-1 div.sk-parallel-item:only-child::after {\n",
       "  width: 0;\n",
       "}\n",
       "\n",
       "/* Serial-specific style estimator block */\n",
       "\n",
       "#sk-container-id-1 div.sk-serial {\n",
       "  display: flex;\n",
       "  flex-direction: column;\n",
       "  align-items: center;\n",
       "  background-color: var(--sklearn-color-background);\n",
       "  padding-right: 1em;\n",
       "  padding-left: 1em;\n",
       "}\n",
       "\n",
       "\n",
       "/* Toggleable style: style used for estimator/Pipeline/ColumnTransformer box that is\n",
       "clickable and can be expanded/collapsed.\n",
       "- Pipeline and ColumnTransformer use this feature and define the default style\n",
       "- Estimators will overwrite some part of the style using the `sk-estimator` class\n",
       "*/\n",
       "\n",
       "/* Pipeline and ColumnTransformer style (default) */\n",
       "\n",
       "#sk-container-id-1 div.sk-toggleable {\n",
       "  /* Default theme specific background. It is overwritten whether we have a\n",
       "  specific estimator or a Pipeline/ColumnTransformer */\n",
       "  background-color: var(--sklearn-color-background);\n",
       "}\n",
       "\n",
       "/* Toggleable label */\n",
       "#sk-container-id-1 label.sk-toggleable__label {\n",
       "  cursor: pointer;\n",
       "  display: flex;\n",
       "  width: 100%;\n",
       "  margin-bottom: 0;\n",
       "  padding: 0.5em;\n",
       "  box-sizing: border-box;\n",
       "  text-align: center;\n",
       "  align-items: start;\n",
       "  justify-content: space-between;\n",
       "  gap: 0.5em;\n",
       "}\n",
       "\n",
       "#sk-container-id-1 label.sk-toggleable__label .caption {\n",
       "  font-size: 0.6rem;\n",
       "  font-weight: lighter;\n",
       "  color: var(--sklearn-color-text-muted);\n",
       "}\n",
       "\n",
       "#sk-container-id-1 label.sk-toggleable__label-arrow:before {\n",
       "  /* Arrow on the left of the label */\n",
       "  content: \"▸\";\n",
       "  float: left;\n",
       "  margin-right: 0.25em;\n",
       "  color: var(--sklearn-color-icon);\n",
       "}\n",
       "\n",
       "#sk-container-id-1 label.sk-toggleable__label-arrow:hover:before {\n",
       "  color: var(--sklearn-color-text);\n",
       "}\n",
       "\n",
       "/* Toggleable content - dropdown */\n",
       "\n",
       "#sk-container-id-1 div.sk-toggleable__content {\n",
       "  max-height: 0;\n",
       "  max-width: 0;\n",
       "  overflow: hidden;\n",
       "  text-align: left;\n",
       "  /* unfitted */\n",
       "  background-color: var(--sklearn-color-unfitted-level-0);\n",
       "}\n",
       "\n",
       "#sk-container-id-1 div.sk-toggleable__content.fitted {\n",
       "  /* fitted */\n",
       "  background-color: var(--sklearn-color-fitted-level-0);\n",
       "}\n",
       "\n",
       "#sk-container-id-1 div.sk-toggleable__content pre {\n",
       "  margin: 0.2em;\n",
       "  border-radius: 0.25em;\n",
       "  color: var(--sklearn-color-text);\n",
       "  /* unfitted */\n",
       "  background-color: var(--sklearn-color-unfitted-level-0);\n",
       "}\n",
       "\n",
       "#sk-container-id-1 div.sk-toggleable__content.fitted pre {\n",
       "  /* unfitted */\n",
       "  background-color: var(--sklearn-color-fitted-level-0);\n",
       "}\n",
       "\n",
       "#sk-container-id-1 input.sk-toggleable__control:checked~div.sk-toggleable__content {\n",
       "  /* Expand drop-down */\n",
       "  max-height: 200px;\n",
       "  max-width: 100%;\n",
       "  overflow: auto;\n",
       "}\n",
       "\n",
       "#sk-container-id-1 input.sk-toggleable__control:checked~label.sk-toggleable__label-arrow:before {\n",
       "  content: \"▾\";\n",
       "}\n",
       "\n",
       "/* Pipeline/ColumnTransformer-specific style */\n",
       "\n",
       "#sk-container-id-1 div.sk-label input.sk-toggleable__control:checked~label.sk-toggleable__label {\n",
       "  color: var(--sklearn-color-text);\n",
       "  background-color: var(--sklearn-color-unfitted-level-2);\n",
       "}\n",
       "\n",
       "#sk-container-id-1 div.sk-label.fitted input.sk-toggleable__control:checked~label.sk-toggleable__label {\n",
       "  background-color: var(--sklearn-color-fitted-level-2);\n",
       "}\n",
       "\n",
       "/* Estimator-specific style */\n",
       "\n",
       "/* Colorize estimator box */\n",
       "#sk-container-id-1 div.sk-estimator input.sk-toggleable__control:checked~label.sk-toggleable__label {\n",
       "  /* unfitted */\n",
       "  background-color: var(--sklearn-color-unfitted-level-2);\n",
       "}\n",
       "\n",
       "#sk-container-id-1 div.sk-estimator.fitted input.sk-toggleable__control:checked~label.sk-toggleable__label {\n",
       "  /* fitted */\n",
       "  background-color: var(--sklearn-color-fitted-level-2);\n",
       "}\n",
       "\n",
       "#sk-container-id-1 div.sk-label label.sk-toggleable__label,\n",
       "#sk-container-id-1 div.sk-label label {\n",
       "  /* The background is the default theme color */\n",
       "  color: var(--sklearn-color-text-on-default-background);\n",
       "}\n",
       "\n",
       "/* On hover, darken the color of the background */\n",
       "#sk-container-id-1 div.sk-label:hover label.sk-toggleable__label {\n",
       "  color: var(--sklearn-color-text);\n",
       "  background-color: var(--sklearn-color-unfitted-level-2);\n",
       "}\n",
       "\n",
       "/* Label box, darken color on hover, fitted */\n",
       "#sk-container-id-1 div.sk-label.fitted:hover label.sk-toggleable__label.fitted {\n",
       "  color: var(--sklearn-color-text);\n",
       "  background-color: var(--sklearn-color-fitted-level-2);\n",
       "}\n",
       "\n",
       "/* Estimator label */\n",
       "\n",
       "#sk-container-id-1 div.sk-label label {\n",
       "  font-family: monospace;\n",
       "  font-weight: bold;\n",
       "  display: inline-block;\n",
       "  line-height: 1.2em;\n",
       "}\n",
       "\n",
       "#sk-container-id-1 div.sk-label-container {\n",
       "  text-align: center;\n",
       "}\n",
       "\n",
       "/* Estimator-specific */\n",
       "#sk-container-id-1 div.sk-estimator {\n",
       "  font-family: monospace;\n",
       "  border: 1px dotted var(--sklearn-color-border-box);\n",
       "  border-radius: 0.25em;\n",
       "  box-sizing: border-box;\n",
       "  margin-bottom: 0.5em;\n",
       "  /* unfitted */\n",
       "  background-color: var(--sklearn-color-unfitted-level-0);\n",
       "}\n",
       "\n",
       "#sk-container-id-1 div.sk-estimator.fitted {\n",
       "  /* fitted */\n",
       "  background-color: var(--sklearn-color-fitted-level-0);\n",
       "}\n",
       "\n",
       "/* on hover */\n",
       "#sk-container-id-1 div.sk-estimator:hover {\n",
       "  /* unfitted */\n",
       "  background-color: var(--sklearn-color-unfitted-level-2);\n",
       "}\n",
       "\n",
       "#sk-container-id-1 div.sk-estimator.fitted:hover {\n",
       "  /* fitted */\n",
       "  background-color: var(--sklearn-color-fitted-level-2);\n",
       "}\n",
       "\n",
       "/* Specification for estimator info (e.g. \"i\" and \"?\") */\n",
       "\n",
       "/* Common style for \"i\" and \"?\" */\n",
       "\n",
       ".sk-estimator-doc-link,\n",
       "a:link.sk-estimator-doc-link,\n",
       "a:visited.sk-estimator-doc-link {\n",
       "  float: right;\n",
       "  font-size: smaller;\n",
       "  line-height: 1em;\n",
       "  font-family: monospace;\n",
       "  background-color: var(--sklearn-color-background);\n",
       "  border-radius: 1em;\n",
       "  height: 1em;\n",
       "  width: 1em;\n",
       "  text-decoration: none !important;\n",
       "  margin-left: 0.5em;\n",
       "  text-align: center;\n",
       "  /* unfitted */\n",
       "  border: var(--sklearn-color-unfitted-level-1) 1pt solid;\n",
       "  color: var(--sklearn-color-unfitted-level-1);\n",
       "}\n",
       "\n",
       ".sk-estimator-doc-link.fitted,\n",
       "a:link.sk-estimator-doc-link.fitted,\n",
       "a:visited.sk-estimator-doc-link.fitted {\n",
       "  /* fitted */\n",
       "  border: var(--sklearn-color-fitted-level-1) 1pt solid;\n",
       "  color: var(--sklearn-color-fitted-level-1);\n",
       "}\n",
       "\n",
       "/* On hover */\n",
       "div.sk-estimator:hover .sk-estimator-doc-link:hover,\n",
       ".sk-estimator-doc-link:hover,\n",
       "div.sk-label-container:hover .sk-estimator-doc-link:hover,\n",
       ".sk-estimator-doc-link:hover {\n",
       "  /* unfitted */\n",
       "  background-color: var(--sklearn-color-unfitted-level-3);\n",
       "  color: var(--sklearn-color-background);\n",
       "  text-decoration: none;\n",
       "}\n",
       "\n",
       "div.sk-estimator.fitted:hover .sk-estimator-doc-link.fitted:hover,\n",
       ".sk-estimator-doc-link.fitted:hover,\n",
       "div.sk-label-container:hover .sk-estimator-doc-link.fitted:hover,\n",
       ".sk-estimator-doc-link.fitted:hover {\n",
       "  /* fitted */\n",
       "  background-color: var(--sklearn-color-fitted-level-3);\n",
       "  color: var(--sklearn-color-background);\n",
       "  text-decoration: none;\n",
       "}\n",
       "\n",
       "/* Span, style for the box shown on hovering the info icon */\n",
       ".sk-estimator-doc-link span {\n",
       "  display: none;\n",
       "  z-index: 9999;\n",
       "  position: relative;\n",
       "  font-weight: normal;\n",
       "  right: .2ex;\n",
       "  padding: .5ex;\n",
       "  margin: .5ex;\n",
       "  width: min-content;\n",
       "  min-width: 20ex;\n",
       "  max-width: 50ex;\n",
       "  color: var(--sklearn-color-text);\n",
       "  box-shadow: 2pt 2pt 4pt #999;\n",
       "  /* unfitted */\n",
       "  background: var(--sklearn-color-unfitted-level-0);\n",
       "  border: .5pt solid var(--sklearn-color-unfitted-level-3);\n",
       "}\n",
       "\n",
       ".sk-estimator-doc-link.fitted span {\n",
       "  /* fitted */\n",
       "  background: var(--sklearn-color-fitted-level-0);\n",
       "  border: var(--sklearn-color-fitted-level-3);\n",
       "}\n",
       "\n",
       ".sk-estimator-doc-link:hover span {\n",
       "  display: block;\n",
       "}\n",
       "\n",
       "/* \"?\"-specific style due to the `<a>` HTML tag */\n",
       "\n",
       "#sk-container-id-1 a.estimator_doc_link {\n",
       "  float: right;\n",
       "  font-size: 1rem;\n",
       "  line-height: 1em;\n",
       "  font-family: monospace;\n",
       "  background-color: var(--sklearn-color-background);\n",
       "  border-radius: 1rem;\n",
       "  height: 1rem;\n",
       "  width: 1rem;\n",
       "  text-decoration: none;\n",
       "  /* unfitted */\n",
       "  color: var(--sklearn-color-unfitted-level-1);\n",
       "  border: var(--sklearn-color-unfitted-level-1) 1pt solid;\n",
       "}\n",
       "\n",
       "#sk-container-id-1 a.estimator_doc_link.fitted {\n",
       "  /* fitted */\n",
       "  border: var(--sklearn-color-fitted-level-1) 1pt solid;\n",
       "  color: var(--sklearn-color-fitted-level-1);\n",
       "}\n",
       "\n",
       "/* On hover */\n",
       "#sk-container-id-1 a.estimator_doc_link:hover {\n",
       "  /* unfitted */\n",
       "  background-color: var(--sklearn-color-unfitted-level-3);\n",
       "  color: var(--sklearn-color-background);\n",
       "  text-decoration: none;\n",
       "}\n",
       "\n",
       "#sk-container-id-1 a.estimator_doc_link.fitted:hover {\n",
       "  /* fitted */\n",
       "  background-color: var(--sklearn-color-fitted-level-3);\n",
       "}\n",
       "</style><div id=\"sk-container-id-1\" class=\"sk-top-container\"><div class=\"sk-text-repr-fallback\"><pre>SVC(C=7.919027695105535, gamma=0.013708528499826934, probability=True,\n",
       "    random_state=34675341)</pre><b>In a Jupyter environment, please rerun this cell to show the HTML representation or trust the notebook. <br />On GitHub, the HTML representation is unable to render, please try loading this page with nbviewer.org.</b></div><div class=\"sk-container\" hidden><div class=\"sk-item\"><div class=\"sk-estimator fitted sk-toggleable\"><input class=\"sk-toggleable__control sk-hidden--visually\" id=\"sk-estimator-id-1\" type=\"checkbox\" checked><label for=\"sk-estimator-id-1\" class=\"sk-toggleable__label fitted sk-toggleable__label-arrow\"><div><div>SVC</div></div><div><a class=\"sk-estimator-doc-link fitted\" rel=\"noreferrer\" target=\"_blank\" href=\"https://scikit-learn.org/1.6/modules/generated/sklearn.svm.SVC.html\">?<span>Documentation for SVC</span></a><span class=\"sk-estimator-doc-link fitted\">i<span>Fitted</span></span></div></label><div class=\"sk-toggleable__content fitted\"><pre>SVC(C=7.919027695105535, gamma=0.013708528499826934, probability=True,\n",
       "    random_state=34675341)</pre></div> </div></div></div></div>"
      ],
      "text/plain": [
       "SVC(C=7.919027695105535, gamma=0.013708528499826934, probability=True,\n",
       "    random_state=34675341)"
      ]
     },
     "execution_count": 5,
     "metadata": {},
     "output_type": "execute_result"
    }
   ],
   "source": [
    "model = SVC(random_state=seed,\n",
    "            C=7.919027695105535,\n",
    "            gamma=0.013708528499826934,\n",
    "            probability=True)\n",
    "model.fit(X_TCGA,y_TCGA)"
   ]
  },
  {
   "cell_type": "code",
   "execution_count": 6,
   "metadata": {},
   "outputs": [],
   "source": [
    "pro_TCGA = model.predict_proba(X_TCGA)[:,1]\n",
    "pro_GSE5764 = model.predict_proba(X_GSE5764)[:,1]\n",
    "pro_GSE7904 = model.predict_proba(X_GSE7904)[:,1]\n",
    "pro_GSE10780 = model.predict_proba(X_GSE10780)[:,1]\n",
    "pro_GSE10810 = model.predict_proba(X_GSE10810)[:,1]\n",
    "pro_GSE26910 = model.predict_proba(X_GSE26910)[:,1]\n",
    "pro_GSE29431 = model.predict_proba(X_GSE29431)[:,1]\n",
    "pro_GSE31192 = model.predict_proba(X_GSE31192)[:,1]\n",
    "pro_GSE33447 = model.predict_proba(X_GSE33447)[:,1]\n",
    "pro_GSE36295 = model.predict_proba(X_GSE36295)[:,1]\n",
    "pro_GSE38959 = model.predict_proba(X_GSE38959)[:,1]\n",
    "pro_GSE42568 = model.predict_proba(X_GSE42568)[:,1]\n",
    "pro_GSE65216 = model.predict_proba(X_GSE65216)[:,1]\n",
    "pro_GSE71053 = model.predict_proba(X_GSE71053)[:,1]\n",
    "pro_GSE76250 = model.predict_proba(X_GSE76250)[:,1]\n",
    "pro_GSE86374 = model.predict_proba(X_GSE86374)[:,1]\n",
    "pro_GSE162228 = model.predict_proba(X_GSE162228)[:,1]\n",
    "pro_GSE233242 = model.predict_proba(X_GSE233242)[:,1]\n",
    "pre_TCGA = model.predict(X_TCGA)\n",
    "pre_GSE5764 = model.predict(X_GSE5764)\n",
    "pre_GSE7904 = model.predict(X_GSE7904)\n",
    "pre_GSE10780 = model.predict(X_GSE10780)\n",
    "pre_GSE10810 = model.predict(X_GSE10810)\n",
    "pre_GSE26910 = model.predict(X_GSE26910)\n",
    "pre_GSE29431 = model.predict(X_GSE29431)\n",
    "pre_GSE31192 = model.predict(X_GSE31192)\n",
    "pre_GSE33447 = model.predict(X_GSE33447)\n",
    "pre_GSE36295 = model.predict(X_GSE36295)\n",
    "pre_GSE38959 = model.predict(X_GSE38959)\n",
    "pre_GSE42568 = model.predict(X_GSE42568)\n",
    "pre_GSE65216 = model.predict(X_GSE65216)\n",
    "pre_GSE71053 = model.predict(X_GSE71053)\n",
    "pre_GSE76250 = model.predict(X_GSE76250)\n",
    "pre_GSE86374 = model.predict(X_GSE86374)\n",
    "pre_GSE162228 = model.predict(X_GSE162228)\n",
    "pre_GSE233242 = model.predict(X_GSE233242)"
   ]
  },
  {
   "cell_type": "code",
   "execution_count": 8,
   "metadata": {},
   "outputs": [],
   "source": [
    "pd.DataFrame({\n",
    "    'True':y_GSE5764,\n",
    "    'Pre':pre_GSE5764\n",
    "}).to_csv('SVM_GSE5764.csv',index=False)\n",
    "pd.DataFrame({\n",
    "    'True':y_GSE7904,\n",
    "    'Pre':pre_GSE7904\n",
    "}).to_csv('SVM_GSE7904.csv',index=False)\n",
    "pd.DataFrame({\n",
    "    'True':y_GSE10780,\n",
    "    'Pre':pre_GSE10780\n",
    "}).to_csv('SVM_GSE10780.csv',index=False)\n",
    "pd.DataFrame({\n",
    "    'True':y_GSE10810,\n",
    "    'Pre':pre_GSE10810\n",
    "}).to_csv('SVM_GSE10810.csv',index=False)\n",
    "pd.DataFrame({\n",
    "    'True':y_GSE26910,\n",
    "    'Pre':pre_GSE26910\n",
    "}).to_csv('SVM_GSE26910.csv',index=False)\n",
    "pd.DataFrame({\n",
    "    'True':y_GSE29431,\n",
    "    'Pre':pre_GSE29431\n",
    "}).to_csv('SVM_GSE29431.csv',index=False)\n",
    "pd.DataFrame({\n",
    "    'True':y_GSE31192,\n",
    "    'Pre':pre_GSE31192\n",
    "}).to_csv('SVM_GSE31192.csv',index=False)\n",
    "pd.DataFrame({\n",
    "    'True':y_GSE33447,\n",
    "    'Pre':pre_GSE33447\n",
    "}).to_csv('SVM_GSE33447.csv',index=False)\n",
    "pd.DataFrame({\n",
    "    'True':y_GSE36295,\n",
    "    'Pre':pre_GSE36295\n",
    "}).to_csv('SVM_GSE36295.csv',index=False)\n",
    "pd.DataFrame({\n",
    "    'True':y_GSE38959,\n",
    "    'Pre':pre_GSE38959\n",
    "}).to_csv('SVM_GSE38959.csv',index=False)\n",
    "pd.DataFrame({\n",
    "    'True':y_GSE42568,\n",
    "    'Pre':pre_GSE42568\n",
    "}).to_csv('SVM_GSE42568.csv',index=False)\n",
    "pd.DataFrame({\n",
    "    'True':y_GSE65216,\n",
    "    'Pre':pre_GSE65216\n",
    "}).to_csv('SVM_GSE65216.csv',index=False)\n",
    "pd.DataFrame({\n",
    "    'True':y_GSE71053,\n",
    "    'Pre':pre_GSE71053\n",
    "}).to_csv('SVM_GSE71053.csv',index=False)\n",
    "pd.DataFrame({\n",
    "    'True':y_GSE76250,\n",
    "    'Pre':pre_GSE76250\n",
    "}).to_csv('SVM_GSE76250.csv',index=False)\n",
    "pd.DataFrame({\n",
    "    'True':y_GSE86374,\n",
    "    'Pre':pre_GSE86374\n",
    "}).to_csv('SVM_GSE86374.csv',index=False)\n",
    "pd.DataFrame({\n",
    "    'True':y_GSE162228,\n",
    "    'Pre':pre_GSE162228\n",
    "}).to_csv('SVM_GSE162228.csv',index=False)\n",
    "pd.DataFrame({\n",
    "    'True':y_GSE233242,\n",
    "    'Pre':pre_GSE233242\n",
    "}).to_csv('SVM_GSE233242.csv',index=False)"
   ]
  },
  {
   "cell_type": "code",
   "execution_count": 20,
   "metadata": {},
   "outputs": [
    {
     "name": "stdout",
     "output_type": "stream",
     "text": [
      "AUC = 1.000\n",
      "Accuracy = 1.000\n",
      "Sensitivity = 1.000\n",
      "Specificity = 1.000\n",
      "Precision = 1.000\n",
      "F1 = 1.000\n"
     ]
    }
   ],
   "source": [
    "print('AUC = {:.3f}'.format(roc_auc_score(y_TCGA,pro_TCGA)))\n",
    "print('Accuracy = {:.3f}'.format(accuracy_score(y_TCGA,pre_TCGA)))\n",
    "print('Sensitivity = {:.3f}'.format(sensitivity_score(y_TCGA,pre_TCGA)))\n",
    "print('Specificity = {:.3f}'.format(specificity_score(y_TCGA,pre_TCGA)))\n",
    "print('Precision = {:.3f}'.format(precision_score(y_TCGA,pre_TCGA)))\n",
    "print('F1 = {:.3f}'.format(f1_score(y_TCGA,pre_TCGA)))"
   ]
  },
  {
   "cell_type": "code",
   "execution_count": 21,
   "metadata": {},
   "outputs": [
    {
     "name": "stdout",
     "output_type": "stream",
     "text": [
      "AUC = 0.580\n",
      "Accuracy = 0.333\n",
      "Sensitivity = 1.000\n",
      "Specificity = 0.000\n",
      "Precision = 0.333\n",
      "F1 = 0.500\n"
     ]
    }
   ],
   "source": [
    "print('AUC = {:.3f}'.format(roc_auc_score(y_GSE5764,pro_GSE5764)))\n",
    "print('Accuracy = {:.3f}'.format(accuracy_score(y_GSE5764,pre_GSE5764)))\n",
    "print('Sensitivity = {:.3f}'.format(sensitivity_score(y_GSE5764,pre_GSE5764)))\n",
    "print('Specificity = {:.3f}'.format(specificity_score(y_GSE5764,pre_GSE5764)))\n",
    "print('Precision = {:.3f}'.format(precision_score(y_GSE5764,pre_GSE5764)))\n",
    "print('F1 = {:.3f}'.format(f1_score(y_GSE5764,pre_GSE5764)))"
   ]
  },
  {
   "cell_type": "code",
   "execution_count": 22,
   "metadata": {},
   "outputs": [
    {
     "name": "stdout",
     "output_type": "stream",
     "text": [
      "AUC = 0.618\n",
      "Accuracy = 0.860\n",
      "Sensitivity = 1.000\n",
      "Specificity = 0.000\n",
      "Precision = 0.860\n",
      "F1 = 0.925\n"
     ]
    }
   ],
   "source": [
    "print('AUC = {:.3f}'.format(roc_auc_score(y_GSE7904,pro_GSE7904)))\n",
    "print('Accuracy = {:.3f}'.format(accuracy_score(y_GSE7904,pre_GSE7904)))\n",
    "print('Sensitivity = {:.3f}'.format(sensitivity_score(y_GSE7904,pre_GSE7904)))\n",
    "print('Specificity = {:.3f}'.format(specificity_score(y_GSE7904,pre_GSE7904)))\n",
    "print('Precision = {:.3f}'.format(precision_score(y_GSE7904,pre_GSE7904)))\n",
    "print('F1 = {:.3f}'.format(f1_score(y_GSE7904,pre_GSE7904)))"
   ]
  },
  {
   "cell_type": "code",
   "execution_count": 23,
   "metadata": {},
   "outputs": [
    {
     "name": "stdout",
     "output_type": "stream",
     "text": [
      "AUC = 0.602\n",
      "Accuracy = 0.238\n",
      "Sensitivity = 1.000\n",
      "Specificity = 0.014\n",
      "Precision = 0.230\n",
      "F1 = 0.373\n"
     ]
    }
   ],
   "source": [
    "print('AUC = {:.3f}'.format(roc_auc_score(y_GSE10780,pro_GSE10780)))\n",
    "print('Accuracy = {:.3f}'.format(accuracy_score(y_GSE10780,pre_GSE10780)))\n",
    "print('Sensitivity = {:.3f}'.format(sensitivity_score(y_GSE10780,pre_GSE10780)))\n",
    "print('Specificity = {:.3f}'.format(specificity_score(y_GSE10780,pre_GSE10780)))\n",
    "print('Precision = {:.3f}'.format(precision_score(y_GSE10780,pre_GSE10780)))\n",
    "print('F1 = {:.3f}'.format(f1_score(y_GSE10780,pre_GSE10780)))"
   ]
  },
  {
   "cell_type": "code",
   "execution_count": 24,
   "metadata": {},
   "outputs": [
    {
     "name": "stdout",
     "output_type": "stream",
     "text": [
      "AUC = 0.615\n",
      "Accuracy = 0.534\n",
      "Sensitivity = 1.000\n",
      "Specificity = 0.000\n",
      "Precision = 0.534\n",
      "F1 = 0.697\n"
     ]
    }
   ],
   "source": [
    "print('AUC = {:.3f}'.format(roc_auc_score(y_GSE10810,pro_GSE10810)))\n",
    "print('Accuracy = {:.3f}'.format(accuracy_score(y_GSE10810,pre_GSE10810)))\n",
    "print('Sensitivity = {:.3f}'.format(sensitivity_score(y_GSE10810,pre_GSE10810)))\n",
    "print('Specificity = {:.3f}'.format(specificity_score(y_GSE10810,pre_GSE10810)))\n",
    "print('Precision = {:.3f}'.format(precision_score(y_GSE10810,pre_GSE10810)))\n",
    "print('F1 = {:.3f}'.format(f1_score(y_GSE10810,pre_GSE10810)))"
   ]
  },
  {
   "cell_type": "code",
   "execution_count": 25,
   "metadata": {},
   "outputs": [
    {
     "name": "stdout",
     "output_type": "stream",
     "text": [
      "AUC = 0.917\n",
      "Accuracy = 0.500\n",
      "Sensitivity = 1.000\n",
      "Specificity = 0.000\n",
      "Precision = 0.500\n",
      "F1 = 0.667\n"
     ]
    }
   ],
   "source": [
    "print('AUC = {:.3f}'.format(roc_auc_score(y_GSE26910,pro_GSE26910)))\n",
    "print('Accuracy = {:.3f}'.format(accuracy_score(y_GSE26910,pre_GSE26910)))\n",
    "print('Sensitivity = {:.3f}'.format(sensitivity_score(y_GSE26910,pre_GSE26910)))\n",
    "print('Specificity = {:.3f}'.format(specificity_score(y_GSE26910,pre_GSE26910)))\n",
    "print('Precision = {:.3f}'.format(precision_score(y_GSE26910,pre_GSE26910)))\n",
    "print('F1 = {:.3f}'.format(f1_score(y_GSE26910,pre_GSE26910)))"
   ]
  },
  {
   "cell_type": "code",
   "execution_count": 26,
   "metadata": {},
   "outputs": [
    {
     "name": "stdout",
     "output_type": "stream",
     "text": [
      "AUC = 0.981\n",
      "Accuracy = 0.818\n",
      "Sensitivity = 1.000\n",
      "Specificity = 0.000\n",
      "Precision = 0.818\n",
      "F1 = 0.900\n"
     ]
    }
   ],
   "source": [
    "print('AUC = {:.3f}'.format(roc_auc_score(y_GSE29431,pro_GSE29431)))\n",
    "print('Accuracy = {:.3f}'.format(accuracy_score(y_GSE29431,pre_GSE29431)))\n",
    "print('Sensitivity = {:.3f}'.format(sensitivity_score(y_GSE29431,pre_GSE29431)))\n",
    "print('Specificity = {:.3f}'.format(specificity_score(y_GSE29431,pre_GSE29431)))\n",
    "print('Precision = {:.3f}'.format(precision_score(y_GSE29431,pre_GSE29431)))\n",
    "print('F1 = {:.3f}'.format(f1_score(y_GSE29431,pre_GSE29431)))"
   ]
  },
  {
   "cell_type": "code",
   "execution_count": 27,
   "metadata": {},
   "outputs": [
    {
     "name": "stdout",
     "output_type": "stream",
     "text": [
      "AUC = 0.535\n",
      "Accuracy = 0.606\n",
      "Sensitivity = 1.000\n",
      "Specificity = 0.000\n",
      "Precision = 0.606\n",
      "F1 = 0.755\n"
     ]
    }
   ],
   "source": [
    "print('AUC = {:.3f}'.format(roc_auc_score(y_GSE31192,pro_GSE31192)))\n",
    "print('Accuracy = {:.3f}'.format(accuracy_score(y_GSE31192,pre_GSE31192)))\n",
    "print('Sensitivity = {:.3f}'.format(sensitivity_score(y_GSE31192,pre_GSE31192)))\n",
    "print('Specificity = {:.3f}'.format(specificity_score(y_GSE31192,pre_GSE31192)))\n",
    "print('Precision = {:.3f}'.format(precision_score(y_GSE31192,pre_GSE31192)))\n",
    "print('F1 = {:.3f}'.format(f1_score(y_GSE31192,pre_GSE31192)))"
   ]
  },
  {
   "cell_type": "code",
   "execution_count": 28,
   "metadata": {},
   "outputs": [
    {
     "name": "stdout",
     "output_type": "stream",
     "text": [
      "AUC = 0.750\n",
      "Accuracy = 0.562\n",
      "Sensitivity = 1.000\n",
      "Specificity = 0.125\n",
      "Precision = 0.533\n",
      "F1 = 0.696\n"
     ]
    }
   ],
   "source": [
    "print('AUC = {:.3f}'.format(roc_auc_score(y_GSE33447,pro_GSE33447)))\n",
    "print('Accuracy = {:.3f}'.format(accuracy_score(y_GSE33447,pre_GSE33447)))\n",
    "print('Sensitivity = {:.3f}'.format(sensitivity_score(y_GSE33447,pre_GSE33447)))\n",
    "print('Specificity = {:.3f}'.format(specificity_score(y_GSE33447,pre_GSE33447)))\n",
    "print('Precision = {:.3f}'.format(precision_score(y_GSE33447,pre_GSE33447)))\n",
    "print('F1 = {:.3f}'.format(f1_score(y_GSE33447,pre_GSE33447)))"
   ]
  },
  {
   "cell_type": "code",
   "execution_count": 29,
   "metadata": {},
   "outputs": [
    {
     "name": "stdout",
     "output_type": "stream",
     "text": [
      "AUC = 0.791\n",
      "Accuracy = 0.900\n",
      "Sensitivity = 1.000\n",
      "Specificity = 0.000\n",
      "Precision = 0.900\n",
      "F1 = 0.947\n"
     ]
    }
   ],
   "source": [
    "print('AUC = {:.3f}'.format(roc_auc_score(y_GSE36295,pro_GSE36295)))\n",
    "print('Accuracy = {:.3f}'.format(accuracy_score(y_GSE36295,pre_GSE36295)))\n",
    "print('Sensitivity = {:.3f}'.format(sensitivity_score(y_GSE36295,pre_GSE36295)))\n",
    "print('Specificity = {:.3f}'.format(specificity_score(y_GSE36295,pre_GSE36295)))\n",
    "print('Precision = {:.3f}'.format(precision_score(y_GSE36295,pre_GSE36295)))\n",
    "print('F1 = {:.3f}'.format(f1_score(y_GSE36295,pre_GSE36295)))"
   ]
  },
  {
   "cell_type": "code",
   "execution_count": 30,
   "metadata": {},
   "outputs": [
    {
     "name": "stdout",
     "output_type": "stream",
     "text": [
      "AUC = 0.504\n",
      "Accuracy = 0.638\n",
      "Sensitivity = 1.000\n",
      "Specificity = 0.000\n",
      "Precision = 0.638\n",
      "F1 = 0.779\n"
     ]
    }
   ],
   "source": [
    "print('AUC = {:.3f}'.format(roc_auc_score(y_GSE38959,pro_GSE38959)))\n",
    "print('Accuracy = {:.3f}'.format(accuracy_score(y_GSE38959,pre_GSE38959)))\n",
    "print('Sensitivity = {:.3f}'.format(sensitivity_score(y_GSE38959,pre_GSE38959)))\n",
    "print('Specificity = {:.3f}'.format(specificity_score(y_GSE38959,pre_GSE38959)))\n",
    "print('Precision = {:.3f}'.format(precision_score(y_GSE38959,pre_GSE38959)))\n",
    "print('F1 = {:.3f}'.format(f1_score(y_GSE38959,pre_GSE38959)))"
   ]
  },
  {
   "cell_type": "code",
   "execution_count": 31,
   "metadata": {},
   "outputs": [
    {
     "name": "stdout",
     "output_type": "stream",
     "text": [
      "AUC = 0.899\n",
      "Accuracy = 0.860\n",
      "Sensitivity = 1.000\n",
      "Specificity = 0.000\n",
      "Precision = 0.860\n",
      "F1 = 0.924\n"
     ]
    }
   ],
   "source": [
    "print('AUC = {:.3f}'.format(roc_auc_score(y_GSE42568,pro_GSE42568)))\n",
    "print('Accuracy = {:.3f}'.format(accuracy_score(y_GSE42568,pre_GSE42568)))\n",
    "print('Sensitivity = {:.3f}'.format(sensitivity_score(y_GSE42568,pre_GSE42568)))\n",
    "print('Specificity = {:.3f}'.format(specificity_score(y_GSE42568,pre_GSE42568)))\n",
    "print('Precision = {:.3f}'.format(precision_score(y_GSE42568,pre_GSE42568)))\n",
    "print('F1 = {:.3f}'.format(f1_score(y_GSE42568,pre_GSE42568)))"
   ]
  },
  {
   "cell_type": "code",
   "execution_count": 32,
   "metadata": {},
   "outputs": [
    {
     "name": "stdout",
     "output_type": "stream",
     "text": [
      "AUC = 0.997\n",
      "Accuracy = 0.936\n",
      "Sensitivity = 1.000\n",
      "Specificity = 0.045\n",
      "Precision = 0.936\n",
      "F1 = 0.967\n"
     ]
    }
   ],
   "source": [
    "print('AUC = {:.3f}'.format(roc_auc_score(y_GSE65216,pro_GSE65216)))\n",
    "print('Accuracy = {:.3f}'.format(accuracy_score(y_GSE65216,pre_GSE65216)))\n",
    "print('Sensitivity = {:.3f}'.format(sensitivity_score(y_GSE65216,pre_GSE65216)))\n",
    "print('Specificity = {:.3f}'.format(specificity_score(y_GSE65216,pre_GSE65216)))\n",
    "print('Precision = {:.3f}'.format(precision_score(y_GSE65216,pre_GSE65216)))\n",
    "print('F1 = {:.3f}'.format(f1_score(y_GSE65216,pre_GSE65216)))"
   ]
  },
  {
   "cell_type": "code",
   "execution_count": 33,
   "metadata": {},
   "outputs": [
    {
     "name": "stdout",
     "output_type": "stream",
     "text": [
      "AUC = 0.653\n",
      "Accuracy = 0.333\n",
      "Sensitivity = 1.000\n",
      "Specificity = 0.000\n",
      "Precision = 0.333\n",
      "F1 = 0.500\n"
     ]
    }
   ],
   "source": [
    "print('AUC = {:.3f}'.format(roc_auc_score(y_GSE71053,pro_GSE71053)))\n",
    "print('Accuracy = {:.3f}'.format(accuracy_score(y_GSE71053,pre_GSE71053)))\n",
    "print('Sensitivity = {:.3f}'.format(sensitivity_score(y_GSE71053,pre_GSE71053)))\n",
    "print('Specificity = {:.3f}'.format(specificity_score(y_GSE71053,pre_GSE71053)))\n",
    "print('Precision = {:.3f}'.format(precision_score(y_GSE71053,pre_GSE71053)))\n",
    "print('F1 = {:.3f}'.format(f1_score(y_GSE71053,pre_GSE71053)))"
   ]
  },
  {
   "cell_type": "code",
   "execution_count": 34,
   "metadata": {},
   "outputs": [
    {
     "name": "stdout",
     "output_type": "stream",
     "text": [
      "AUC = 0.250\n",
      "Accuracy = 0.833\n",
      "Sensitivity = 1.000\n",
      "Specificity = 0.000\n",
      "Precision = 0.833\n",
      "F1 = 0.909\n"
     ]
    }
   ],
   "source": [
    "print('AUC = {:.3f}'.format(roc_auc_score(y_GSE76250,pro_GSE76250)))\n",
    "print('Accuracy = {:.3f}'.format(accuracy_score(y_GSE76250,pre_GSE76250)))\n",
    "print('Sensitivity = {:.3f}'.format(sensitivity_score(y_GSE76250,pre_GSE76250)))\n",
    "print('Specificity = {:.3f}'.format(specificity_score(y_GSE76250,pre_GSE76250)))\n",
    "print('Precision = {:.3f}'.format(precision_score(y_GSE76250,pre_GSE76250)))\n",
    "print('F1 = {:.3f}'.format(f1_score(y_GSE76250,pre_GSE76250)))"
   ]
  },
  {
   "cell_type": "code",
   "execution_count": 35,
   "metadata": {},
   "outputs": [
    {
     "name": "stdout",
     "output_type": "stream",
     "text": [
      "AUC = 0.344\n",
      "Accuracy = 0.780\n",
      "Sensitivity = 1.000\n",
      "Specificity = 0.000\n",
      "Precision = 0.780\n",
      "F1 = 0.876\n"
     ]
    }
   ],
   "source": [
    "print('AUC = {:.3f}'.format(roc_auc_score(y_GSE86374,pro_GSE86374)))\n",
    "print('Accuracy = {:.3f}'.format(accuracy_score(y_GSE86374,pre_GSE86374)))\n",
    "print('Sensitivity = {:.3f}'.format(sensitivity_score(y_GSE86374,pre_GSE86374)))\n",
    "print('Specificity = {:.3f}'.format(specificity_score(y_GSE86374,pre_GSE86374)))\n",
    "print('Precision = {:.3f}'.format(precision_score(y_GSE86374,pre_GSE86374)))\n",
    "print('F1 = {:.3f}'.format(f1_score(y_GSE86374,pre_GSE86374)))"
   ]
  },
  {
   "cell_type": "code",
   "execution_count": 36,
   "metadata": {},
   "outputs": [
    {
     "name": "stdout",
     "output_type": "stream",
     "text": [
      "AUC = 0.650\n",
      "Accuracy = 0.827\n",
      "Sensitivity = 1.000\n",
      "Specificity = 0.000\n",
      "Precision = 0.827\n",
      "F1 = 0.905\n"
     ]
    }
   ],
   "source": [
    "print('AUC = {:.3f}'.format(roc_auc_score(y_GSE162228,pro_GSE162228)))\n",
    "print('Accuracy = {:.3f}'.format(accuracy_score(y_GSE162228,pre_GSE162228)))\n",
    "print('Sensitivity = {:.3f}'.format(sensitivity_score(y_GSE162228,pre_GSE162228)))\n",
    "print('Specificity = {:.3f}'.format(specificity_score(y_GSE162228,pre_GSE162228)))\n",
    "print('Precision = {:.3f}'.format(precision_score(y_GSE162228,pre_GSE162228)))\n",
    "print('F1 = {:.3f}'.format(f1_score(y_GSE162228,pre_GSE162228)))"
   ]
  },
  {
   "cell_type": "code",
   "execution_count": 37,
   "metadata": {},
   "outputs": [
    {
     "name": "stdout",
     "output_type": "stream",
     "text": [
      "AUC = 0.889\n",
      "Accuracy = 0.570\n",
      "Sensitivity = 1.000\n",
      "Specificity = 0.140\n",
      "Precision = 0.537\n",
      "F1 = 0.699\n"
     ]
    }
   ],
   "source": [
    "print('AUC = {:.3f}'.format(roc_auc_score(y_GSE233242,pro_GSE233242)))\n",
    "print('Accuracy = {:.3f}'.format(accuracy_score(y_GSE233242,pre_GSE233242)))\n",
    "print('Sensitivity = {:.3f}'.format(sensitivity_score(y_GSE233242,pre_GSE233242)))\n",
    "print('Specificity = {:.3f}'.format(specificity_score(y_GSE233242,pre_GSE233242)))\n",
    "print('Precision = {:.3f}'.format(precision_score(y_GSE233242,pre_GSE233242)))\n",
    "print('F1 = {:.3f}'.format(f1_score(y_GSE233242,pre_GSE233242)))"
   ]
  },
  {
   "cell_type": "code",
   "execution_count": null,
   "metadata": {},
   "outputs": [],
   "source": []
  }
 ],
 "metadata": {
  "kernelspec": {
   "display_name": "tabpfn",
   "language": "python",
   "name": "python3"
  },
  "language_info": {
   "codemirror_mode": {
    "name": "ipython",
    "version": 3
   },
   "file_extension": ".py",
   "mimetype": "text/x-python",
   "name": "python",
   "nbconvert_exporter": "python",
   "pygments_lexer": "ipython3",
   "version": "3.11.11"
  }
 },
 "nbformat": 4,
 "nbformat_minor": 2
}
