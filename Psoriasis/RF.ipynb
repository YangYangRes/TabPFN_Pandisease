{
 "cells": [
  {
   "cell_type": "code",
   "execution_count": 1,
   "metadata": {},
   "outputs": [],
   "source": [
    "import warnings\n",
    "warnings.filterwarnings('ignore')"
   ]
  },
  {
   "cell_type": "code",
   "execution_count": 2,
   "metadata": {},
   "outputs": [],
   "source": [
    "import pandas as pd\n",
    "import numpy as np\n",
    "from sklearn.model_selection import RepeatedStratifiedKFold\n",
    "from sklearn.ensemble import RandomForestClassifier\n",
    "from sklearn.metrics import roc_auc_score\n",
    "from sklearn.metrics import accuracy_score\n",
    "from sklearn.metrics import f1_score\n",
    "from imblearn.metrics import sensitivity_score\n",
    "from imblearn.metrics import specificity_score\n",
    "from sklearn.metrics import precision_score"
   ]
  },
  {
   "cell_type": "code",
   "execution_count": 3,
   "metadata": {},
   "outputs": [],
   "source": [
    "seed = 874356351"
   ]
  },
  {
   "cell_type": "code",
   "execution_count": 4,
   "metadata": {},
   "outputs": [],
   "source": [
    "GSE54456 = pd.read_csv('data_GSE54456.csv')\n",
    "X_GSE54456 = GSE54456.iloc[:,2:]\n",
    "y_GSE54456 = GSE54456.iloc[:,1]\n",
    "GSE13355 = pd.read_csv('data_GSE13355.csv')\n",
    "X_GSE13355 = GSE13355.iloc[:,2:]\n",
    "y_GSE13355 = GSE13355.iloc[:,1]\n",
    "GSE14905 = pd.read_csv('data_GSE14905.csv')\n",
    "X_GSE14905 = GSE14905.iloc[:,2:]\n",
    "y_GSE14905 = GSE14905.iloc[:,1]\n",
    "GSE16161 = pd.read_csv('data_GSE16161.csv')\n",
    "X_GSE16161 = GSE16161.iloc[:,2:]\n",
    "y_GSE16161 = GSE16161.iloc[:,1]\n",
    "GSE66511 = pd.read_csv('data_GSE66511.csv')\n",
    "X_GSE66511 = GSE66511.iloc[:,2:]\n",
    "y_GSE66511 = GSE66511.iloc[:,1]\n",
    "GSE75890 = pd.read_csv('data_GSE75890.csv')\n",
    "X_GSE75890 = GSE75890.iloc[:,2:]\n",
    "y_GSE75890 = GSE75890.iloc[:,1]\n",
    "GSE78097 = pd.read_csv('data_GSE78097.csv')\n",
    "X_GSE78097 = GSE78097.iloc[:,2:]\n",
    "y_GSE78097 = GSE78097.iloc[:,1]\n",
    "GSE79704 = pd.read_csv('data_GSE79704.csv')\n",
    "X_GSE79704 = GSE79704.iloc[:,2:]\n",
    "y_GSE79704 = GSE79704.iloc[:,1]\n",
    "GSE83582 = pd.read_csv('data_GSE83582.csv')\n",
    "X_GSE83582 = GSE83582.iloc[:,2:]\n",
    "y_GSE83582 = GSE83582.iloc[:,1]\n",
    "GSE109248 = pd.read_csv('data_GSE109248.csv')\n",
    "X_GSE109248 = GSE109248.iloc[:,2:]\n",
    "y_GSE109248 = GSE109248.iloc[:,1]\n",
    "GSE114286 = pd.read_csv('data_GSE114286.csv')\n",
    "X_GSE114286 = GSE114286.iloc[:,2:]\n",
    "y_GSE114286 = GSE114286.iloc[:,1]\n",
    "GSE121212 = pd.read_csv('data_GSE121212.csv')\n",
    "X_GSE121212 = GSE121212.iloc[:,2:]\n",
    "y_GSE121212 = GSE121212.iloc[:,1]\n",
    "GSE182740 = pd.read_csv('data_GSE182740.csv')\n",
    "X_GSE182740 = GSE182740.iloc[:,2:]\n",
    "y_GSE182740 = GSE182740.iloc[:,1]"
   ]
  },
  {
   "cell_type": "code",
   "execution_count": 5,
   "metadata": {},
   "outputs": [],
   "source": [
    "sp = RepeatedStratifiedKFold(random_state=seed,n_repeats=3,n_splits=5)"
   ]
  },
  {
   "cell_type": "code",
   "execution_count": 55,
   "metadata": {},
   "outputs": [],
   "source": [
    "import hyperopt\n",
    "from hyperopt import hp"
   ]
  },
  {
   "cell_type": "code",
   "execution_count": 56,
   "metadata": {},
   "outputs": [],
   "source": [
    "def objective(params):\n",
    "    aucs = []\n",
    "    for train_index,test_index in sp.split(X_GSE54456,y_GSE54456):\n",
    "        X_train = X_GSE54456.iloc[train_index,:]\n",
    "        X_vali = X_GSE54456.iloc[test_index,:]\n",
    "        y_train = y_GSE54456[train_index]\n",
    "        y_vali = y_GSE54456[test_index]\n",
    "        model = RandomForestClassifier(random_state=seed,\n",
    "                                       n_estimators=params['n_estimators'],\n",
    "                                       max_depth=params['max_depth'],\n",
    "                                       min_samples_split=params['min_samples_split'],\n",
    "                                       min_samples_leaf=params['min_samples_leaf'])\n",
    "        model.fit(X_train,y_train)\n",
    "        pro_vali = model.predict_proba(X_vali)[:,1]\n",
    "        auc_vali = roc_auc_score(y_vali,pro_vali)\n",
    "        aucs.append(auc_vali)\n",
    "    return -np.mean(aucs)"
   ]
  },
  {
   "cell_type": "code",
   "execution_count": 57,
   "metadata": {},
   "outputs": [],
   "source": [
    "space = {\n",
    "    'n_estimators':hp.choice('n_estimators',range(2,100)),\n",
    "    'max_depth':hp.choice('max_depth',range(1,10)),\n",
    "    'min_samples_split':hp.choice('min_samples_split',range(2,100)),\n",
    "    'min_samples_leaf':hp.choice('min_samples_leaf',range(2,100)),\n",
    "}"
   ]
  },
  {
   "cell_type": "code",
   "execution_count": 58,
   "metadata": {},
   "outputs": [
    {
     "name": "stdout",
     "output_type": "stream",
     "text": [
      "100%|██████████| 100/100 [01:47<00:00,  1.07s/trial, best loss: -1.0]\n"
     ]
    }
   ],
   "source": [
    "best_param = hyperopt.fmin(objective,space,hyperopt.tpe.suggest,max_evals=100)"
   ]
  },
  {
   "cell_type": "code",
   "execution_count": 59,
   "metadata": {},
   "outputs": [
    {
     "data": {
      "text/plain": [
       "{'max_depth': np.int64(3),\n",
       " 'min_samples_leaf': np.int64(40),\n",
       " 'min_samples_split': np.int64(85),\n",
       " 'n_estimators': np.int64(27)}"
      ]
     },
     "execution_count": 59,
     "metadata": {},
     "output_type": "execute_result"
    }
   ],
   "source": [
    "best_param"
   ]
  },
  {
   "cell_type": "code",
   "execution_count": 6,
   "metadata": {},
   "outputs": [
    {
     "data": {
      "text/html": [
       "<style>#sk-container-id-1 {\n",
       "  /* Definition of color scheme common for light and dark mode */\n",
       "  --sklearn-color-text: #000;\n",
       "  --sklearn-color-text-muted: #666;\n",
       "  --sklearn-color-line: gray;\n",
       "  /* Definition of color scheme for unfitted estimators */\n",
       "  --sklearn-color-unfitted-level-0: #fff5e6;\n",
       "  --sklearn-color-unfitted-level-1: #f6e4d2;\n",
       "  --sklearn-color-unfitted-level-2: #ffe0b3;\n",
       "  --sklearn-color-unfitted-level-3: chocolate;\n",
       "  /* Definition of color scheme for fitted estimators */\n",
       "  --sklearn-color-fitted-level-0: #f0f8ff;\n",
       "  --sklearn-color-fitted-level-1: #d4ebff;\n",
       "  --sklearn-color-fitted-level-2: #b3dbfd;\n",
       "  --sklearn-color-fitted-level-3: cornflowerblue;\n",
       "\n",
       "  /* Specific color for light theme */\n",
       "  --sklearn-color-text-on-default-background: var(--sg-text-color, var(--theme-code-foreground, var(--jp-content-font-color1, black)));\n",
       "  --sklearn-color-background: var(--sg-background-color, var(--theme-background, var(--jp-layout-color0, white)));\n",
       "  --sklearn-color-border-box: var(--sg-text-color, var(--theme-code-foreground, var(--jp-content-font-color1, black)));\n",
       "  --sklearn-color-icon: #696969;\n",
       "\n",
       "  @media (prefers-color-scheme: dark) {\n",
       "    /* Redefinition of color scheme for dark theme */\n",
       "    --sklearn-color-text-on-default-background: var(--sg-text-color, var(--theme-code-foreground, var(--jp-content-font-color1, white)));\n",
       "    --sklearn-color-background: var(--sg-background-color, var(--theme-background, var(--jp-layout-color0, #111)));\n",
       "    --sklearn-color-border-box: var(--sg-text-color, var(--theme-code-foreground, var(--jp-content-font-color1, white)));\n",
       "    --sklearn-color-icon: #878787;\n",
       "  }\n",
       "}\n",
       "\n",
       "#sk-container-id-1 {\n",
       "  color: var(--sklearn-color-text);\n",
       "}\n",
       "\n",
       "#sk-container-id-1 pre {\n",
       "  padding: 0;\n",
       "}\n",
       "\n",
       "#sk-container-id-1 input.sk-hidden--visually {\n",
       "  border: 0;\n",
       "  clip: rect(1px 1px 1px 1px);\n",
       "  clip: rect(1px, 1px, 1px, 1px);\n",
       "  height: 1px;\n",
       "  margin: -1px;\n",
       "  overflow: hidden;\n",
       "  padding: 0;\n",
       "  position: absolute;\n",
       "  width: 1px;\n",
       "}\n",
       "\n",
       "#sk-container-id-1 div.sk-dashed-wrapped {\n",
       "  border: 1px dashed var(--sklearn-color-line);\n",
       "  margin: 0 0.4em 0.5em 0.4em;\n",
       "  box-sizing: border-box;\n",
       "  padding-bottom: 0.4em;\n",
       "  background-color: var(--sklearn-color-background);\n",
       "}\n",
       "\n",
       "#sk-container-id-1 div.sk-container {\n",
       "  /* jupyter's `normalize.less` sets `[hidden] { display: none; }`\n",
       "     but bootstrap.min.css set `[hidden] { display: none !important; }`\n",
       "     so we also need the `!important` here to be able to override the\n",
       "     default hidden behavior on the sphinx rendered scikit-learn.org.\n",
       "     See: https://github.com/scikit-learn/scikit-learn/issues/21755 */\n",
       "  display: inline-block !important;\n",
       "  position: relative;\n",
       "}\n",
       "\n",
       "#sk-container-id-1 div.sk-text-repr-fallback {\n",
       "  display: none;\n",
       "}\n",
       "\n",
       "div.sk-parallel-item,\n",
       "div.sk-serial,\n",
       "div.sk-item {\n",
       "  /* draw centered vertical line to link estimators */\n",
       "  background-image: linear-gradient(var(--sklearn-color-text-on-default-background), var(--sklearn-color-text-on-default-background));\n",
       "  background-size: 2px 100%;\n",
       "  background-repeat: no-repeat;\n",
       "  background-position: center center;\n",
       "}\n",
       "\n",
       "/* Parallel-specific style estimator block */\n",
       "\n",
       "#sk-container-id-1 div.sk-parallel-item::after {\n",
       "  content: \"\";\n",
       "  width: 100%;\n",
       "  border-bottom: 2px solid var(--sklearn-color-text-on-default-background);\n",
       "  flex-grow: 1;\n",
       "}\n",
       "\n",
       "#sk-container-id-1 div.sk-parallel {\n",
       "  display: flex;\n",
       "  align-items: stretch;\n",
       "  justify-content: center;\n",
       "  background-color: var(--sklearn-color-background);\n",
       "  position: relative;\n",
       "}\n",
       "\n",
       "#sk-container-id-1 div.sk-parallel-item {\n",
       "  display: flex;\n",
       "  flex-direction: column;\n",
       "}\n",
       "\n",
       "#sk-container-id-1 div.sk-parallel-item:first-child::after {\n",
       "  align-self: flex-end;\n",
       "  width: 50%;\n",
       "}\n",
       "\n",
       "#sk-container-id-1 div.sk-parallel-item:last-child::after {\n",
       "  align-self: flex-start;\n",
       "  width: 50%;\n",
       "}\n",
       "\n",
       "#sk-container-id-1 div.sk-parallel-item:only-child::after {\n",
       "  width: 0;\n",
       "}\n",
       "\n",
       "/* Serial-specific style estimator block */\n",
       "\n",
       "#sk-container-id-1 div.sk-serial {\n",
       "  display: flex;\n",
       "  flex-direction: column;\n",
       "  align-items: center;\n",
       "  background-color: var(--sklearn-color-background);\n",
       "  padding-right: 1em;\n",
       "  padding-left: 1em;\n",
       "}\n",
       "\n",
       "\n",
       "/* Toggleable style: style used for estimator/Pipeline/ColumnTransformer box that is\n",
       "clickable and can be expanded/collapsed.\n",
       "- Pipeline and ColumnTransformer use this feature and define the default style\n",
       "- Estimators will overwrite some part of the style using the `sk-estimator` class\n",
       "*/\n",
       "\n",
       "/* Pipeline and ColumnTransformer style (default) */\n",
       "\n",
       "#sk-container-id-1 div.sk-toggleable {\n",
       "  /* Default theme specific background. It is overwritten whether we have a\n",
       "  specific estimator or a Pipeline/ColumnTransformer */\n",
       "  background-color: var(--sklearn-color-background);\n",
       "}\n",
       "\n",
       "/* Toggleable label */\n",
       "#sk-container-id-1 label.sk-toggleable__label {\n",
       "  cursor: pointer;\n",
       "  display: flex;\n",
       "  width: 100%;\n",
       "  margin-bottom: 0;\n",
       "  padding: 0.5em;\n",
       "  box-sizing: border-box;\n",
       "  text-align: center;\n",
       "  align-items: start;\n",
       "  justify-content: space-between;\n",
       "  gap: 0.5em;\n",
       "}\n",
       "\n",
       "#sk-container-id-1 label.sk-toggleable__label .caption {\n",
       "  font-size: 0.6rem;\n",
       "  font-weight: lighter;\n",
       "  color: var(--sklearn-color-text-muted);\n",
       "}\n",
       "\n",
       "#sk-container-id-1 label.sk-toggleable__label-arrow:before {\n",
       "  /* Arrow on the left of the label */\n",
       "  content: \"▸\";\n",
       "  float: left;\n",
       "  margin-right: 0.25em;\n",
       "  color: var(--sklearn-color-icon);\n",
       "}\n",
       "\n",
       "#sk-container-id-1 label.sk-toggleable__label-arrow:hover:before {\n",
       "  color: var(--sklearn-color-text);\n",
       "}\n",
       "\n",
       "/* Toggleable content - dropdown */\n",
       "\n",
       "#sk-container-id-1 div.sk-toggleable__content {\n",
       "  max-height: 0;\n",
       "  max-width: 0;\n",
       "  overflow: hidden;\n",
       "  text-align: left;\n",
       "  /* unfitted */\n",
       "  background-color: var(--sklearn-color-unfitted-level-0);\n",
       "}\n",
       "\n",
       "#sk-container-id-1 div.sk-toggleable__content.fitted {\n",
       "  /* fitted */\n",
       "  background-color: var(--sklearn-color-fitted-level-0);\n",
       "}\n",
       "\n",
       "#sk-container-id-1 div.sk-toggleable__content pre {\n",
       "  margin: 0.2em;\n",
       "  border-radius: 0.25em;\n",
       "  color: var(--sklearn-color-text);\n",
       "  /* unfitted */\n",
       "  background-color: var(--sklearn-color-unfitted-level-0);\n",
       "}\n",
       "\n",
       "#sk-container-id-1 div.sk-toggleable__content.fitted pre {\n",
       "  /* unfitted */\n",
       "  background-color: var(--sklearn-color-fitted-level-0);\n",
       "}\n",
       "\n",
       "#sk-container-id-1 input.sk-toggleable__control:checked~div.sk-toggleable__content {\n",
       "  /* Expand drop-down */\n",
       "  max-height: 200px;\n",
       "  max-width: 100%;\n",
       "  overflow: auto;\n",
       "}\n",
       "\n",
       "#sk-container-id-1 input.sk-toggleable__control:checked~label.sk-toggleable__label-arrow:before {\n",
       "  content: \"▾\";\n",
       "}\n",
       "\n",
       "/* Pipeline/ColumnTransformer-specific style */\n",
       "\n",
       "#sk-container-id-1 div.sk-label input.sk-toggleable__control:checked~label.sk-toggleable__label {\n",
       "  color: var(--sklearn-color-text);\n",
       "  background-color: var(--sklearn-color-unfitted-level-2);\n",
       "}\n",
       "\n",
       "#sk-container-id-1 div.sk-label.fitted input.sk-toggleable__control:checked~label.sk-toggleable__label {\n",
       "  background-color: var(--sklearn-color-fitted-level-2);\n",
       "}\n",
       "\n",
       "/* Estimator-specific style */\n",
       "\n",
       "/* Colorize estimator box */\n",
       "#sk-container-id-1 div.sk-estimator input.sk-toggleable__control:checked~label.sk-toggleable__label {\n",
       "  /* unfitted */\n",
       "  background-color: var(--sklearn-color-unfitted-level-2);\n",
       "}\n",
       "\n",
       "#sk-container-id-1 div.sk-estimator.fitted input.sk-toggleable__control:checked~label.sk-toggleable__label {\n",
       "  /* fitted */\n",
       "  background-color: var(--sklearn-color-fitted-level-2);\n",
       "}\n",
       "\n",
       "#sk-container-id-1 div.sk-label label.sk-toggleable__label,\n",
       "#sk-container-id-1 div.sk-label label {\n",
       "  /* The background is the default theme color */\n",
       "  color: var(--sklearn-color-text-on-default-background);\n",
       "}\n",
       "\n",
       "/* On hover, darken the color of the background */\n",
       "#sk-container-id-1 div.sk-label:hover label.sk-toggleable__label {\n",
       "  color: var(--sklearn-color-text);\n",
       "  background-color: var(--sklearn-color-unfitted-level-2);\n",
       "}\n",
       "\n",
       "/* Label box, darken color on hover, fitted */\n",
       "#sk-container-id-1 div.sk-label.fitted:hover label.sk-toggleable__label.fitted {\n",
       "  color: var(--sklearn-color-text);\n",
       "  background-color: var(--sklearn-color-fitted-level-2);\n",
       "}\n",
       "\n",
       "/* Estimator label */\n",
       "\n",
       "#sk-container-id-1 div.sk-label label {\n",
       "  font-family: monospace;\n",
       "  font-weight: bold;\n",
       "  display: inline-block;\n",
       "  line-height: 1.2em;\n",
       "}\n",
       "\n",
       "#sk-container-id-1 div.sk-label-container {\n",
       "  text-align: center;\n",
       "}\n",
       "\n",
       "/* Estimator-specific */\n",
       "#sk-container-id-1 div.sk-estimator {\n",
       "  font-family: monospace;\n",
       "  border: 1px dotted var(--sklearn-color-border-box);\n",
       "  border-radius: 0.25em;\n",
       "  box-sizing: border-box;\n",
       "  margin-bottom: 0.5em;\n",
       "  /* unfitted */\n",
       "  background-color: var(--sklearn-color-unfitted-level-0);\n",
       "}\n",
       "\n",
       "#sk-container-id-1 div.sk-estimator.fitted {\n",
       "  /* fitted */\n",
       "  background-color: var(--sklearn-color-fitted-level-0);\n",
       "}\n",
       "\n",
       "/* on hover */\n",
       "#sk-container-id-1 div.sk-estimator:hover {\n",
       "  /* unfitted */\n",
       "  background-color: var(--sklearn-color-unfitted-level-2);\n",
       "}\n",
       "\n",
       "#sk-container-id-1 div.sk-estimator.fitted:hover {\n",
       "  /* fitted */\n",
       "  background-color: var(--sklearn-color-fitted-level-2);\n",
       "}\n",
       "\n",
       "/* Specification for estimator info (e.g. \"i\" and \"?\") */\n",
       "\n",
       "/* Common style for \"i\" and \"?\" */\n",
       "\n",
       ".sk-estimator-doc-link,\n",
       "a:link.sk-estimator-doc-link,\n",
       "a:visited.sk-estimator-doc-link {\n",
       "  float: right;\n",
       "  font-size: smaller;\n",
       "  line-height: 1em;\n",
       "  font-family: monospace;\n",
       "  background-color: var(--sklearn-color-background);\n",
       "  border-radius: 1em;\n",
       "  height: 1em;\n",
       "  width: 1em;\n",
       "  text-decoration: none !important;\n",
       "  margin-left: 0.5em;\n",
       "  text-align: center;\n",
       "  /* unfitted */\n",
       "  border: var(--sklearn-color-unfitted-level-1) 1pt solid;\n",
       "  color: var(--sklearn-color-unfitted-level-1);\n",
       "}\n",
       "\n",
       ".sk-estimator-doc-link.fitted,\n",
       "a:link.sk-estimator-doc-link.fitted,\n",
       "a:visited.sk-estimator-doc-link.fitted {\n",
       "  /* fitted */\n",
       "  border: var(--sklearn-color-fitted-level-1) 1pt solid;\n",
       "  color: var(--sklearn-color-fitted-level-1);\n",
       "}\n",
       "\n",
       "/* On hover */\n",
       "div.sk-estimator:hover .sk-estimator-doc-link:hover,\n",
       ".sk-estimator-doc-link:hover,\n",
       "div.sk-label-container:hover .sk-estimator-doc-link:hover,\n",
       ".sk-estimator-doc-link:hover {\n",
       "  /* unfitted */\n",
       "  background-color: var(--sklearn-color-unfitted-level-3);\n",
       "  color: var(--sklearn-color-background);\n",
       "  text-decoration: none;\n",
       "}\n",
       "\n",
       "div.sk-estimator.fitted:hover .sk-estimator-doc-link.fitted:hover,\n",
       ".sk-estimator-doc-link.fitted:hover,\n",
       "div.sk-label-container:hover .sk-estimator-doc-link.fitted:hover,\n",
       ".sk-estimator-doc-link.fitted:hover {\n",
       "  /* fitted */\n",
       "  background-color: var(--sklearn-color-fitted-level-3);\n",
       "  color: var(--sklearn-color-background);\n",
       "  text-decoration: none;\n",
       "}\n",
       "\n",
       "/* Span, style for the box shown on hovering the info icon */\n",
       ".sk-estimator-doc-link span {\n",
       "  display: none;\n",
       "  z-index: 9999;\n",
       "  position: relative;\n",
       "  font-weight: normal;\n",
       "  right: .2ex;\n",
       "  padding: .5ex;\n",
       "  margin: .5ex;\n",
       "  width: min-content;\n",
       "  min-width: 20ex;\n",
       "  max-width: 50ex;\n",
       "  color: var(--sklearn-color-text);\n",
       "  box-shadow: 2pt 2pt 4pt #999;\n",
       "  /* unfitted */\n",
       "  background: var(--sklearn-color-unfitted-level-0);\n",
       "  border: .5pt solid var(--sklearn-color-unfitted-level-3);\n",
       "}\n",
       "\n",
       ".sk-estimator-doc-link.fitted span {\n",
       "  /* fitted */\n",
       "  background: var(--sklearn-color-fitted-level-0);\n",
       "  border: var(--sklearn-color-fitted-level-3);\n",
       "}\n",
       "\n",
       ".sk-estimator-doc-link:hover span {\n",
       "  display: block;\n",
       "}\n",
       "\n",
       "/* \"?\"-specific style due to the `<a>` HTML tag */\n",
       "\n",
       "#sk-container-id-1 a.estimator_doc_link {\n",
       "  float: right;\n",
       "  font-size: 1rem;\n",
       "  line-height: 1em;\n",
       "  font-family: monospace;\n",
       "  background-color: var(--sklearn-color-background);\n",
       "  border-radius: 1rem;\n",
       "  height: 1rem;\n",
       "  width: 1rem;\n",
       "  text-decoration: none;\n",
       "  /* unfitted */\n",
       "  color: var(--sklearn-color-unfitted-level-1);\n",
       "  border: var(--sklearn-color-unfitted-level-1) 1pt solid;\n",
       "}\n",
       "\n",
       "#sk-container-id-1 a.estimator_doc_link.fitted {\n",
       "  /* fitted */\n",
       "  border: var(--sklearn-color-fitted-level-1) 1pt solid;\n",
       "  color: var(--sklearn-color-fitted-level-1);\n",
       "}\n",
       "\n",
       "/* On hover */\n",
       "#sk-container-id-1 a.estimator_doc_link:hover {\n",
       "  /* unfitted */\n",
       "  background-color: var(--sklearn-color-unfitted-level-3);\n",
       "  color: var(--sklearn-color-background);\n",
       "  text-decoration: none;\n",
       "}\n",
       "\n",
       "#sk-container-id-1 a.estimator_doc_link.fitted:hover {\n",
       "  /* fitted */\n",
       "  background-color: var(--sklearn-color-fitted-level-3);\n",
       "}\n",
       "</style><div id=\"sk-container-id-1\" class=\"sk-top-container\"><div class=\"sk-text-repr-fallback\"><pre>RandomForestClassifier(max_depth=4, min_samples_leaf=42, min_samples_split=87,\n",
       "                       n_estimators=29, random_state=874356351)</pre><b>In a Jupyter environment, please rerun this cell to show the HTML representation or trust the notebook. <br />On GitHub, the HTML representation is unable to render, please try loading this page with nbviewer.org.</b></div><div class=\"sk-container\" hidden><div class=\"sk-item\"><div class=\"sk-estimator fitted sk-toggleable\"><input class=\"sk-toggleable__control sk-hidden--visually\" id=\"sk-estimator-id-1\" type=\"checkbox\" checked><label for=\"sk-estimator-id-1\" class=\"sk-toggleable__label fitted sk-toggleable__label-arrow\"><div><div>RandomForestClassifier</div></div><div><a class=\"sk-estimator-doc-link fitted\" rel=\"noreferrer\" target=\"_blank\" href=\"https://scikit-learn.org/1.6/modules/generated/sklearn.ensemble.RandomForestClassifier.html\">?<span>Documentation for RandomForestClassifier</span></a><span class=\"sk-estimator-doc-link fitted\">i<span>Fitted</span></span></div></label><div class=\"sk-toggleable__content fitted\"><pre>RandomForestClassifier(max_depth=4, min_samples_leaf=42, min_samples_split=87,\n",
       "                       n_estimators=29, random_state=874356351)</pre></div> </div></div></div></div>"
      ],
      "text/plain": [
       "RandomForestClassifier(max_depth=4, min_samples_leaf=42, min_samples_split=87,\n",
       "                       n_estimators=29, random_state=874356351)"
      ]
     },
     "execution_count": 6,
     "metadata": {},
     "output_type": "execute_result"
    }
   ],
   "source": [
    "model = RandomForestClassifier(random_state=seed,\n",
    "                               n_estimators=range(2,100)[27],\n",
    "                               max_depth=range(1,10)[3],\n",
    "                               min_samples_split=range(2,100)[85],\n",
    "                               min_samples_leaf=range(2,100)[40])\n",
    "model.fit(X_GSE54456,y_GSE54456)"
   ]
  },
  {
   "cell_type": "code",
   "execution_count": 7,
   "metadata": {},
   "outputs": [],
   "source": [
    "pro_GSE54456 = model.predict_proba(X_GSE54456)[:,1]\n",
    "pro_GSE13355 = model.predict_proba(X_GSE13355)[:,1]\n",
    "pro_GSE14905 = model.predict_proba(X_GSE14905)[:,1]\n",
    "pro_GSE16161 = model.predict_proba(X_GSE16161)[:,1]\n",
    "pro_GSE66511 = model.predict_proba(X_GSE66511)[:,1]\n",
    "pro_GSE75890 = model.predict_proba(X_GSE75890)[:,1]\n",
    "pro_GSE78097 = model.predict_proba(X_GSE78097)[:,1]\n",
    "pro_GSE79704 = model.predict_proba(X_GSE79704)[:,1]\n",
    "pro_GSE83582 = model.predict_proba(X_GSE83582)[:,1]\n",
    "pro_GSE109248 = model.predict_proba(X_GSE109248)[:,1]\n",
    "pro_GSE114286 = model.predict_proba(X_GSE114286)[:,1]\n",
    "pro_GSE121212 = model.predict_proba(X_GSE121212)[:,1]\n",
    "pro_GSE182740 = model.predict_proba(X_GSE182740)[:,1]\n",
    "pre_GSE54456 = model.predict(X_GSE54456)\n",
    "pre_GSE13355 = model.predict(X_GSE13355)\n",
    "pre_GSE14905 = model.predict(X_GSE14905)\n",
    "pre_GSE16161 = model.predict(X_GSE16161)\n",
    "pre_GSE66511 = model.predict(X_GSE66511)\n",
    "pre_GSE75890 = model.predict(X_GSE75890)\n",
    "pre_GSE78097 = model.predict(X_GSE78097)\n",
    "pre_GSE79704 = model.predict(X_GSE79704)\n",
    "pre_GSE83582 = model.predict(X_GSE83582)\n",
    "pre_GSE109248 = model.predict(X_GSE109248)\n",
    "pre_GSE114286 = model.predict(X_GSE114286)\n",
    "pre_GSE121212 = model.predict(X_GSE121212)\n",
    "pre_GSE182740 = model.predict(X_GSE182740)"
   ]
  },
  {
   "cell_type": "code",
   "execution_count": 8,
   "metadata": {},
   "outputs": [],
   "source": [
    "pd.DataFrame({\n",
    "    'True':y_GSE13355,\n",
    "    'Pre':pre_GSE13355\n",
    "}).to_csv('RF_GSE13355.csv',index=False)\n",
    "pd.DataFrame({\n",
    "    'True':y_GSE14905,\n",
    "    'Pre':pre_GSE14905\n",
    "}).to_csv('RF_GSE14905.csv',index=False)\n",
    "pd.DataFrame({\n",
    "    'True':y_GSE16161,\n",
    "    'Pre':pre_GSE16161\n",
    "}).to_csv('RF_GSE16161.csv',index=False)\n",
    "pd.DataFrame({\n",
    "    'True':y_GSE66511,\n",
    "    'Pre':pre_GSE66511\n",
    "}).to_csv('RF_GSE66511.csv',index=False)\n",
    "pd.DataFrame({\n",
    "    'True':y_GSE75890,\n",
    "    'Pre':pre_GSE75890\n",
    "}).to_csv('RF_GSE75890.csv',index=False)\n",
    "pd.DataFrame({\n",
    "    'True':y_GSE78097,\n",
    "    'Pre':pre_GSE78097\n",
    "}).to_csv('RF_GSE78097.csv',index=False)\n",
    "pd.DataFrame({\n",
    "    'True':y_GSE79704,\n",
    "    'Pre':pre_GSE79704\n",
    "}).to_csv('RF_GSE79704.csv',index=False)\n",
    "pd.DataFrame({\n",
    "    'True':y_GSE83582,\n",
    "    'Pre':pre_GSE83582\n",
    "}).to_csv('RF_GSE83582.csv',index=False)\n",
    "pd.DataFrame({\n",
    "    'True':y_GSE109248,\n",
    "    'Pre':pre_GSE109248\n",
    "}).to_csv('RF_GSE109248.csv',index=False)\n",
    "pd.DataFrame({\n",
    "    'True':y_GSE114286,\n",
    "    'Pre':pre_GSE114286\n",
    "}).to_csv('RF_GSE114286.csv',index=False)\n",
    "pd.DataFrame({\n",
    "    'True':y_GSE121212,\n",
    "    'Pre':pre_GSE121212\n",
    "}).to_csv('RF_GSE121212.csv',index=False)\n",
    "pd.DataFrame({\n",
    "    'True':y_GSE182740,\n",
    "    'Pre':pre_GSE182740\n",
    "}).to_csv('RF_GSE182740.csv',index=False)"
   ]
  },
  {
   "cell_type": "code",
   "execution_count": 62,
   "metadata": {},
   "outputs": [
    {
     "name": "stdout",
     "output_type": "stream",
     "text": [
      "AUC = 1.000\n",
      "Accuracy = 1.000\n",
      "Sensitivity = 1.000\n",
      "Specificity = 1.000\n",
      "Precision = 1.000\n",
      "F1 = 1.000\n"
     ]
    }
   ],
   "source": [
    "print('AUC = {:.3f}'.format(roc_auc_score(y_GSE54456,pro_GSE54456)))\n",
    "print('Accuracy = {:.3f}'.format(accuracy_score(y_GSE54456,pre_GSE54456)))\n",
    "print('Sensitivity = {:.3f}'.format(sensitivity_score(y_GSE54456,pre_GSE54456)))\n",
    "print('Specificity = {:.3f}'.format(specificity_score(y_GSE54456,pre_GSE54456)))\n",
    "print('Precision = {:.3f}'.format(precision_score(y_GSE54456,pre_GSE54456)))\n",
    "print('F1 = {:.3f}'.format(f1_score(y_GSE54456,pre_GSE54456)))"
   ]
  },
  {
   "cell_type": "code",
   "execution_count": 63,
   "metadata": {},
   "outputs": [
    {
     "name": "stdout",
     "output_type": "stream",
     "text": [
      "AUC = 0.925\n",
      "Accuracy = 0.869\n",
      "Sensitivity = 0.793\n",
      "Specificity = 0.938\n",
      "Precision = 0.920\n",
      "F1 = 0.852\n"
     ]
    }
   ],
   "source": [
    "print('AUC = {:.3f}'.format(roc_auc_score(y_GSE13355,pro_GSE13355)))\n",
    "print('Accuracy = {:.3f}'.format(accuracy_score(y_GSE13355,pre_GSE13355)))\n",
    "print('Sensitivity = {:.3f}'.format(sensitivity_score(y_GSE13355,pre_GSE13355)))\n",
    "print('Specificity = {:.3f}'.format(specificity_score(y_GSE13355,pre_GSE13355)))\n",
    "print('Precision = {:.3f}'.format(precision_score(y_GSE13355,pre_GSE13355)))\n",
    "print('F1 = {:.3f}'.format(f1_score(y_GSE13355,pre_GSE13355)))"
   ]
  },
  {
   "cell_type": "code",
   "execution_count": 64,
   "metadata": {},
   "outputs": [
    {
     "name": "stdout",
     "output_type": "stream",
     "text": [
      "AUC = 0.968\n",
      "Accuracy = 0.963\n",
      "Sensitivity = 0.970\n",
      "Specificity = 0.952\n",
      "Precision = 0.970\n",
      "F1 = 0.970\n"
     ]
    }
   ],
   "source": [
    "print('AUC = {:.3f}'.format(roc_auc_score(y_GSE14905,pro_GSE14905)))\n",
    "print('Accuracy = {:.3f}'.format(accuracy_score(y_GSE14905,pre_GSE14905)))\n",
    "print('Sensitivity = {:.3f}'.format(sensitivity_score(y_GSE14905,pre_GSE14905)))\n",
    "print('Specificity = {:.3f}'.format(specificity_score(y_GSE14905,pre_GSE14905)))\n",
    "print('Precision = {:.3f}'.format(precision_score(y_GSE14905,pre_GSE14905)))\n",
    "print('F1 = {:.3f}'.format(f1_score(y_GSE14905,pre_GSE14905)))"
   ]
  },
  {
   "cell_type": "code",
   "execution_count": 65,
   "metadata": {},
   "outputs": [
    {
     "name": "stdout",
     "output_type": "stream",
     "text": [
      "AUC = 1.000\n",
      "Accuracy = 0.750\n",
      "Sensitivity = 1.000\n",
      "Specificity = 0.333\n",
      "Precision = 0.714\n",
      "F1 = 0.833\n"
     ]
    }
   ],
   "source": [
    "print('AUC = {:.3f}'.format(roc_auc_score(y_GSE16161,pro_GSE16161)))\n",
    "print('Accuracy = {:.3f}'.format(accuracy_score(y_GSE16161,pre_GSE16161)))\n",
    "print('Sensitivity = {:.3f}'.format(sensitivity_score(y_GSE16161,pre_GSE16161)))\n",
    "print('Specificity = {:.3f}'.format(specificity_score(y_GSE16161,pre_GSE16161)))\n",
    "print('Precision = {:.3f}'.format(precision_score(y_GSE16161,pre_GSE16161)))\n",
    "print('F1 = {:.3f}'.format(f1_score(y_GSE16161,pre_GSE16161)))"
   ]
  },
  {
   "cell_type": "code",
   "execution_count": 66,
   "metadata": {},
   "outputs": [
    {
     "name": "stdout",
     "output_type": "stream",
     "text": [
      "AUC = 1.000\n",
      "Accuracy = 1.000\n",
      "Sensitivity = 1.000\n",
      "Specificity = 1.000\n",
      "Precision = 1.000\n",
      "F1 = 1.000\n"
     ]
    }
   ],
   "source": [
    "print('AUC = {:.3f}'.format(roc_auc_score(y_GSE66511,pro_GSE66511)))\n",
    "print('Accuracy = {:.3f}'.format(accuracy_score(y_GSE66511,pre_GSE66511)))\n",
    "print('Sensitivity = {:.3f}'.format(sensitivity_score(y_GSE66511,pre_GSE66511)))\n",
    "print('Specificity = {:.3f}'.format(specificity_score(y_GSE66511,pre_GSE66511)))\n",
    "print('Precision = {:.3f}'.format(precision_score(y_GSE66511,pre_GSE66511)))\n",
    "print('F1 = {:.3f}'.format(f1_score(y_GSE66511,pre_GSE66511)))"
   ]
  },
  {
   "cell_type": "code",
   "execution_count": 67,
   "metadata": {},
   "outputs": [
    {
     "name": "stdout",
     "output_type": "stream",
     "text": [
      "AUC = 1.000\n",
      "Accuracy = 1.000\n",
      "Sensitivity = 1.000\n",
      "Specificity = 1.000\n",
      "Precision = 1.000\n",
      "F1 = 1.000\n"
     ]
    }
   ],
   "source": [
    "print('AUC = {:.3f}'.format(roc_auc_score(y_GSE75890,pro_GSE75890)))\n",
    "print('Accuracy = {:.3f}'.format(accuracy_score(y_GSE75890,pre_GSE75890)))\n",
    "print('Sensitivity = {:.3f}'.format(sensitivity_score(y_GSE75890,pre_GSE75890)))\n",
    "print('Specificity = {:.3f}'.format(specificity_score(y_GSE75890,pre_GSE75890)))\n",
    "print('Precision = {:.3f}'.format(precision_score(y_GSE75890,pre_GSE75890)))\n",
    "print('F1 = {:.3f}'.format(f1_score(y_GSE75890,pre_GSE75890)))"
   ]
  },
  {
   "cell_type": "code",
   "execution_count": 68,
   "metadata": {},
   "outputs": [
    {
     "name": "stdout",
     "output_type": "stream",
     "text": [
      "AUC = 1.000\n",
      "Accuracy = 0.970\n",
      "Sensitivity = 1.000\n",
      "Specificity = 0.833\n",
      "Precision = 0.964\n",
      "F1 = 0.982\n"
     ]
    }
   ],
   "source": [
    "print('AUC = {:.3f}'.format(roc_auc_score(y_GSE78097,pro_GSE78097)))\n",
    "print('Accuracy = {:.3f}'.format(accuracy_score(y_GSE78097,pre_GSE78097)))\n",
    "print('Sensitivity = {:.3f}'.format(sensitivity_score(y_GSE78097,pre_GSE78097)))\n",
    "print('Specificity = {:.3f}'.format(specificity_score(y_GSE78097,pre_GSE78097)))\n",
    "print('Precision = {:.3f}'.format(precision_score(y_GSE78097,pre_GSE78097)))\n",
    "print('F1 = {:.3f}'.format(f1_score(y_GSE78097,pre_GSE78097)))"
   ]
  },
  {
   "cell_type": "code",
   "execution_count": 69,
   "metadata": {},
   "outputs": [
    {
     "name": "stdout",
     "output_type": "stream",
     "text": [
      "AUC = 1.000\n",
      "Accuracy = 0.969\n",
      "Sensitivity = 1.000\n",
      "Specificity = 0.950\n",
      "Precision = 0.923\n",
      "F1 = 0.960\n"
     ]
    }
   ],
   "source": [
    "print('AUC = {:.3f}'.format(roc_auc_score(y_GSE79704,pro_GSE79704)))\n",
    "print('Accuracy = {:.3f}'.format(accuracy_score(y_GSE79704,pre_GSE79704)))\n",
    "print('Sensitivity = {:.3f}'.format(sensitivity_score(y_GSE79704,pre_GSE79704)))\n",
    "print('Specificity = {:.3f}'.format(specificity_score(y_GSE79704,pre_GSE79704)))\n",
    "print('Precision = {:.3f}'.format(precision_score(y_GSE79704,pre_GSE79704)))\n",
    "print('F1 = {:.3f}'.format(f1_score(y_GSE79704,pre_GSE79704)))"
   ]
  },
  {
   "cell_type": "code",
   "execution_count": 70,
   "metadata": {},
   "outputs": [
    {
     "name": "stdout",
     "output_type": "stream",
     "text": [
      "AUC = 0.996\n",
      "Accuracy = 0.938\n",
      "Sensitivity = 0.917\n",
      "Specificity = 0.950\n",
      "Precision = 0.917\n",
      "F1 = 0.917\n"
     ]
    }
   ],
   "source": [
    "print('AUC = {:.3f}'.format(roc_auc_score(y_GSE83582,pro_GSE83582)))\n",
    "print('Accuracy = {:.3f}'.format(accuracy_score(y_GSE83582,pre_GSE83582)))\n",
    "print('Sensitivity = {:.3f}'.format(sensitivity_score(y_GSE83582,pre_GSE83582)))\n",
    "print('Specificity = {:.3f}'.format(specificity_score(y_GSE83582,pre_GSE83582)))\n",
    "print('Precision = {:.3f}'.format(precision_score(y_GSE83582,pre_GSE83582)))\n",
    "print('F1 = {:.3f}'.format(f1_score(y_GSE83582,pre_GSE83582)))"
   ]
  },
  {
   "cell_type": "code",
   "execution_count": 71,
   "metadata": {},
   "outputs": [
    {
     "name": "stdout",
     "output_type": "stream",
     "text": [
      "AUC = 0.998\n",
      "Accuracy = 0.968\n",
      "Sensitivity = 1.000\n",
      "Specificity = 0.929\n",
      "Precision = 0.944\n",
      "F1 = 0.971\n"
     ]
    }
   ],
   "source": [
    "print('AUC = {:.3f}'.format(roc_auc_score(y_GSE109248,pro_GSE109248)))\n",
    "print('Accuracy = {:.3f}'.format(accuracy_score(y_GSE109248,pre_GSE109248)))\n",
    "print('Sensitivity = {:.3f}'.format(sensitivity_score(y_GSE109248,pre_GSE109248)))\n",
    "print('Specificity = {:.3f}'.format(specificity_score(y_GSE109248,pre_GSE109248)))\n",
    "print('Precision = {:.3f}'.format(precision_score(y_GSE109248,pre_GSE109248)))\n",
    "print('F1 = {:.3f}'.format(f1_score(y_GSE109248,pre_GSE109248)))"
   ]
  },
  {
   "cell_type": "code",
   "execution_count": 72,
   "metadata": {},
   "outputs": [
    {
     "name": "stdout",
     "output_type": "stream",
     "text": [
      "AUC = 1.000\n",
      "Accuracy = 1.000\n",
      "Sensitivity = 1.000\n",
      "Specificity = 1.000\n",
      "Precision = 1.000\n",
      "F1 = 1.000\n"
     ]
    }
   ],
   "source": [
    "print('AUC = {:.3f}'.format(roc_auc_score(y_GSE114286,pro_GSE114286)))\n",
    "print('Accuracy = {:.3f}'.format(accuracy_score(y_GSE114286,pre_GSE114286)))\n",
    "print('Sensitivity = {:.3f}'.format(sensitivity_score(y_GSE114286,pre_GSE114286)))\n",
    "print('Specificity = {:.3f}'.format(specificity_score(y_GSE114286,pre_GSE114286)))\n",
    "print('Precision = {:.3f}'.format(precision_score(y_GSE114286,pre_GSE114286)))\n",
    "print('F1 = {:.3f}'.format(f1_score(y_GSE114286,pre_GSE114286)))"
   ]
  },
  {
   "cell_type": "code",
   "execution_count": 73,
   "metadata": {},
   "outputs": [
    {
     "name": "stdout",
     "output_type": "stream",
     "text": [
      "AUC = 0.980\n",
      "Accuracy = 0.970\n",
      "Sensitivity = 0.964\n",
      "Specificity = 0.974\n",
      "Precision = 0.964\n",
      "F1 = 0.964\n"
     ]
    }
   ],
   "source": [
    "print('AUC = {:.3f}'.format(roc_auc_score(y_GSE121212,pro_GSE121212)))\n",
    "print('Accuracy = {:.3f}'.format(accuracy_score(y_GSE121212,pre_GSE121212)))\n",
    "print('Sensitivity = {:.3f}'.format(sensitivity_score(y_GSE121212,pre_GSE121212)))\n",
    "print('Specificity = {:.3f}'.format(specificity_score(y_GSE121212,pre_GSE121212)))\n",
    "print('Precision = {:.3f}'.format(precision_score(y_GSE121212,pre_GSE121212)))\n",
    "print('F1 = {:.3f}'.format(f1_score(y_GSE121212,pre_GSE121212)))"
   ]
  },
  {
   "cell_type": "code",
   "execution_count": 74,
   "metadata": {},
   "outputs": [
    {
     "name": "stdout",
     "output_type": "stream",
     "text": [
      "AUC = 0.986\n",
      "Accuracy = 0.952\n",
      "Sensitivity = 1.000\n",
      "Specificity = 0.667\n",
      "Precision = 0.947\n",
      "F1 = 0.973\n"
     ]
    }
   ],
   "source": [
    "print('AUC = {:.3f}'.format(roc_auc_score(y_GSE182740,pro_GSE182740)))\n",
    "print('Accuracy = {:.3f}'.format(accuracy_score(y_GSE182740,pre_GSE182740)))\n",
    "print('Sensitivity = {:.3f}'.format(sensitivity_score(y_GSE182740,pre_GSE182740)))\n",
    "print('Specificity = {:.3f}'.format(specificity_score(y_GSE182740,pre_GSE182740)))\n",
    "print('Precision = {:.3f}'.format(precision_score(y_GSE182740,pre_GSE182740)))\n",
    "print('F1 = {:.3f}'.format(f1_score(y_GSE182740,pre_GSE182740)))"
   ]
  },
  {
   "cell_type": "code",
   "execution_count": null,
   "metadata": {},
   "outputs": [],
   "source": []
  }
 ],
 "metadata": {
  "kernelspec": {
   "display_name": "tabpfn",
   "language": "python",
   "name": "python3"
  },
  "language_info": {
   "codemirror_mode": {
    "name": "ipython",
    "version": 3
   },
   "file_extension": ".py",
   "mimetype": "text/x-python",
   "name": "python",
   "nbconvert_exporter": "python",
   "pygments_lexer": "ipython3",
   "version": "3.11.11"
  }
 },
 "nbformat": 4,
 "nbformat_minor": 2
}
