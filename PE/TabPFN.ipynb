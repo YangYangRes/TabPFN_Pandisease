{
 "cells": [
  {
   "cell_type": "code",
   "execution_count": 3,
   "id": "a744652b-0658-411e-8897-5c93487b92c9",
   "metadata": {},
   "outputs": [
    {
     "ename": "ModuleNotFoundError",
     "evalue": "No module named 'tabpfn'",
     "output_type": "error",
     "traceback": [
      "\u001b[1;31m---------------------------------------------------------------------------\u001b[0m",
      "\u001b[1;31mModuleNotFoundError\u001b[0m                       Traceback (most recent call last)",
      "Cell \u001b[1;32mIn[3], line 6\u001b[0m\n\u001b[0;32m      3\u001b[0m \u001b[38;5;28;01mfrom\u001b[39;00m \u001b[38;5;21;01msklearn\u001b[39;00m\u001b[38;5;21;01m.\u001b[39;00m\u001b[38;5;21;01mmetrics\u001b[39;00m \u001b[38;5;28;01mimport\u001b[39;00m accuracy_score, roc_auc_score\n\u001b[0;32m      4\u001b[0m \u001b[38;5;28;01mfrom\u001b[39;00m \u001b[38;5;21;01msklearn\u001b[39;00m\u001b[38;5;21;01m.\u001b[39;00m\u001b[38;5;21;01mmodel_selection\u001b[39;00m \u001b[38;5;28;01mimport\u001b[39;00m train_test_split\n\u001b[1;32m----> 6\u001b[0m \u001b[38;5;28;01mfrom\u001b[39;00m \u001b[38;5;21;01mtabpfn\u001b[39;00m \u001b[38;5;28;01mimport\u001b[39;00m TabPFNClassifier\n",
      "\u001b[1;31mModuleNotFoundError\u001b[0m: No module named 'tabpfn'"
     ]
    }
   ],
   "source": [
    "import pandas as pd\n",
    "from sklearn.datasets import load_breast_cancer\n",
    "from sklearn.metrics import accuracy_score, roc_auc_score\n",
    "from sklearn.model_selection import train_test_split\n",
    "\n",
    "from tabpfn import TabPFNClassifier"
   ]
  },
  {
   "cell_type": "code",
   "execution_count": 13,
   "id": "fc889dd5-682d-470b-98df-7360b2fd9312",
   "metadata": {},
   "outputs": [
    {
     "name": "stdout",
     "output_type": "stream",
     "text": [
      "Requirement already satisfied: tabpfn in d:\\anaconda3-2024.10-1\\lib\\site-packages (2.0.5)\n",
      "Requirement already satisfied: torch<3,>=2.1 in d:\\anaconda3-2024.10-1\\lib\\site-packages (from tabpfn) (2.3.1)\n",
      "Requirement already satisfied: scikit-learn<1.7,>=1.2.0 in d:\\anaconda3-2024.10-1\\lib\\site-packages (from tabpfn) (1.5.1)\n",
      "Requirement already satisfied: typing_extensions>=4.4.0 in d:\\anaconda3-2024.10-1\\lib\\site-packages (from tabpfn) (4.11.0)\n",
      "Requirement already satisfied: scipy<2,>=1.7.3 in d:\\anaconda3-2024.10-1\\lib\\site-packages (from tabpfn) (1.13.1)\n",
      "Requirement already satisfied: pandas<3,>=1.4.0 in d:\\anaconda3-2024.10-1\\lib\\site-packages (from tabpfn) (2.2.2)\n",
      "Requirement already satisfied: einops<0.9,>=0.2.0 in d:\\anaconda3-2024.10-1\\lib\\site-packages (from tabpfn) (0.8.1)\n",
      "Requirement already satisfied: huggingface-hub<1,>=0.0.1 in d:\\anaconda3-2024.10-1\\lib\\site-packages (from tabpfn) (0.30.1)\n",
      "Requirement already satisfied: filelock in d:\\anaconda3-2024.10-1\\lib\\site-packages (from huggingface-hub<1,>=0.0.1->tabpfn) (3.13.1)\n",
      "Requirement already satisfied: fsspec>=2023.5.0 in d:\\anaconda3-2024.10-1\\lib\\site-packages (from huggingface-hub<1,>=0.0.1->tabpfn) (2024.6.1)\n",
      "Requirement already satisfied: packaging>=20.9 in d:\\anaconda3-2024.10-1\\lib\\site-packages (from huggingface-hub<1,>=0.0.1->tabpfn) (24.1)\n",
      "Requirement already satisfied: pyyaml>=5.1 in d:\\anaconda3-2024.10-1\\lib\\site-packages (from huggingface-hub<1,>=0.0.1->tabpfn) (6.0.1)\n",
      "Requirement already satisfied: requests in d:\\anaconda3-2024.10-1\\lib\\site-packages (from huggingface-hub<1,>=0.0.1->tabpfn) (2.32.3)\n",
      "Requirement already satisfied: tqdm>=4.42.1 in d:\\anaconda3-2024.10-1\\lib\\site-packages (from huggingface-hub<1,>=0.0.1->tabpfn) (4.66.5)\n",
      "Requirement already satisfied: numpy>=1.26.0 in d:\\anaconda3-2024.10-1\\lib\\site-packages (from pandas<3,>=1.4.0->tabpfn) (1.26.4)\n",
      "Requirement already satisfied: python-dateutil>=2.8.2 in d:\\anaconda3-2024.10-1\\lib\\site-packages (from pandas<3,>=1.4.0->tabpfn) (2.9.0.post0)\n",
      "Requirement already satisfied: pytz>=2020.1 in d:\\anaconda3-2024.10-1\\lib\\site-packages (from pandas<3,>=1.4.0->tabpfn) (2024.1)\n",
      "Requirement already satisfied: tzdata>=2022.7 in d:\\anaconda3-2024.10-1\\lib\\site-packages (from pandas<3,>=1.4.0->tabpfn) (2023.3)\n",
      "Requirement already satisfied: joblib>=1.2.0 in d:\\anaconda3-2024.10-1\\lib\\site-packages (from scikit-learn<1.7,>=1.2.0->tabpfn) (1.4.2)\n",
      "Requirement already satisfied: threadpoolctl>=3.1.0 in d:\\anaconda3-2024.10-1\\lib\\site-packages (from scikit-learn<1.7,>=1.2.0->tabpfn) (3.5.0)\n",
      "Requirement already satisfied: sympy in d:\\anaconda3-2024.10-1\\lib\\site-packages (from torch<3,>=2.1->tabpfn) (1.13.1)\n",
      "Requirement already satisfied: networkx in d:\\anaconda3-2024.10-1\\lib\\site-packages (from torch<3,>=2.1->tabpfn) (3.3)\n",
      "Requirement already satisfied: jinja2 in d:\\anaconda3-2024.10-1\\lib\\site-packages (from torch<3,>=2.1->tabpfn) (3.1.4)\n",
      "Requirement already satisfied: six>=1.5 in d:\\anaconda3-2024.10-1\\lib\\site-packages (from python-dateutil>=2.8.2->pandas<3,>=1.4.0->tabpfn) (1.16.0)\n",
      "Requirement already satisfied: colorama in d:\\anaconda3-2024.10-1\\lib\\site-packages (from tqdm>=4.42.1->huggingface-hub<1,>=0.0.1->tabpfn) (0.4.6)\n",
      "Requirement already satisfied: MarkupSafe>=2.0 in d:\\anaconda3-2024.10-1\\lib\\site-packages (from jinja2->torch<3,>=2.1->tabpfn) (2.1.3)\n",
      "Requirement already satisfied: charset-normalizer<4,>=2 in d:\\anaconda3-2024.10-1\\lib\\site-packages (from requests->huggingface-hub<1,>=0.0.1->tabpfn) (3.3.2)\n",
      "Requirement already satisfied: idna<4,>=2.5 in d:\\anaconda3-2024.10-1\\lib\\site-packages (from requests->huggingface-hub<1,>=0.0.1->tabpfn) (3.7)\n",
      "Requirement already satisfied: urllib3<3,>=1.21.1 in d:\\anaconda3-2024.10-1\\lib\\site-packages (from requests->huggingface-hub<1,>=0.0.1->tabpfn) (2.2.3)\n",
      "Requirement already satisfied: certifi>=2017.4.17 in d:\\anaconda3-2024.10-1\\lib\\site-packages (from requests->huggingface-hub<1,>=0.0.1->tabpfn) (2025.1.31)\n",
      "Requirement already satisfied: mpmath<1.4,>=1.1.0 in d:\\anaconda3-2024.10-1\\lib\\site-packages (from sympy->torch<3,>=2.1->tabpfn) (1.3.0)\n",
      "Note: you may need to restart the kernel to use updated packages.\n"
     ]
    }
   ],
   "source": [
    "pip install tabpfn"
   ]
  },
  {
   "cell_type": "code",
   "execution_count": 4,
   "id": "4081767c-5edb-4fd9-80ba-778ed58f7fe6",
   "metadata": {},
   "outputs": [],
   "source": [
    "# Load the training data from CSV file\n",
    "train_df = pd.read_csv('train.csv')"
   ]
  },
  {
   "cell_type": "code",
   "execution_count": 5,
   "id": "decd466e-119d-486e-9569-b9b68ccc5c21",
   "metadata": {},
   "outputs": [],
   "source": [
    "X_train = train_df.iloc[:, 1:10]  # Features of the training data (starting from the third column)\n",
    "y_train = train_df.iloc[:, 10]   # Target of the training data (second column)"
   ]
  },
  {
   "cell_type": "code",
   "execution_count": 6,
   "id": "0efd429a-227f-4ab5-833d-94a5406fa016",
   "metadata": {},
   "outputs": [
    {
     "ename": "NameError",
     "evalue": "name 'TabPFNClassifier' is not defined",
     "output_type": "error",
     "traceback": [
      "\u001b[1;31m---------------------------------------------------------------------------\u001b[0m",
      "\u001b[1;31mNameError\u001b[0m                                 Traceback (most recent call last)",
      "Cell \u001b[1;32mIn[6], line 2\u001b[0m\n\u001b[0;32m      1\u001b[0m \u001b[38;5;66;03m# Initialize the classifier\u001b[39;00m\n\u001b[1;32m----> 2\u001b[0m clf \u001b[38;5;241m=\u001b[39m TabPFNClassifier()\n\u001b[0;32m      3\u001b[0m clf\u001b[38;5;241m.\u001b[39mfit(X_train, y_train)\n",
      "\u001b[1;31mNameError\u001b[0m: name 'TabPFNClassifier' is not defined"
     ]
    }
   ],
   "source": [
    "# Initialize the classifier\n",
    "clf = TabPFNClassifier()\n",
    "clf.fit(X_train, y_train)\n"
   ]
  },
  {
   "cell_type": "code",
   "execution_count": null,
   "id": "d152da6a-bfe8-4056-acc4-a83ff43bef7c",
   "metadata": {},
   "outputs": [],
   "source": [
    "# Predict probabilities for training data\n",
    "pro_train = clf.predict_proba(X_train)[:, 1]"
   ]
  },
  {
   "cell_type": "code",
   "execution_count": 6,
   "id": "622d2efe-f8a0-4ee5-aa9d-3b9c3bfcbef1",
   "metadata": {},
   "outputs": [
    {
     "name": "stderr",
     "output_type": "stream",
     "text": [
      "E:\\anaconda\\Lib\\site-packages\\sklearn\\base.py:474: FutureWarning: `BaseEstimator._validate_data` is deprecated in 1.6 and will be removed in 1.7. Use `sklearn.utils.validation.validate_data` instead. This function becomes public and is part of the scikit-learn developer API.\n",
      "  warnings.warn(\n",
      "E:\\anaconda\\Lib\\site-packages\\sklearn\\utils\\deprecation.py:151: FutureWarning: 'force_all_finite' was renamed to 'ensure_all_finite' in 1.6 and will be removed in 1.8.\n",
      "  warnings.warn(\n"
     ]
    },
    {
     "name": "stdout",
     "output_type": "stream",
     "text": [
      "Training Set - AUC: 1.000, Accuracy: 1.000\n"
     ]
    }
   ],
   "source": [
    "# Evaluate performance on the training set\n",
    "roc_auc_train = roc_auc_score(y_train, pro_train)\n",
    "accuracy_train = accuracy_score(y_train, clf.predict(X_train))\n",
    "\n",
    "print(f'Training Set - AUC: {roc_auc_train:.3f}, Accuracy: {accuracy_train:.3f}')"
   ]
  },
  {
   "cell_type": "code",
   "execution_count": 7,
   "id": "3e3fcff5-2574-4728-9e4e-1531e0d24190",
   "metadata": {},
   "outputs": [],
   "source": [
    "# Create a DataFrame with predictions for the training set\n",
    "df_train = pd.DataFrame({\n",
    "    'ID': train_df['ID'],\n",
    "    'True': y_train,\n",
    "    'Pre': pro_train\n",
    "})\n",
    "df_train.to_csv('TabPFN_train.csv', index=False)"
   ]
  },
  {
   "cell_type": "code",
   "execution_count": 8,
   "id": "df2b9591-c3f3-409c-99d7-becab45e2f73",
   "metadata": {},
   "outputs": [
    {
     "name": "stderr",
     "output_type": "stream",
     "text": [
      "E:\\anaconda\\Lib\\site-packages\\sklearn\\base.py:474: FutureWarning: `BaseEstimator._validate_data` is deprecated in 1.6 and will be removed in 1.7. Use `sklearn.utils.validation.validate_data` instead. This function becomes public and is part of the scikit-learn developer API.\n",
      "  warnings.warn(\n",
      "E:\\anaconda\\Lib\\site-packages\\sklearn\\utils\\deprecation.py:151: FutureWarning: 'force_all_finite' was renamed to 'ensure_all_finite' in 1.6 and will be removed in 1.8.\n",
      "  warnings.warn(\n",
      "E:\\anaconda\\Lib\\site-packages\\sklearn\\base.py:474: FutureWarning: `BaseEstimator._validate_data` is deprecated in 1.6 and will be removed in 1.7. Use `sklearn.utils.validation.validate_data` instead. This function becomes public and is part of the scikit-learn developer API.\n",
      "  warnings.warn(\n",
      "E:\\anaconda\\Lib\\site-packages\\sklearn\\utils\\deprecation.py:151: FutureWarning: 'force_all_finite' was renamed to 'ensure_all_finite' in 1.6 and will be removed in 1.8.\n",
      "  warnings.warn(\n"
     ]
    },
    {
     "name": "stdout",
     "output_type": "stream",
     "text": [
      "data_test1.csv - AUC: 0.714, Accuracy: 0.421\n"
     ]
    },
    {
     "name": "stderr",
     "output_type": "stream",
     "text": [
      "E:\\anaconda\\Lib\\site-packages\\sklearn\\base.py:474: FutureWarning: `BaseEstimator._validate_data` is deprecated in 1.6 and will be removed in 1.7. Use `sklearn.utils.validation.validate_data` instead. This function becomes public and is part of the scikit-learn developer API.\n",
      "  warnings.warn(\n",
      "E:\\anaconda\\Lib\\site-packages\\sklearn\\utils\\deprecation.py:151: FutureWarning: 'force_all_finite' was renamed to 'ensure_all_finite' in 1.6 and will be removed in 1.8.\n",
      "  warnings.warn(\n",
      "E:\\anaconda\\Lib\\site-packages\\sklearn\\base.py:474: FutureWarning: `BaseEstimator._validate_data` is deprecated in 1.6 and will be removed in 1.7. Use `sklearn.utils.validation.validate_data` instead. This function becomes public and is part of the scikit-learn developer API.\n",
      "  warnings.warn(\n",
      "E:\\anaconda\\Lib\\site-packages\\sklearn\\utils\\deprecation.py:151: FutureWarning: 'force_all_finite' was renamed to 'ensure_all_finite' in 1.6 and will be removed in 1.8.\n",
      "  warnings.warn(\n"
     ]
    },
    {
     "name": "stdout",
     "output_type": "stream",
     "text": [
      "data_test2.csv - AUC: 0.847, Accuracy: 0.871\n"
     ]
    },
    {
     "name": "stderr",
     "output_type": "stream",
     "text": [
      "E:\\anaconda\\Lib\\site-packages\\sklearn\\base.py:474: FutureWarning: `BaseEstimator._validate_data` is deprecated in 1.6 and will be removed in 1.7. Use `sklearn.utils.validation.validate_data` instead. This function becomes public and is part of the scikit-learn developer API.\n",
      "  warnings.warn(\n",
      "E:\\anaconda\\Lib\\site-packages\\sklearn\\utils\\deprecation.py:151: FutureWarning: 'force_all_finite' was renamed to 'ensure_all_finite' in 1.6 and will be removed in 1.8.\n",
      "  warnings.warn(\n",
      "E:\\anaconda\\Lib\\site-packages\\sklearn\\base.py:474: FutureWarning: `BaseEstimator._validate_data` is deprecated in 1.6 and will be removed in 1.7. Use `sklearn.utils.validation.validate_data` instead. This function becomes public and is part of the scikit-learn developer API.\n",
      "  warnings.warn(\n",
      "E:\\anaconda\\Lib\\site-packages\\sklearn\\utils\\deprecation.py:151: FutureWarning: 'force_all_finite' was renamed to 'ensure_all_finite' in 1.6 and will be removed in 1.8.\n",
      "  warnings.warn(\n"
     ]
    },
    {
     "name": "stdout",
     "output_type": "stream",
     "text": [
      "data_test3.csv - AUC: 0.943, Accuracy: 0.750\n"
     ]
    },
    {
     "name": "stderr",
     "output_type": "stream",
     "text": [
      "E:\\anaconda\\Lib\\site-packages\\sklearn\\base.py:474: FutureWarning: `BaseEstimator._validate_data` is deprecated in 1.6 and will be removed in 1.7. Use `sklearn.utils.validation.validate_data` instead. This function becomes public and is part of the scikit-learn developer API.\n",
      "  warnings.warn(\n",
      "E:\\anaconda\\Lib\\site-packages\\sklearn\\utils\\deprecation.py:151: FutureWarning: 'force_all_finite' was renamed to 'ensure_all_finite' in 1.6 and will be removed in 1.8.\n",
      "  warnings.warn(\n",
      "E:\\anaconda\\Lib\\site-packages\\sklearn\\base.py:474: FutureWarning: `BaseEstimator._validate_data` is deprecated in 1.6 and will be removed in 1.7. Use `sklearn.utils.validation.validate_data` instead. This function becomes public and is part of the scikit-learn developer API.\n",
      "  warnings.warn(\n",
      "E:\\anaconda\\Lib\\site-packages\\sklearn\\utils\\deprecation.py:151: FutureWarning: 'force_all_finite' was renamed to 'ensure_all_finite' in 1.6 and will be removed in 1.8.\n",
      "  warnings.warn(\n"
     ]
    },
    {
     "name": "stdout",
     "output_type": "stream",
     "text": [
      "data_test4.csv - AUC: 0.533, Accuracy: 0.714\n"
     ]
    }
   ],
   "source": [
    "# List of test files\n",
    "test_files = ['data_test1.csv', 'data_test2.csv', 'data_test3.csv', \n",
    "                  'data_test4.csv']\n",
    "\n",
    "# Evaluate on each test file and save results\n",
    "for test_file in test_files:\n",
    "    test_df = pd.read_csv(test_file)\n",
    "    \n",
    "    # Assuming the first column is the ID, the second column is the target (label), and the rest are features\n",
    "    X_test = test_df.iloc[:, 2:]  # Features of the test data (starting from the third column)\n",
    "    y_test = test_df.iloc[:, 1]   # Target of the test data (second column)\n",
    "\n",
    "    # Predict probabilities for the test data\n",
    "    pro_test = clf.predict_proba(X_test)[:, 1]\n",
    "\n",
    "    # Evaluate performance on the test set\n",
    "    roc_auc_test = roc_auc_score(y_test, pro_test)\n",
    "    accuracy_test = accuracy_score(y_test, clf.predict(X_test))\n",
    "\n",
    "    # Print AUC and accuracy for the test dataset\n",
    "    print(f'{test_file} - AUC: {roc_auc_test:.3f}, Accuracy: {accuracy_test:.3f}')\n",
    "\n",
    "    # Create a DataFrame with predictions for the test set\n",
    "    df_test = pd.DataFrame({\n",
    "        'ID': test_df['ID'],\n",
    "        'True': y_test,\n",
    "        'Pre': pro_test\n",
    "    })\n",
    "    \n",
    "    # Save the predictions for each test dataset\n",
    "    df_test.to_csv(f'TabPFN_{test_file.split(\"/\")[-1].split(\".\")[0]}_predictions.csv', index=False)"
   ]
  },
  {
   "cell_type": "code",
   "execution_count": null,
   "id": "3f3b3cd5-65b4-4263-9892-7a51c7fd0714",
   "metadata": {},
   "outputs": [],
   "source": []
  }
 ],
 "metadata": {
  "kernelspec": {
   "display_name": "Python 3 (ipykernel)",
   "language": "python",
   "name": "python3"
  },
  "language_info": {
   "codemirror_mode": {
    "name": "ipython",
    "version": 3
   },
   "file_extension": ".py",
   "mimetype": "text/x-python",
   "name": "python",
   "nbconvert_exporter": "python",
   "pygments_lexer": "ipython3",
   "version": "3.12.3"
  }
 },
 "nbformat": 4,
 "nbformat_minor": 5
}
