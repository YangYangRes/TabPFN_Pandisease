{
  "cells": [
    {
      "cell_type": "code",
      "execution_count": 3,
      "metadata": {},
      "outputs": [],
      "source": [
        "import warnings\n",
        "warnings.filterwarnings('ignore')"
      ]
    },
    {
      "cell_type": "code",
      "execution_count": 4,
      "metadata": {
        "id": "YofOeP682Uqr"
      },
      "outputs": [],
      "source": [
        "import pandas as pd\n",
        "import numpy as np\n",
        "from tabpfn import TabPFNClassifier\n",
        "from sklearn.metrics import roc_auc_score\n",
        "from sklearn.metrics import accuracy_score\n",
        "from sklearn.metrics import f1_score\n",
        "from imblearn.metrics import sensitivity_score\n",
        "from imblearn.metrics import specificity_score\n",
        "from sklearn.metrics import precision_score"
      ]
    },
    {
      "cell_type": "code",
      "execution_count": 5,
      "metadata": {
        "id": "96Up7sv23al-"
      },
      "outputs": [],
      "source": [
        "seed = 64357346"
      ]
    },
    {
      "cell_type": "code",
      "execution_count": 6,
      "metadata": {
        "id": "iVNYQl_T3gfE"
      },
      "outputs": [],
      "source": [
        "GSE13904 = pd.read_csv('data_GSE13904.csv')\n",
        "X_GSE13904 = GSE13904.iloc[:,2:]\n",
        "y_GSE13904 = GSE13904.iloc[:,1]\n",
        "GSE54514 = pd.read_csv('data_GSE54514.csv')\n",
        "X_GSE54514 = GSE54514.iloc[:,2:]\n",
        "y_GSE54514 = GSE54514.iloc[:,1]\n",
        "GSE64457 = pd.read_csv('data_GSE64457.csv')\n",
        "X_GSE64457 = GSE64457.iloc[:,2:]\n",
        "y_GSE64457 = GSE64457.iloc[:,1]\n",
        "GSE65682 = pd.read_csv('data_GSE65682.csv')\n",
        "X_GSE65682 = GSE65682.iloc[:,2:]\n",
        "y_GSE65682 = GSE65682.iloc[:,1]\n",
        "GSE69063 = pd.read_csv('data_GSE69063.csv')\n",
        "X_GSE69063 = GSE69063.iloc[:,2:]\n",
        "y_GSE69063 = GSE69063.iloc[:,1]\n",
        "GSE95233 = pd.read_csv('data_GSE95233.csv')\n",
        "X_GSE95233 = GSE95233.iloc[:,2:]\n",
        "y_GSE95233 = GSE95233.iloc[:,1]\n",
        "GSE100159 = pd.read_csv('data_GSE100159.csv')\n",
        "X_GSE100159 = GSE100159.iloc[:,2:]\n",
        "y_GSE100159 = GSE100159.iloc[:,1]\n",
        "GSE134347 = pd.read_csv('data_GSE134347.csv')\n",
        "X_GSE134347 = GSE134347.iloc[:,2:]\n",
        "y_GSE134347 = GSE134347.iloc[:,1]\n",
        "GSE137342 = pd.read_csv('data_GSE137342.csv')\n",
        "X_GSE137342 = GSE137342.iloc[:,2:]\n",
        "y_GSE137342 = GSE137342.iloc[:,1]\n",
        "GSE154918 = pd.read_csv('data_GSE154918.csv')\n",
        "X_GSE154918 = GSE154918.iloc[:,2:]\n",
        "y_GSE154918 = GSE154918.iloc[:,1]\n",
        "GSE205672 = pd.read_csv('data_GSE205672.csv')\n",
        "X_GSE205672 = GSE205672.iloc[:,2:]\n",
        "y_GSE205672 = GSE205672.iloc[:,1]\n",
        "GSE210797 = pd.read_csv('data_GSE210797.csv')\n",
        "X_GSE210797 = GSE210797.iloc[:,2:]\n",
        "y_GSE210797 = GSE210797.iloc[:,1]\n",
        "GSE211210 = pd.read_csv('data_GSE211210.csv')\n",
        "X_GSE211210 = GSE211210.iloc[:,2:]\n",
        "y_GSE211210 = GSE211210.iloc[:,1]\n",
        "GSE236713 = pd.read_csv('data_GSE236713.csv')\n",
        "X_GSE236713 = GSE236713.iloc[:,2:]\n",
        "y_GSE236713 = GSE236713.iloc[:,1]"
      ]
    },
    {
      "cell_type": "code",
      "execution_count": 7,
      "metadata": {
        "colab": {
          "base_uri": "https://localhost:8080/",
          "height": 80
        },
        "id": "4X2P2ivu3o-6",
        "outputId": "b6d043ee-b819-4cd6-d52a-52f2d7ab28ec"
      },
      "outputs": [
        {
          "data": {
            "text/html": [
              "<style>#sk-container-id-1 {\n",
              "  /* Definition of color scheme common for light and dark mode */\n",
              "  --sklearn-color-text: #000;\n",
              "  --sklearn-color-text-muted: #666;\n",
              "  --sklearn-color-line: gray;\n",
              "  /* Definition of color scheme for unfitted estimators */\n",
              "  --sklearn-color-unfitted-level-0: #fff5e6;\n",
              "  --sklearn-color-unfitted-level-1: #f6e4d2;\n",
              "  --sklearn-color-unfitted-level-2: #ffe0b3;\n",
              "  --sklearn-color-unfitted-level-3: chocolate;\n",
              "  /* Definition of color scheme for fitted estimators */\n",
              "  --sklearn-color-fitted-level-0: #f0f8ff;\n",
              "  --sklearn-color-fitted-level-1: #d4ebff;\n",
              "  --sklearn-color-fitted-level-2: #b3dbfd;\n",
              "  --sklearn-color-fitted-level-3: cornflowerblue;\n",
              "\n",
              "  /* Specific color for light theme */\n",
              "  --sklearn-color-text-on-default-background: var(--sg-text-color, var(--theme-code-foreground, var(--jp-content-font-color1, black)));\n",
              "  --sklearn-color-background: var(--sg-background-color, var(--theme-background, var(--jp-layout-color0, white)));\n",
              "  --sklearn-color-border-box: var(--sg-text-color, var(--theme-code-foreground, var(--jp-content-font-color1, black)));\n",
              "  --sklearn-color-icon: #696969;\n",
              "\n",
              "  @media (prefers-color-scheme: dark) {\n",
              "    /* Redefinition of color scheme for dark theme */\n",
              "    --sklearn-color-text-on-default-background: var(--sg-text-color, var(--theme-code-foreground, var(--jp-content-font-color1, white)));\n",
              "    --sklearn-color-background: var(--sg-background-color, var(--theme-background, var(--jp-layout-color0, #111)));\n",
              "    --sklearn-color-border-box: var(--sg-text-color, var(--theme-code-foreground, var(--jp-content-font-color1, white)));\n",
              "    --sklearn-color-icon: #878787;\n",
              "  }\n",
              "}\n",
              "\n",
              "#sk-container-id-1 {\n",
              "  color: var(--sklearn-color-text);\n",
              "}\n",
              "\n",
              "#sk-container-id-1 pre {\n",
              "  padding: 0;\n",
              "}\n",
              "\n",
              "#sk-container-id-1 input.sk-hidden--visually {\n",
              "  border: 0;\n",
              "  clip: rect(1px 1px 1px 1px);\n",
              "  clip: rect(1px, 1px, 1px, 1px);\n",
              "  height: 1px;\n",
              "  margin: -1px;\n",
              "  overflow: hidden;\n",
              "  padding: 0;\n",
              "  position: absolute;\n",
              "  width: 1px;\n",
              "}\n",
              "\n",
              "#sk-container-id-1 div.sk-dashed-wrapped {\n",
              "  border: 1px dashed var(--sklearn-color-line);\n",
              "  margin: 0 0.4em 0.5em 0.4em;\n",
              "  box-sizing: border-box;\n",
              "  padding-bottom: 0.4em;\n",
              "  background-color: var(--sklearn-color-background);\n",
              "}\n",
              "\n",
              "#sk-container-id-1 div.sk-container {\n",
              "  /* jupyter's `normalize.less` sets `[hidden] { display: none; }`\n",
              "     but bootstrap.min.css set `[hidden] { display: none !important; }`\n",
              "     so we also need the `!important` here to be able to override the\n",
              "     default hidden behavior on the sphinx rendered scikit-learn.org.\n",
              "     See: https://github.com/scikit-learn/scikit-learn/issues/21755 */\n",
              "  display: inline-block !important;\n",
              "  position: relative;\n",
              "}\n",
              "\n",
              "#sk-container-id-1 div.sk-text-repr-fallback {\n",
              "  display: none;\n",
              "}\n",
              "\n",
              "div.sk-parallel-item,\n",
              "div.sk-serial,\n",
              "div.sk-item {\n",
              "  /* draw centered vertical line to link estimators */\n",
              "  background-image: linear-gradient(var(--sklearn-color-text-on-default-background), var(--sklearn-color-text-on-default-background));\n",
              "  background-size: 2px 100%;\n",
              "  background-repeat: no-repeat;\n",
              "  background-position: center center;\n",
              "}\n",
              "\n",
              "/* Parallel-specific style estimator block */\n",
              "\n",
              "#sk-container-id-1 div.sk-parallel-item::after {\n",
              "  content: \"\";\n",
              "  width: 100%;\n",
              "  border-bottom: 2px solid var(--sklearn-color-text-on-default-background);\n",
              "  flex-grow: 1;\n",
              "}\n",
              "\n",
              "#sk-container-id-1 div.sk-parallel {\n",
              "  display: flex;\n",
              "  align-items: stretch;\n",
              "  justify-content: center;\n",
              "  background-color: var(--sklearn-color-background);\n",
              "  position: relative;\n",
              "}\n",
              "\n",
              "#sk-container-id-1 div.sk-parallel-item {\n",
              "  display: flex;\n",
              "  flex-direction: column;\n",
              "}\n",
              "\n",
              "#sk-container-id-1 div.sk-parallel-item:first-child::after {\n",
              "  align-self: flex-end;\n",
              "  width: 50%;\n",
              "}\n",
              "\n",
              "#sk-container-id-1 div.sk-parallel-item:last-child::after {\n",
              "  align-self: flex-start;\n",
              "  width: 50%;\n",
              "}\n",
              "\n",
              "#sk-container-id-1 div.sk-parallel-item:only-child::after {\n",
              "  width: 0;\n",
              "}\n",
              "\n",
              "/* Serial-specific style estimator block */\n",
              "\n",
              "#sk-container-id-1 div.sk-serial {\n",
              "  display: flex;\n",
              "  flex-direction: column;\n",
              "  align-items: center;\n",
              "  background-color: var(--sklearn-color-background);\n",
              "  padding-right: 1em;\n",
              "  padding-left: 1em;\n",
              "}\n",
              "\n",
              "\n",
              "/* Toggleable style: style used for estimator/Pipeline/ColumnTransformer box that is\n",
              "clickable and can be expanded/collapsed.\n",
              "- Pipeline and ColumnTransformer use this feature and define the default style\n",
              "- Estimators will overwrite some part of the style using the `sk-estimator` class\n",
              "*/\n",
              "\n",
              "/* Pipeline and ColumnTransformer style (default) */\n",
              "\n",
              "#sk-container-id-1 div.sk-toggleable {\n",
              "  /* Default theme specific background. It is overwritten whether we have a\n",
              "  specific estimator or a Pipeline/ColumnTransformer */\n",
              "  background-color: var(--sklearn-color-background);\n",
              "}\n",
              "\n",
              "/* Toggleable label */\n",
              "#sk-container-id-1 label.sk-toggleable__label {\n",
              "  cursor: pointer;\n",
              "  display: flex;\n",
              "  width: 100%;\n",
              "  margin-bottom: 0;\n",
              "  padding: 0.5em;\n",
              "  box-sizing: border-box;\n",
              "  text-align: center;\n",
              "  align-items: start;\n",
              "  justify-content: space-between;\n",
              "  gap: 0.5em;\n",
              "}\n",
              "\n",
              "#sk-container-id-1 label.sk-toggleable__label .caption {\n",
              "  font-size: 0.6rem;\n",
              "  font-weight: lighter;\n",
              "  color: var(--sklearn-color-text-muted);\n",
              "}\n",
              "\n",
              "#sk-container-id-1 label.sk-toggleable__label-arrow:before {\n",
              "  /* Arrow on the left of the label */\n",
              "  content: \"▸\";\n",
              "  float: left;\n",
              "  margin-right: 0.25em;\n",
              "  color: var(--sklearn-color-icon);\n",
              "}\n",
              "\n",
              "#sk-container-id-1 label.sk-toggleable__label-arrow:hover:before {\n",
              "  color: var(--sklearn-color-text);\n",
              "}\n",
              "\n",
              "/* Toggleable content - dropdown */\n",
              "\n",
              "#sk-container-id-1 div.sk-toggleable__content {\n",
              "  max-height: 0;\n",
              "  max-width: 0;\n",
              "  overflow: hidden;\n",
              "  text-align: left;\n",
              "  /* unfitted */\n",
              "  background-color: var(--sklearn-color-unfitted-level-0);\n",
              "}\n",
              "\n",
              "#sk-container-id-1 div.sk-toggleable__content.fitted {\n",
              "  /* fitted */\n",
              "  background-color: var(--sklearn-color-fitted-level-0);\n",
              "}\n",
              "\n",
              "#sk-container-id-1 div.sk-toggleable__content pre {\n",
              "  margin: 0.2em;\n",
              "  border-radius: 0.25em;\n",
              "  color: var(--sklearn-color-text);\n",
              "  /* unfitted */\n",
              "  background-color: var(--sklearn-color-unfitted-level-0);\n",
              "}\n",
              "\n",
              "#sk-container-id-1 div.sk-toggleable__content.fitted pre {\n",
              "  /* unfitted */\n",
              "  background-color: var(--sklearn-color-fitted-level-0);\n",
              "}\n",
              "\n",
              "#sk-container-id-1 input.sk-toggleable__control:checked~div.sk-toggleable__content {\n",
              "  /* Expand drop-down */\n",
              "  max-height: 200px;\n",
              "  max-width: 100%;\n",
              "  overflow: auto;\n",
              "}\n",
              "\n",
              "#sk-container-id-1 input.sk-toggleable__control:checked~label.sk-toggleable__label-arrow:before {\n",
              "  content: \"▾\";\n",
              "}\n",
              "\n",
              "/* Pipeline/ColumnTransformer-specific style */\n",
              "\n",
              "#sk-container-id-1 div.sk-label input.sk-toggleable__control:checked~label.sk-toggleable__label {\n",
              "  color: var(--sklearn-color-text);\n",
              "  background-color: var(--sklearn-color-unfitted-level-2);\n",
              "}\n",
              "\n",
              "#sk-container-id-1 div.sk-label.fitted input.sk-toggleable__control:checked~label.sk-toggleable__label {\n",
              "  background-color: var(--sklearn-color-fitted-level-2);\n",
              "}\n",
              "\n",
              "/* Estimator-specific style */\n",
              "\n",
              "/* Colorize estimator box */\n",
              "#sk-container-id-1 div.sk-estimator input.sk-toggleable__control:checked~label.sk-toggleable__label {\n",
              "  /* unfitted */\n",
              "  background-color: var(--sklearn-color-unfitted-level-2);\n",
              "}\n",
              "\n",
              "#sk-container-id-1 div.sk-estimator.fitted input.sk-toggleable__control:checked~label.sk-toggleable__label {\n",
              "  /* fitted */\n",
              "  background-color: var(--sklearn-color-fitted-level-2);\n",
              "}\n",
              "\n",
              "#sk-container-id-1 div.sk-label label.sk-toggleable__label,\n",
              "#sk-container-id-1 div.sk-label label {\n",
              "  /* The background is the default theme color */\n",
              "  color: var(--sklearn-color-text-on-default-background);\n",
              "}\n",
              "\n",
              "/* On hover, darken the color of the background */\n",
              "#sk-container-id-1 div.sk-label:hover label.sk-toggleable__label {\n",
              "  color: var(--sklearn-color-text);\n",
              "  background-color: var(--sklearn-color-unfitted-level-2);\n",
              "}\n",
              "\n",
              "/* Label box, darken color on hover, fitted */\n",
              "#sk-container-id-1 div.sk-label.fitted:hover label.sk-toggleable__label.fitted {\n",
              "  color: var(--sklearn-color-text);\n",
              "  background-color: var(--sklearn-color-fitted-level-2);\n",
              "}\n",
              "\n",
              "/* Estimator label */\n",
              "\n",
              "#sk-container-id-1 div.sk-label label {\n",
              "  font-family: monospace;\n",
              "  font-weight: bold;\n",
              "  display: inline-block;\n",
              "  line-height: 1.2em;\n",
              "}\n",
              "\n",
              "#sk-container-id-1 div.sk-label-container {\n",
              "  text-align: center;\n",
              "}\n",
              "\n",
              "/* Estimator-specific */\n",
              "#sk-container-id-1 div.sk-estimator {\n",
              "  font-family: monospace;\n",
              "  border: 1px dotted var(--sklearn-color-border-box);\n",
              "  border-radius: 0.25em;\n",
              "  box-sizing: border-box;\n",
              "  margin-bottom: 0.5em;\n",
              "  /* unfitted */\n",
              "  background-color: var(--sklearn-color-unfitted-level-0);\n",
              "}\n",
              "\n",
              "#sk-container-id-1 div.sk-estimator.fitted {\n",
              "  /* fitted */\n",
              "  background-color: var(--sklearn-color-fitted-level-0);\n",
              "}\n",
              "\n",
              "/* on hover */\n",
              "#sk-container-id-1 div.sk-estimator:hover {\n",
              "  /* unfitted */\n",
              "  background-color: var(--sklearn-color-unfitted-level-2);\n",
              "}\n",
              "\n",
              "#sk-container-id-1 div.sk-estimator.fitted:hover {\n",
              "  /* fitted */\n",
              "  background-color: var(--sklearn-color-fitted-level-2);\n",
              "}\n",
              "\n",
              "/* Specification for estimator info (e.g. \"i\" and \"?\") */\n",
              "\n",
              "/* Common style for \"i\" and \"?\" */\n",
              "\n",
              ".sk-estimator-doc-link,\n",
              "a:link.sk-estimator-doc-link,\n",
              "a:visited.sk-estimator-doc-link {\n",
              "  float: right;\n",
              "  font-size: smaller;\n",
              "  line-height: 1em;\n",
              "  font-family: monospace;\n",
              "  background-color: var(--sklearn-color-background);\n",
              "  border-radius: 1em;\n",
              "  height: 1em;\n",
              "  width: 1em;\n",
              "  text-decoration: none !important;\n",
              "  margin-left: 0.5em;\n",
              "  text-align: center;\n",
              "  /* unfitted */\n",
              "  border: var(--sklearn-color-unfitted-level-1) 1pt solid;\n",
              "  color: var(--sklearn-color-unfitted-level-1);\n",
              "}\n",
              "\n",
              ".sk-estimator-doc-link.fitted,\n",
              "a:link.sk-estimator-doc-link.fitted,\n",
              "a:visited.sk-estimator-doc-link.fitted {\n",
              "  /* fitted */\n",
              "  border: var(--sklearn-color-fitted-level-1) 1pt solid;\n",
              "  color: var(--sklearn-color-fitted-level-1);\n",
              "}\n",
              "\n",
              "/* On hover */\n",
              "div.sk-estimator:hover .sk-estimator-doc-link:hover,\n",
              ".sk-estimator-doc-link:hover,\n",
              "div.sk-label-container:hover .sk-estimator-doc-link:hover,\n",
              ".sk-estimator-doc-link:hover {\n",
              "  /* unfitted */\n",
              "  background-color: var(--sklearn-color-unfitted-level-3);\n",
              "  color: var(--sklearn-color-background);\n",
              "  text-decoration: none;\n",
              "}\n",
              "\n",
              "div.sk-estimator.fitted:hover .sk-estimator-doc-link.fitted:hover,\n",
              ".sk-estimator-doc-link.fitted:hover,\n",
              "div.sk-label-container:hover .sk-estimator-doc-link.fitted:hover,\n",
              ".sk-estimator-doc-link.fitted:hover {\n",
              "  /* fitted */\n",
              "  background-color: var(--sklearn-color-fitted-level-3);\n",
              "  color: var(--sklearn-color-background);\n",
              "  text-decoration: none;\n",
              "}\n",
              "\n",
              "/* Span, style for the box shown on hovering the info icon */\n",
              ".sk-estimator-doc-link span {\n",
              "  display: none;\n",
              "  z-index: 9999;\n",
              "  position: relative;\n",
              "  font-weight: normal;\n",
              "  right: .2ex;\n",
              "  padding: .5ex;\n",
              "  margin: .5ex;\n",
              "  width: min-content;\n",
              "  min-width: 20ex;\n",
              "  max-width: 50ex;\n",
              "  color: var(--sklearn-color-text);\n",
              "  box-shadow: 2pt 2pt 4pt #999;\n",
              "  /* unfitted */\n",
              "  background: var(--sklearn-color-unfitted-level-0);\n",
              "  border: .5pt solid var(--sklearn-color-unfitted-level-3);\n",
              "}\n",
              "\n",
              ".sk-estimator-doc-link.fitted span {\n",
              "  /* fitted */\n",
              "  background: var(--sklearn-color-fitted-level-0);\n",
              "  border: var(--sklearn-color-fitted-level-3);\n",
              "}\n",
              "\n",
              ".sk-estimator-doc-link:hover span {\n",
              "  display: block;\n",
              "}\n",
              "\n",
              "/* \"?\"-specific style due to the `<a>` HTML tag */\n",
              "\n",
              "#sk-container-id-1 a.estimator_doc_link {\n",
              "  float: right;\n",
              "  font-size: 1rem;\n",
              "  line-height: 1em;\n",
              "  font-family: monospace;\n",
              "  background-color: var(--sklearn-color-background);\n",
              "  border-radius: 1rem;\n",
              "  height: 1rem;\n",
              "  width: 1rem;\n",
              "  text-decoration: none;\n",
              "  /* unfitted */\n",
              "  color: var(--sklearn-color-unfitted-level-1);\n",
              "  border: var(--sklearn-color-unfitted-level-1) 1pt solid;\n",
              "}\n",
              "\n",
              "#sk-container-id-1 a.estimator_doc_link.fitted {\n",
              "  /* fitted */\n",
              "  border: var(--sklearn-color-fitted-level-1) 1pt solid;\n",
              "  color: var(--sklearn-color-fitted-level-1);\n",
              "}\n",
              "\n",
              "/* On hover */\n",
              "#sk-container-id-1 a.estimator_doc_link:hover {\n",
              "  /* unfitted */\n",
              "  background-color: var(--sklearn-color-unfitted-level-3);\n",
              "  color: var(--sklearn-color-background);\n",
              "  text-decoration: none;\n",
              "}\n",
              "\n",
              "#sk-container-id-1 a.estimator_doc_link.fitted:hover {\n",
              "  /* fitted */\n",
              "  background-color: var(--sklearn-color-fitted-level-3);\n",
              "}\n",
              "</style><div id=\"sk-container-id-1\" class=\"sk-top-container\"><div class=\"sk-text-repr-fallback\"><pre>TabPFNClassifier(random_state=64357346)</pre><b>In a Jupyter environment, please rerun this cell to show the HTML representation or trust the notebook. <br />On GitHub, the HTML representation is unable to render, please try loading this page with nbviewer.org.</b></div><div class=\"sk-container\" hidden><div class=\"sk-item\"><div class=\"sk-estimator fitted sk-toggleable\"><input class=\"sk-toggleable__control sk-hidden--visually\" id=\"sk-estimator-id-1\" type=\"checkbox\" checked><label for=\"sk-estimator-id-1\" class=\"sk-toggleable__label fitted sk-toggleable__label-arrow\"><div><div>TabPFNClassifier</div></div><div><span class=\"sk-estimator-doc-link fitted\">i<span>Fitted</span></span></div></label><div class=\"sk-toggleable__content fitted\"><pre>TabPFNClassifier(random_state=64357346)</pre></div> </div></div></div></div>"
            ],
            "text/plain": [
              "TabPFNClassifier(random_state=64357346)"
            ]
          },
          "execution_count": 7,
          "metadata": {},
          "output_type": "execute_result"
        }
      ],
      "source": [
        "model = TabPFNClassifier(random_state=seed)\n",
        "model.fit(X_GSE205672,y_GSE205672)"
      ]
    },
    {
      "cell_type": "code",
      "execution_count": 8,
      "metadata": {
        "id": "WZ2zsebi3qzc"
      },
      "outputs": [],
      "source": [
        "pro_GSE13904 = model.predict_proba(X_GSE13904)[:,1]\n",
        "pro_GSE54514 = model.predict_proba(X_GSE54514)[:,1]\n",
        "pro_GSE64457 = model.predict_proba(X_GSE64457)[:,1]\n",
        "pro_GSE65682 = model.predict_proba(X_GSE65682)[:,1]\n",
        "pro_GSE69063 = model.predict_proba(X_GSE69063)[:,1]\n",
        "pro_GSE95233 = model.predict_proba(X_GSE95233)[:,1]\n",
        "pro_GSE100159 = model.predict_proba(X_GSE100159)[:,1]\n",
        "pro_GSE134347 = model.predict_proba(X_GSE134347)[:,1]\n",
        "pro_GSE137342 = model.predict_proba(X_GSE137342)[:,1]\n",
        "pro_GSE154918 = model.predict_proba(X_GSE154918)[:,1]\n",
        "pro_GSE205672 = model.predict_proba(X_GSE205672)[:,1]\n",
        "pro_GSE210797 = model.predict_proba(X_GSE210797)[:,1]\n",
        "pro_GSE211210 = model.predict_proba(X_GSE211210)[:,1]\n",
        "pro_GSE236713 = model.predict_proba(X_GSE236713)[:,1]\n",
        "pre_GSE13904 = model.predict(X_GSE13904)\n",
        "pre_GSE54514 = model.predict(X_GSE54514)\n",
        "pre_GSE64457 = model.predict(X_GSE64457)\n",
        "pre_GSE65682 = model.predict(X_GSE65682)\n",
        "pre_GSE69063 = model.predict(X_GSE69063)\n",
        "pre_GSE95233 = model.predict(X_GSE95233)\n",
        "pre_GSE100159 = model.predict(X_GSE100159)\n",
        "pre_GSE134347 = model.predict(X_GSE134347)\n",
        "pre_GSE137342 = model.predict(X_GSE137342)\n",
        "pre_GSE154918 = model.predict(X_GSE154918)\n",
        "pre_GSE205672 = model.predict(X_GSE205672)\n",
        "pre_GSE210797 = model.predict(X_GSE210797)\n",
        "pre_GSE211210 = model.predict(X_GSE211210)\n",
        "pre_GSE236713 = model.predict(X_GSE236713)"
      ]
    },
    {
      "cell_type": "code",
      "execution_count": 9,
      "metadata": {},
      "outputs": [],
      "source": [
        "pd.DataFrame({\n",
        "    'True':y_GSE13904,\n",
        "    'Pre':pre_GSE13904\n",
        "}).to_csv('TabPFN_GSE13904.csv',index=False)\n",
        "pd.DataFrame({\n",
        "    'True':y_GSE54514,\n",
        "    'Pre':pre_GSE54514\n",
        "}).to_csv('TabPFN_GSE54514.csv',index=False)\n",
        "pd.DataFrame({\n",
        "    'True':y_GSE64457,\n",
        "    'Pre':pre_GSE64457\n",
        "}).to_csv('TabPFN_GSE64457.csv',index=False)\n",
        "pd.DataFrame({\n",
        "    'True':y_GSE65682,\n",
        "    'Pre':pre_GSE65682\n",
        "}).to_csv('TabPFN_GSE65682.csv',index=False)\n",
        "pd.DataFrame({\n",
        "    'True':y_GSE69063,\n",
        "    'Pre':pre_GSE69063\n",
        "}).to_csv('TabPFN_GSE69063.csv',index=False)\n",
        "pd.DataFrame({\n",
        "    'True':y_GSE95233,\n",
        "    'Pre':pre_GSE95233\n",
        "}).to_csv('TabPFN_GSE95233.csv',index=False)\n",
        "pd.DataFrame({\n",
        "    'True':y_GSE100159,\n",
        "    'Pre':pre_GSE100159\n",
        "}).to_csv('TabPFN_GSE100159.csv',index=False)\n",
        "pd.DataFrame({\n",
        "    'True':y_GSE134347,\n",
        "    'Pre':pre_GSE134347\n",
        "}).to_csv('TabPFN_GSE134347.csv',index=False)\n",
        "pd.DataFrame({\n",
        "    'True':y_GSE137342,\n",
        "    'Pre':pre_GSE137342\n",
        "}).to_csv('TabPFN_GSE137342.csv',index=False)\n",
        "pd.DataFrame({\n",
        "    'True':y_GSE154918,\n",
        "    'Pre':pre_GSE154918\n",
        "}).to_csv('TabPFN_GSE154918.csv',index=False)\n",
        "pd.DataFrame({\n",
        "    'True':y_GSE210797,\n",
        "    'Pre':pre_GSE210797\n",
        "}).to_csv('TabPFN_GSE210797.csv',index=False)\n",
        "pd.DataFrame({\n",
        "    'True':y_GSE211210,\n",
        "    'Pre':pre_GSE211210\n",
        "}).to_csv('TabPFN_GSE211210.csv',index=False)\n",
        "pd.DataFrame({\n",
        "    'True':y_GSE236713,\n",
        "    'Pre':pre_GSE236713\n",
        "}).to_csv('TabPFN_GSE236713.csv',index=False)"
      ]
    },
    {
      "cell_type": "code",
      "execution_count": 101,
      "metadata": {
        "colab": {
          "base_uri": "https://localhost:8080/"
        },
        "id": "3dgmn5i53s6z",
        "outputId": "b09c3be3-9a04-4c54-91b5-fa8361890314"
      },
      "outputs": [
        {
          "name": "stdout",
          "output_type": "stream",
          "text": [
            "AUC = 1.000\n",
            "Accuracy = 1.000\n",
            "Sensitivity = 1.000\n",
            "Specificity = 1.000\n",
            "Precision = 1.000\n",
            "F1 = 1.000\n"
          ]
        }
      ],
      "source": [
        "print('AUC = {:.3f}'.format(roc_auc_score(y_GSE205672,pro_GSE205672)))\n",
        "print('Accuracy = {:.3f}'.format(accuracy_score(y_GSE205672,pre_GSE205672)))\n",
        "print('Sensitivity = {:.3f}'.format(sensitivity_score(y_GSE205672,pre_GSE205672)))\n",
        "print('Specificity = {:.3f}'.format(specificity_score(y_GSE205672,pre_GSE205672)))\n",
        "print('Precision = {:.3f}'.format(precision_score(y_GSE205672,pre_GSE205672)))\n",
        "print('F1 = {:.3f}'.format(f1_score(y_GSE205672,pre_GSE205672)))"
      ]
    },
    {
      "cell_type": "code",
      "execution_count": 102,
      "metadata": {
        "colab": {
          "base_uri": "https://localhost:8080/"
        },
        "id": "4miIIp9K3wpg",
        "outputId": "842f3090-2a1d-44f7-842a-9b69b4bc3a79"
      },
      "outputs": [
        {
          "name": "stdout",
          "output_type": "stream",
          "text": [
            "AUC = 0.937\n",
            "Accuracy = 0.869\n",
            "Sensitivity = 0.867\n",
            "Specificity = 0.889\n",
            "Precision = 0.986\n",
            "F1 = 0.923\n"
          ]
        }
      ],
      "source": [
        "print('AUC = {:.3f}'.format(roc_auc_score(y_GSE13904,pro_GSE13904)))\n",
        "print('Accuracy = {:.3f}'.format(accuracy_score(y_GSE13904,pre_GSE13904)))\n",
        "print('Sensitivity = {:.3f}'.format(sensitivity_score(y_GSE13904,pre_GSE13904)))\n",
        "print('Specificity = {:.3f}'.format(specificity_score(y_GSE13904,pre_GSE13904)))\n",
        "print('Precision = {:.3f}'.format(precision_score(y_GSE13904,pre_GSE13904)))\n",
        "print('F1 = {:.3f}'.format(f1_score(y_GSE13904,pre_GSE13904)))"
      ]
    },
    {
      "cell_type": "code",
      "execution_count": 103,
      "metadata": {
        "colab": {
          "base_uri": "https://localhost:8080/"
        },
        "id": "fnpmMHf130Iu",
        "outputId": "fce38619-4ac5-428c-fe22-579595df5c2c"
      },
      "outputs": [
        {
          "name": "stdout",
          "output_type": "stream",
          "text": [
            "AUC = 0.297\n",
            "Accuracy = 0.373\n",
            "Sensitivity = 0.419\n",
            "Specificity = 0.333\n",
            "Precision = 0.351\n",
            "F1 = 0.382\n"
          ]
        }
      ],
      "source": [
        "print('AUC = {:.3f}'.format(roc_auc_score(y_GSE54514,pro_GSE54514)))\n",
        "print('Accuracy = {:.3f}'.format(accuracy_score(y_GSE54514,pre_GSE54514)))\n",
        "print('Sensitivity = {:.3f}'.format(sensitivity_score(y_GSE54514,pre_GSE54514)))\n",
        "print('Specificity = {:.3f}'.format(specificity_score(y_GSE54514,pre_GSE54514)))\n",
        "print('Precision = {:.3f}'.format(precision_score(y_GSE54514,pre_GSE54514)))\n",
        "print('F1 = {:.3f}'.format(f1_score(y_GSE54514,pre_GSE54514)))"
      ]
    },
    {
      "cell_type": "code",
      "execution_count": 104,
      "metadata": {
        "colab": {
          "base_uri": "https://localhost:8080/"
        },
        "id": "jKtfvuNa32Lx",
        "outputId": "fb1e2b45-e8e1-4b70-e2c8-d948a54cc3ba"
      },
      "outputs": [
        {
          "name": "stdout",
          "output_type": "stream",
          "text": [
            "AUC = 0.917\n",
            "Accuracy = 0.783\n",
            "Sensitivity = 0.867\n",
            "Specificity = 0.625\n",
            "Precision = 0.812\n",
            "F1 = 0.839\n"
          ]
        }
      ],
      "source": [
        "print('AUC = {:.3f}'.format(roc_auc_score(y_GSE64457,pro_GSE64457)))\n",
        "print('Accuracy = {:.3f}'.format(accuracy_score(y_GSE64457,pre_GSE64457)))\n",
        "print('Sensitivity = {:.3f}'.format(sensitivity_score(y_GSE64457,pre_GSE64457)))\n",
        "print('Specificity = {:.3f}'.format(specificity_score(y_GSE64457,pre_GSE64457)))\n",
        "print('Precision = {:.3f}'.format(precision_score(y_GSE64457,pre_GSE64457)))\n",
        "print('F1 = {:.3f}'.format(f1_score(y_GSE64457,pre_GSE64457)))"
      ]
    },
    {
      "cell_type": "code",
      "execution_count": 105,
      "metadata": {
        "colab": {
          "base_uri": "https://localhost:8080/"
        },
        "id": "6wj2Pq5C33Yw",
        "outputId": "a7307927-9db1-444f-9983-7a07128e43c9"
      },
      "outputs": [
        {
          "name": "stdout",
          "output_type": "stream",
          "text": [
            "AUC = 0.591\n",
            "Accuracy = 0.602\n",
            "Sensitivity = 0.824\n",
            "Specificity = 0.333\n",
            "Precision = 0.600\n",
            "F1 = 0.694\n"
          ]
        }
      ],
      "source": [
        "print('AUC = {:.3f}'.format(roc_auc_score(y_GSE65682,pro_GSE65682)))\n",
        "print('Accuracy = {:.3f}'.format(accuracy_score(y_GSE65682,pre_GSE65682)))\n",
        "print('Sensitivity = {:.3f}'.format(sensitivity_score(y_GSE65682,pre_GSE65682)))\n",
        "print('Specificity = {:.3f}'.format(specificity_score(y_GSE65682,pre_GSE65682)))\n",
        "print('Precision = {:.3f}'.format(precision_score(y_GSE65682,pre_GSE65682)))\n",
        "print('F1 = {:.3f}'.format(f1_score(y_GSE65682,pre_GSE65682)))"
      ]
    },
    {
      "cell_type": "code",
      "execution_count": 106,
      "metadata": {
        "colab": {
          "base_uri": "https://localhost:8080/"
        },
        "id": "XNdCV2sM349M",
        "outputId": "d5a6667c-e503-43b6-dbed-86fc5bf2f8d8"
      },
      "outputs": [
        {
          "name": "stdout",
          "output_type": "stream",
          "text": [
            "AUC = 0.783\n",
            "Accuracy = 0.700\n",
            "Sensitivity = 0.754\n",
            "Specificity = 0.606\n",
            "Precision = 0.768\n",
            "F1 = 0.761\n"
          ]
        }
      ],
      "source": [
        "print('AUC = {:.3f}'.format(roc_auc_score(y_GSE69063,pro_GSE69063)))\n",
        "print('Accuracy = {:.3f}'.format(accuracy_score(y_GSE69063,pre_GSE69063)))\n",
        "print('Sensitivity = {:.3f}'.format(sensitivity_score(y_GSE69063,pre_GSE69063)))\n",
        "print('Specificity = {:.3f}'.format(specificity_score(y_GSE69063,pre_GSE69063)))\n",
        "print('Precision = {:.3f}'.format(precision_score(y_GSE69063,pre_GSE69063)))\n",
        "print('F1 = {:.3f}'.format(f1_score(y_GSE69063,pre_GSE69063)))"
      ]
    },
    {
      "cell_type": "code",
      "execution_count": 107,
      "metadata": {
        "colab": {
          "base_uri": "https://localhost:8080/"
        },
        "id": "mjxxreTU36jK",
        "outputId": "2b451501-214c-4651-9f2f-1eb80f5c780f"
      },
      "outputs": [
        {
          "name": "stdout",
          "output_type": "stream",
          "text": [
            "AUC = 0.927\n",
            "Accuracy = 0.887\n",
            "Sensitivity = 0.902\n",
            "Specificity = 0.818\n",
            "Precision = 0.958\n",
            "F1 = 0.929\n"
          ]
        }
      ],
      "source": [
        "print('AUC = {:.3f}'.format(roc_auc_score(y_GSE95233,pro_GSE95233)))\n",
        "print('Accuracy = {:.3f}'.format(accuracy_score(y_GSE95233,pre_GSE95233)))\n",
        "print('Sensitivity = {:.3f}'.format(sensitivity_score(y_GSE95233,pre_GSE95233)))\n",
        "print('Specificity = {:.3f}'.format(specificity_score(y_GSE95233,pre_GSE95233)))\n",
        "print('Precision = {:.3f}'.format(precision_score(y_GSE95233,pre_GSE95233)))\n",
        "print('F1 = {:.3f}'.format(f1_score(y_GSE95233,pre_GSE95233)))"
      ]
    },
    {
      "cell_type": "code",
      "execution_count": 108,
      "metadata": {
        "colab": {
          "base_uri": "https://localhost:8080/"
        },
        "id": "-AybS7tk37xX",
        "outputId": "ae96ef41-91f3-4283-ace6-2c656177d6da"
      },
      "outputs": [
        {
          "name": "stdout",
          "output_type": "stream",
          "text": [
            "AUC = 1.000\n",
            "Accuracy = 0.978\n",
            "Sensitivity = 0.970\n",
            "Specificity = 1.000\n",
            "Precision = 1.000\n",
            "F1 = 0.985\n"
          ]
        }
      ],
      "source": [
        "print('AUC = {:.3f}'.format(roc_auc_score(y_GSE100159,pro_GSE100159)))\n",
        "print('Accuracy = {:.3f}'.format(accuracy_score(y_GSE100159,pre_GSE100159)))\n",
        "print('Sensitivity = {:.3f}'.format(sensitivity_score(y_GSE100159,pre_GSE100159)))\n",
        "print('Specificity = {:.3f}'.format(specificity_score(y_GSE100159,pre_GSE100159)))\n",
        "print('Precision = {:.3f}'.format(precision_score(y_GSE100159,pre_GSE100159)))\n",
        "print('F1 = {:.3f}'.format(f1_score(y_GSE100159,pre_GSE100159)))"
      ]
    },
    {
      "cell_type": "code",
      "execution_count": 109,
      "metadata": {
        "colab": {
          "base_uri": "https://localhost:8080/"
        },
        "id": "I8OlOoGl39H8",
        "outputId": "f6481647-b848-492d-e6e9-d2229d2a31ba"
      },
      "outputs": [
        {
          "name": "stdout",
          "output_type": "stream",
          "text": [
            "AUC = 0.820\n",
            "Accuracy = 0.703\n",
            "Sensitivity = 0.821\n",
            "Specificity = 0.482\n",
            "Precision = 0.749\n",
            "F1 = 0.783\n"
          ]
        }
      ],
      "source": [
        "print('AUC = {:.3f}'.format(roc_auc_score(y_GSE134347,pro_GSE134347)))\n",
        "print('Accuracy = {:.3f}'.format(accuracy_score(y_GSE134347,pre_GSE134347)))\n",
        "print('Sensitivity = {:.3f}'.format(sensitivity_score(y_GSE134347,pre_GSE134347)))\n",
        "print('Specificity = {:.3f}'.format(specificity_score(y_GSE134347,pre_GSE134347)))\n",
        "print('Precision = {:.3f}'.format(precision_score(y_GSE134347,pre_GSE134347)))\n",
        "print('F1 = {:.3f}'.format(f1_score(y_GSE134347,pre_GSE134347)))"
      ]
    },
    {
      "cell_type": "code",
      "execution_count": 110,
      "metadata": {
        "colab": {
          "base_uri": "https://localhost:8080/"
        },
        "id": "OATQhz2r3-bV",
        "outputId": "6c4e2f67-35c9-47e2-abf7-f24f93bf857c"
      },
      "outputs": [
        {
          "name": "stdout",
          "output_type": "stream",
          "text": [
            "AUC = 0.855\n",
            "Accuracy = 0.800\n",
            "Sensitivity = 0.884\n",
            "Specificity = 0.500\n",
            "Precision = 0.864\n",
            "F1 = 0.874\n"
          ]
        }
      ],
      "source": [
        "print('AUC = {:.3f}'.format(roc_auc_score(y_GSE137342,pro_GSE137342)))\n",
        "print('Accuracy = {:.3f}'.format(accuracy_score(y_GSE137342,pre_GSE137342)))\n",
        "print('Sensitivity = {:.3f}'.format(sensitivity_score(y_GSE137342,pre_GSE137342)))\n",
        "print('Specificity = {:.3f}'.format(specificity_score(y_GSE137342,pre_GSE137342)))\n",
        "print('Precision = {:.3f}'.format(precision_score(y_GSE137342,pre_GSE137342)))\n",
        "print('F1 = {:.3f}'.format(f1_score(y_GSE137342,pre_GSE137342)))"
      ]
    },
    {
      "cell_type": "code",
      "execution_count": 111,
      "metadata": {
        "colab": {
          "base_uri": "https://localhost:8080/"
        },
        "id": "2As-L77L3_zJ",
        "outputId": "9d5c51a5-cd2c-4eea-9150-35d91b02500e"
      },
      "outputs": [
        {
          "name": "stdout",
          "output_type": "stream",
          "text": [
            "AUC = 0.666\n",
            "Accuracy = 0.667\n",
            "Sensitivity = 0.700\n",
            "Specificity = 0.650\n",
            "Precision = 0.500\n",
            "F1 = 0.583\n"
          ]
        }
      ],
      "source": [
        "print('AUC = {:.3f}'.format(roc_auc_score(y_GSE154918,pro_GSE154918)))\n",
        "print('Accuracy = {:.3f}'.format(accuracy_score(y_GSE154918,pre_GSE154918)))\n",
        "print('Sensitivity = {:.3f}'.format(sensitivity_score(y_GSE154918,pre_GSE154918)))\n",
        "print('Specificity = {:.3f}'.format(specificity_score(y_GSE154918,pre_GSE154918)))\n",
        "print('Precision = {:.3f}'.format(precision_score(y_GSE154918,pre_GSE154918)))\n",
        "print('F1 = {:.3f}'.format(f1_score(y_GSE154918,pre_GSE154918)))"
      ]
    },
    {
      "cell_type": "code",
      "execution_count": 112,
      "metadata": {
        "colab": {
          "base_uri": "https://localhost:8080/"
        },
        "id": "4ws3Yaoc4A85",
        "outputId": "2da0df31-580c-49f6-c3d6-d22f758b0e6a"
      },
      "outputs": [
        {
          "name": "stdout",
          "output_type": "stream",
          "text": [
            "AUC = 0.528\n",
            "Accuracy = 0.333\n",
            "Sensitivity = 0.500\n",
            "Specificity = 0.167\n",
            "Precision = 0.375\n",
            "F1 = 0.429\n"
          ]
        }
      ],
      "source": [
        "print('AUC = {:.3f}'.format(roc_auc_score(y_GSE210797,pro_GSE210797)))\n",
        "print('Accuracy = {:.3f}'.format(accuracy_score(y_GSE210797,pre_GSE210797)))\n",
        "print('Sensitivity = {:.3f}'.format(sensitivity_score(y_GSE210797,pre_GSE210797)))\n",
        "print('Specificity = {:.3f}'.format(specificity_score(y_GSE210797,pre_GSE210797)))\n",
        "print('Precision = {:.3f}'.format(precision_score(y_GSE210797,pre_GSE210797)))\n",
        "print('F1 = {:.3f}'.format(f1_score(y_GSE210797,pre_GSE210797)))"
      ]
    },
    {
      "cell_type": "code",
      "execution_count": 113,
      "metadata": {
        "colab": {
          "base_uri": "https://localhost:8080/"
        },
        "id": "Cq8_881k4CHJ",
        "outputId": "2533f900-9b9d-40e2-af90-7b21c4056879"
      },
      "outputs": [
        {
          "name": "stdout",
          "output_type": "stream",
          "text": [
            "AUC = 0.960\n",
            "Accuracy = 0.800\n",
            "Sensitivity = 1.000\n",
            "Specificity = 0.600\n",
            "Precision = 0.714\n",
            "F1 = 0.833\n"
          ]
        }
      ],
      "source": [
        "print('AUC = {:.3f}'.format(roc_auc_score(y_GSE211210,pro_GSE211210)))\n",
        "print('Accuracy = {:.3f}'.format(accuracy_score(y_GSE211210,pre_GSE211210)))\n",
        "print('Sensitivity = {:.3f}'.format(sensitivity_score(y_GSE211210,pre_GSE211210)))\n",
        "print('Specificity = {:.3f}'.format(specificity_score(y_GSE211210,pre_GSE211210)))\n",
        "print('Precision = {:.3f}'.format(precision_score(y_GSE211210,pre_GSE211210)))\n",
        "print('F1 = {:.3f}'.format(f1_score(y_GSE211210,pre_GSE211210)))"
      ]
    },
    {
      "cell_type": "code",
      "execution_count": 114,
      "metadata": {
        "colab": {
          "base_uri": "https://localhost:8080/"
        },
        "id": "e0p3Wa-L4DZ4",
        "outputId": "0469256f-bad8-428d-95c6-273c03744a67"
      },
      "outputs": [
        {
          "name": "stdout",
          "output_type": "stream",
          "text": [
            "AUC = 0.981\n",
            "Accuracy = 0.918\n",
            "Sensitivity = 0.914\n",
            "Specificity = 0.967\n",
            "Precision = 0.997\n",
            "F1 = 0.953\n"
          ]
        }
      ],
      "source": [
        "print('AUC = {:.3f}'.format(roc_auc_score(y_GSE236713,pro_GSE236713)))\n",
        "print('Accuracy = {:.3f}'.format(accuracy_score(y_GSE236713,pre_GSE236713)))\n",
        "print('Sensitivity = {:.3f}'.format(sensitivity_score(y_GSE236713,pre_GSE236713)))\n",
        "print('Specificity = {:.3f}'.format(specificity_score(y_GSE236713,pre_GSE236713)))\n",
        "print('Precision = {:.3f}'.format(precision_score(y_GSE236713,pre_GSE236713)))\n",
        "print('F1 = {:.3f}'.format(f1_score(y_GSE236713,pre_GSE236713)))"
      ]
    },
    {
      "cell_type": "code",
      "execution_count": 114,
      "metadata": {
        "id": "M8PWXIm94Ewc"
      },
      "outputs": [],
      "source": []
    }
  ],
  "metadata": {
    "accelerator": "GPU",
    "colab": {
      "gpuType": "T4",
      "provenance": []
    },
    "kernelspec": {
      "display_name": "tabpfn",
      "language": "python",
      "name": "python3"
    },
    "language_info": {
      "codemirror_mode": {
        "name": "ipython",
        "version": 3
      },
      "file_extension": ".py",
      "mimetype": "text/x-python",
      "name": "python",
      "nbconvert_exporter": "python",
      "pygments_lexer": "ipython3",
      "version": "3.11.11"
    }
  },
  "nbformat": 4,
  "nbformat_minor": 0
}
