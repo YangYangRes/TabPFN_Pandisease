{
 "cells": [
  {
   "cell_type": "code",
   "execution_count": 2,
   "metadata": {},
   "outputs": [],
   "source": [
    "import warnings\n",
    "warnings.filterwarnings('ignore')"
   ]
  },
  {
   "cell_type": "code",
   "execution_count": 3,
   "metadata": {},
   "outputs": [],
   "source": [
    "import pandas as pd\n",
    "import numpy as np\n",
    "from sklearn.model_selection import RepeatedStratifiedKFold\n",
    "from sklearn.metrics import roc_auc_score\n",
    "from sklearn.metrics import accuracy_score\n",
    "from sklearn.metrics import f1_score\n",
    "from imblearn.metrics import sensitivity_score\n",
    "from imblearn.metrics import specificity_score\n",
    "from sklearn.metrics import precision_score\n",
    "from sklearn.linear_model import LogisticRegression"
   ]
  },
  {
   "cell_type": "code",
   "execution_count": 4,
   "metadata": {},
   "outputs": [],
   "source": [
    "seed = 73467541"
   ]
  },
  {
   "cell_type": "code",
   "execution_count": 5,
   "metadata": {},
   "outputs": [],
   "source": [
    "sp = RepeatedStratifiedKFold(random_state=seed,n_repeats=3,n_splits=5)"
   ]
  },
  {
   "cell_type": "code",
   "execution_count": 6,
   "metadata": {},
   "outputs": [],
   "source": [
    "GSE13904 = pd.read_csv('data_GSE13904.csv')\n",
    "X_GSE13904 = GSE13904.iloc[:,2:]\n",
    "y_GSE13904 = GSE13904.iloc[:,1]\n",
    "GSE54514 = pd.read_csv('data_GSE54514.csv')\n",
    "X_GSE54514 = GSE54514.iloc[:,2:]\n",
    "y_GSE54514 = GSE54514.iloc[:,1]\n",
    "GSE64457 = pd.read_csv('data_GSE64457.csv')\n",
    "X_GSE64457 = GSE64457.iloc[:,2:]\n",
    "y_GSE64457 = GSE64457.iloc[:,1]\n",
    "GSE65682 = pd.read_csv('data_GSE65682.csv')\n",
    "X_GSE65682 = GSE65682.iloc[:,2:]\n",
    "y_GSE65682 = GSE65682.iloc[:,1]\n",
    "GSE69063 = pd.read_csv('data_GSE69063.csv')\n",
    "X_GSE69063 = GSE69063.iloc[:,2:]\n",
    "y_GSE69063 = GSE69063.iloc[:,1]\n",
    "GSE95233 = pd.read_csv('data_GSE95233.csv')\n",
    "X_GSE95233 = GSE95233.iloc[:,2:]\n",
    "y_GSE95233 = GSE95233.iloc[:,1]\n",
    "GSE100159 = pd.read_csv('data_GSE100159.csv')\n",
    "X_GSE100159 = GSE100159.iloc[:,2:]\n",
    "y_GSE100159 = GSE100159.iloc[:,1]\n",
    "GSE134347 = pd.read_csv('data_GSE134347.csv')\n",
    "X_GSE134347 = GSE134347.iloc[:,2:]\n",
    "y_GSE134347 = GSE134347.iloc[:,1]\n",
    "GSE137342 = pd.read_csv('data_GSE137342.csv')\n",
    "X_GSE137342 = GSE137342.iloc[:,2:]\n",
    "y_GSE137342 = GSE137342.iloc[:,1]\n",
    "GSE154918 = pd.read_csv('data_GSE154918.csv')\n",
    "X_GSE154918 = GSE154918.iloc[:,2:]\n",
    "y_GSE154918 = GSE154918.iloc[:,1]\n",
    "GSE205672 = pd.read_csv('data_GSE205672.csv')\n",
    "X_GSE205672 = GSE205672.iloc[:,2:]\n",
    "y_GSE205672 = GSE205672.iloc[:,1]\n",
    "GSE210797 = pd.read_csv('data_GSE210797.csv')\n",
    "X_GSE210797 = GSE210797.iloc[:,2:]\n",
    "y_GSE210797 = GSE210797.iloc[:,1]\n",
    "GSE211210 = pd.read_csv('data_GSE211210.csv')\n",
    "X_GSE211210 = GSE211210.iloc[:,2:]\n",
    "y_GSE211210 = GSE211210.iloc[:,1]\n",
    "GSE236713 = pd.read_csv('data_GSE236713.csv')\n",
    "X_GSE236713 = GSE236713.iloc[:,2:]\n",
    "y_GSE236713 = GSE236713.iloc[:,1]"
   ]
  },
  {
   "cell_type": "code",
   "execution_count": 7,
   "metadata": {},
   "outputs": [],
   "source": [
    "import hyperopt\n",
    "from hyperopt import hp"
   ]
  },
  {
   "cell_type": "code",
   "execution_count": 8,
   "metadata": {},
   "outputs": [],
   "source": [
    "def objective(params):\n",
    "    aucs = []\n",
    "    for train_index,test_index in sp.split(X_GSE205672,y_GSE205672):\n",
    "        X_train = X_GSE205672.iloc[train_index,:]\n",
    "        X_vali = X_GSE205672.iloc[test_index,:]\n",
    "        y_train = y_GSE205672[train_index]\n",
    "        y_vali = y_GSE205672[test_index]\n",
    "        model = LogisticRegression(random_state=seed,\n",
    "                                   C=params['C'])\n",
    "        model.fit(X_train,y_train)\n",
    "        pro_vali = model.predict_proba(X_vali)[:,1]\n",
    "        auc_vali = roc_auc_score(y_vali,pro_vali)\n",
    "        aucs.append(auc_vali)\n",
    "    return -np.mean(aucs)"
   ]
  },
  {
   "cell_type": "code",
   "execution_count": 9,
   "metadata": {},
   "outputs": [],
   "source": [
    "space = {\n",
    "    'C':hp.uniform('C',0,1)\n",
    "}"
   ]
  },
  {
   "cell_type": "code",
   "execution_count": 10,
   "metadata": {},
   "outputs": [
    {
     "name": "stdout",
     "output_type": "stream",
     "text": [
      "100%|██████████| 100/100 [01:03<00:00,  1.58trial/s, best loss: -0.9977811483478857]\n"
     ]
    }
   ],
   "source": [
    "best_param = hyperopt.fmin(objective,space,hyperopt.tpe.suggest,max_evals=100)"
   ]
  },
  {
   "cell_type": "code",
   "execution_count": 11,
   "metadata": {},
   "outputs": [
    {
     "data": {
      "text/plain": [
       "{'C': np.float64(0.9613851675417848)}"
      ]
     },
     "execution_count": 11,
     "metadata": {},
     "output_type": "execute_result"
    }
   ],
   "source": [
    "best_param"
   ]
  },
  {
   "cell_type": "code",
   "execution_count": 7,
   "metadata": {},
   "outputs": [
    {
     "data": {
      "text/html": [
       "<style>#sk-container-id-1 {\n",
       "  /* Definition of color scheme common for light and dark mode */\n",
       "  --sklearn-color-text: #000;\n",
       "  --sklearn-color-text-muted: #666;\n",
       "  --sklearn-color-line: gray;\n",
       "  /* Definition of color scheme for unfitted estimators */\n",
       "  --sklearn-color-unfitted-level-0: #fff5e6;\n",
       "  --sklearn-color-unfitted-level-1: #f6e4d2;\n",
       "  --sklearn-color-unfitted-level-2: #ffe0b3;\n",
       "  --sklearn-color-unfitted-level-3: chocolate;\n",
       "  /* Definition of color scheme for fitted estimators */\n",
       "  --sklearn-color-fitted-level-0: #f0f8ff;\n",
       "  --sklearn-color-fitted-level-1: #d4ebff;\n",
       "  --sklearn-color-fitted-level-2: #b3dbfd;\n",
       "  --sklearn-color-fitted-level-3: cornflowerblue;\n",
       "\n",
       "  /* Specific color for light theme */\n",
       "  --sklearn-color-text-on-default-background: var(--sg-text-color, var(--theme-code-foreground, var(--jp-content-font-color1, black)));\n",
       "  --sklearn-color-background: var(--sg-background-color, var(--theme-background, var(--jp-layout-color0, white)));\n",
       "  --sklearn-color-border-box: var(--sg-text-color, var(--theme-code-foreground, var(--jp-content-font-color1, black)));\n",
       "  --sklearn-color-icon: #696969;\n",
       "\n",
       "  @media (prefers-color-scheme: dark) {\n",
       "    /* Redefinition of color scheme for dark theme */\n",
       "    --sklearn-color-text-on-default-background: var(--sg-text-color, var(--theme-code-foreground, var(--jp-content-font-color1, white)));\n",
       "    --sklearn-color-background: var(--sg-background-color, var(--theme-background, var(--jp-layout-color0, #111)));\n",
       "    --sklearn-color-border-box: var(--sg-text-color, var(--theme-code-foreground, var(--jp-content-font-color1, white)));\n",
       "    --sklearn-color-icon: #878787;\n",
       "  }\n",
       "}\n",
       "\n",
       "#sk-container-id-1 {\n",
       "  color: var(--sklearn-color-text);\n",
       "}\n",
       "\n",
       "#sk-container-id-1 pre {\n",
       "  padding: 0;\n",
       "}\n",
       "\n",
       "#sk-container-id-1 input.sk-hidden--visually {\n",
       "  border: 0;\n",
       "  clip: rect(1px 1px 1px 1px);\n",
       "  clip: rect(1px, 1px, 1px, 1px);\n",
       "  height: 1px;\n",
       "  margin: -1px;\n",
       "  overflow: hidden;\n",
       "  padding: 0;\n",
       "  position: absolute;\n",
       "  width: 1px;\n",
       "}\n",
       "\n",
       "#sk-container-id-1 div.sk-dashed-wrapped {\n",
       "  border: 1px dashed var(--sklearn-color-line);\n",
       "  margin: 0 0.4em 0.5em 0.4em;\n",
       "  box-sizing: border-box;\n",
       "  padding-bottom: 0.4em;\n",
       "  background-color: var(--sklearn-color-background);\n",
       "}\n",
       "\n",
       "#sk-container-id-1 div.sk-container {\n",
       "  /* jupyter's `normalize.less` sets `[hidden] { display: none; }`\n",
       "     but bootstrap.min.css set `[hidden] { display: none !important; }`\n",
       "     so we also need the `!important` here to be able to override the\n",
       "     default hidden behavior on the sphinx rendered scikit-learn.org.\n",
       "     See: https://github.com/scikit-learn/scikit-learn/issues/21755 */\n",
       "  display: inline-block !important;\n",
       "  position: relative;\n",
       "}\n",
       "\n",
       "#sk-container-id-1 div.sk-text-repr-fallback {\n",
       "  display: none;\n",
       "}\n",
       "\n",
       "div.sk-parallel-item,\n",
       "div.sk-serial,\n",
       "div.sk-item {\n",
       "  /* draw centered vertical line to link estimators */\n",
       "  background-image: linear-gradient(var(--sklearn-color-text-on-default-background), var(--sklearn-color-text-on-default-background));\n",
       "  background-size: 2px 100%;\n",
       "  background-repeat: no-repeat;\n",
       "  background-position: center center;\n",
       "}\n",
       "\n",
       "/* Parallel-specific style estimator block */\n",
       "\n",
       "#sk-container-id-1 div.sk-parallel-item::after {\n",
       "  content: \"\";\n",
       "  width: 100%;\n",
       "  border-bottom: 2px solid var(--sklearn-color-text-on-default-background);\n",
       "  flex-grow: 1;\n",
       "}\n",
       "\n",
       "#sk-container-id-1 div.sk-parallel {\n",
       "  display: flex;\n",
       "  align-items: stretch;\n",
       "  justify-content: center;\n",
       "  background-color: var(--sklearn-color-background);\n",
       "  position: relative;\n",
       "}\n",
       "\n",
       "#sk-container-id-1 div.sk-parallel-item {\n",
       "  display: flex;\n",
       "  flex-direction: column;\n",
       "}\n",
       "\n",
       "#sk-container-id-1 div.sk-parallel-item:first-child::after {\n",
       "  align-self: flex-end;\n",
       "  width: 50%;\n",
       "}\n",
       "\n",
       "#sk-container-id-1 div.sk-parallel-item:last-child::after {\n",
       "  align-self: flex-start;\n",
       "  width: 50%;\n",
       "}\n",
       "\n",
       "#sk-container-id-1 div.sk-parallel-item:only-child::after {\n",
       "  width: 0;\n",
       "}\n",
       "\n",
       "/* Serial-specific style estimator block */\n",
       "\n",
       "#sk-container-id-1 div.sk-serial {\n",
       "  display: flex;\n",
       "  flex-direction: column;\n",
       "  align-items: center;\n",
       "  background-color: var(--sklearn-color-background);\n",
       "  padding-right: 1em;\n",
       "  padding-left: 1em;\n",
       "}\n",
       "\n",
       "\n",
       "/* Toggleable style: style used for estimator/Pipeline/ColumnTransformer box that is\n",
       "clickable and can be expanded/collapsed.\n",
       "- Pipeline and ColumnTransformer use this feature and define the default style\n",
       "- Estimators will overwrite some part of the style using the `sk-estimator` class\n",
       "*/\n",
       "\n",
       "/* Pipeline and ColumnTransformer style (default) */\n",
       "\n",
       "#sk-container-id-1 div.sk-toggleable {\n",
       "  /* Default theme specific background. It is overwritten whether we have a\n",
       "  specific estimator or a Pipeline/ColumnTransformer */\n",
       "  background-color: var(--sklearn-color-background);\n",
       "}\n",
       "\n",
       "/* Toggleable label */\n",
       "#sk-container-id-1 label.sk-toggleable__label {\n",
       "  cursor: pointer;\n",
       "  display: flex;\n",
       "  width: 100%;\n",
       "  margin-bottom: 0;\n",
       "  padding: 0.5em;\n",
       "  box-sizing: border-box;\n",
       "  text-align: center;\n",
       "  align-items: start;\n",
       "  justify-content: space-between;\n",
       "  gap: 0.5em;\n",
       "}\n",
       "\n",
       "#sk-container-id-1 label.sk-toggleable__label .caption {\n",
       "  font-size: 0.6rem;\n",
       "  font-weight: lighter;\n",
       "  color: var(--sklearn-color-text-muted);\n",
       "}\n",
       "\n",
       "#sk-container-id-1 label.sk-toggleable__label-arrow:before {\n",
       "  /* Arrow on the left of the label */\n",
       "  content: \"▸\";\n",
       "  float: left;\n",
       "  margin-right: 0.25em;\n",
       "  color: var(--sklearn-color-icon);\n",
       "}\n",
       "\n",
       "#sk-container-id-1 label.sk-toggleable__label-arrow:hover:before {\n",
       "  color: var(--sklearn-color-text);\n",
       "}\n",
       "\n",
       "/* Toggleable content - dropdown */\n",
       "\n",
       "#sk-container-id-1 div.sk-toggleable__content {\n",
       "  max-height: 0;\n",
       "  max-width: 0;\n",
       "  overflow: hidden;\n",
       "  text-align: left;\n",
       "  /* unfitted */\n",
       "  background-color: var(--sklearn-color-unfitted-level-0);\n",
       "}\n",
       "\n",
       "#sk-container-id-1 div.sk-toggleable__content.fitted {\n",
       "  /* fitted */\n",
       "  background-color: var(--sklearn-color-fitted-level-0);\n",
       "}\n",
       "\n",
       "#sk-container-id-1 div.sk-toggleable__content pre {\n",
       "  margin: 0.2em;\n",
       "  border-radius: 0.25em;\n",
       "  color: var(--sklearn-color-text);\n",
       "  /* unfitted */\n",
       "  background-color: var(--sklearn-color-unfitted-level-0);\n",
       "}\n",
       "\n",
       "#sk-container-id-1 div.sk-toggleable__content.fitted pre {\n",
       "  /* unfitted */\n",
       "  background-color: var(--sklearn-color-fitted-level-0);\n",
       "}\n",
       "\n",
       "#sk-container-id-1 input.sk-toggleable__control:checked~div.sk-toggleable__content {\n",
       "  /* Expand drop-down */\n",
       "  max-height: 200px;\n",
       "  max-width: 100%;\n",
       "  overflow: auto;\n",
       "}\n",
       "\n",
       "#sk-container-id-1 input.sk-toggleable__control:checked~label.sk-toggleable__label-arrow:before {\n",
       "  content: \"▾\";\n",
       "}\n",
       "\n",
       "/* Pipeline/ColumnTransformer-specific style */\n",
       "\n",
       "#sk-container-id-1 div.sk-label input.sk-toggleable__control:checked~label.sk-toggleable__label {\n",
       "  color: var(--sklearn-color-text);\n",
       "  background-color: var(--sklearn-color-unfitted-level-2);\n",
       "}\n",
       "\n",
       "#sk-container-id-1 div.sk-label.fitted input.sk-toggleable__control:checked~label.sk-toggleable__label {\n",
       "  background-color: var(--sklearn-color-fitted-level-2);\n",
       "}\n",
       "\n",
       "/* Estimator-specific style */\n",
       "\n",
       "/* Colorize estimator box */\n",
       "#sk-container-id-1 div.sk-estimator input.sk-toggleable__control:checked~label.sk-toggleable__label {\n",
       "  /* unfitted */\n",
       "  background-color: var(--sklearn-color-unfitted-level-2);\n",
       "}\n",
       "\n",
       "#sk-container-id-1 div.sk-estimator.fitted input.sk-toggleable__control:checked~label.sk-toggleable__label {\n",
       "  /* fitted */\n",
       "  background-color: var(--sklearn-color-fitted-level-2);\n",
       "}\n",
       "\n",
       "#sk-container-id-1 div.sk-label label.sk-toggleable__label,\n",
       "#sk-container-id-1 div.sk-label label {\n",
       "  /* The background is the default theme color */\n",
       "  color: var(--sklearn-color-text-on-default-background);\n",
       "}\n",
       "\n",
       "/* On hover, darken the color of the background */\n",
       "#sk-container-id-1 div.sk-label:hover label.sk-toggleable__label {\n",
       "  color: var(--sklearn-color-text);\n",
       "  background-color: var(--sklearn-color-unfitted-level-2);\n",
       "}\n",
       "\n",
       "/* Label box, darken color on hover, fitted */\n",
       "#sk-container-id-1 div.sk-label.fitted:hover label.sk-toggleable__label.fitted {\n",
       "  color: var(--sklearn-color-text);\n",
       "  background-color: var(--sklearn-color-fitted-level-2);\n",
       "}\n",
       "\n",
       "/* Estimator label */\n",
       "\n",
       "#sk-container-id-1 div.sk-label label {\n",
       "  font-family: monospace;\n",
       "  font-weight: bold;\n",
       "  display: inline-block;\n",
       "  line-height: 1.2em;\n",
       "}\n",
       "\n",
       "#sk-container-id-1 div.sk-label-container {\n",
       "  text-align: center;\n",
       "}\n",
       "\n",
       "/* Estimator-specific */\n",
       "#sk-container-id-1 div.sk-estimator {\n",
       "  font-family: monospace;\n",
       "  border: 1px dotted var(--sklearn-color-border-box);\n",
       "  border-radius: 0.25em;\n",
       "  box-sizing: border-box;\n",
       "  margin-bottom: 0.5em;\n",
       "  /* unfitted */\n",
       "  background-color: var(--sklearn-color-unfitted-level-0);\n",
       "}\n",
       "\n",
       "#sk-container-id-1 div.sk-estimator.fitted {\n",
       "  /* fitted */\n",
       "  background-color: var(--sklearn-color-fitted-level-0);\n",
       "}\n",
       "\n",
       "/* on hover */\n",
       "#sk-container-id-1 div.sk-estimator:hover {\n",
       "  /* unfitted */\n",
       "  background-color: var(--sklearn-color-unfitted-level-2);\n",
       "}\n",
       "\n",
       "#sk-container-id-1 div.sk-estimator.fitted:hover {\n",
       "  /* fitted */\n",
       "  background-color: var(--sklearn-color-fitted-level-2);\n",
       "}\n",
       "\n",
       "/* Specification for estimator info (e.g. \"i\" and \"?\") */\n",
       "\n",
       "/* Common style for \"i\" and \"?\" */\n",
       "\n",
       ".sk-estimator-doc-link,\n",
       "a:link.sk-estimator-doc-link,\n",
       "a:visited.sk-estimator-doc-link {\n",
       "  float: right;\n",
       "  font-size: smaller;\n",
       "  line-height: 1em;\n",
       "  font-family: monospace;\n",
       "  background-color: var(--sklearn-color-background);\n",
       "  border-radius: 1em;\n",
       "  height: 1em;\n",
       "  width: 1em;\n",
       "  text-decoration: none !important;\n",
       "  margin-left: 0.5em;\n",
       "  text-align: center;\n",
       "  /* unfitted */\n",
       "  border: var(--sklearn-color-unfitted-level-1) 1pt solid;\n",
       "  color: var(--sklearn-color-unfitted-level-1);\n",
       "}\n",
       "\n",
       ".sk-estimator-doc-link.fitted,\n",
       "a:link.sk-estimator-doc-link.fitted,\n",
       "a:visited.sk-estimator-doc-link.fitted {\n",
       "  /* fitted */\n",
       "  border: var(--sklearn-color-fitted-level-1) 1pt solid;\n",
       "  color: var(--sklearn-color-fitted-level-1);\n",
       "}\n",
       "\n",
       "/* On hover */\n",
       "div.sk-estimator:hover .sk-estimator-doc-link:hover,\n",
       ".sk-estimator-doc-link:hover,\n",
       "div.sk-label-container:hover .sk-estimator-doc-link:hover,\n",
       ".sk-estimator-doc-link:hover {\n",
       "  /* unfitted */\n",
       "  background-color: var(--sklearn-color-unfitted-level-3);\n",
       "  color: var(--sklearn-color-background);\n",
       "  text-decoration: none;\n",
       "}\n",
       "\n",
       "div.sk-estimator.fitted:hover .sk-estimator-doc-link.fitted:hover,\n",
       ".sk-estimator-doc-link.fitted:hover,\n",
       "div.sk-label-container:hover .sk-estimator-doc-link.fitted:hover,\n",
       ".sk-estimator-doc-link.fitted:hover {\n",
       "  /* fitted */\n",
       "  background-color: var(--sklearn-color-fitted-level-3);\n",
       "  color: var(--sklearn-color-background);\n",
       "  text-decoration: none;\n",
       "}\n",
       "\n",
       "/* Span, style for the box shown on hovering the info icon */\n",
       ".sk-estimator-doc-link span {\n",
       "  display: none;\n",
       "  z-index: 9999;\n",
       "  position: relative;\n",
       "  font-weight: normal;\n",
       "  right: .2ex;\n",
       "  padding: .5ex;\n",
       "  margin: .5ex;\n",
       "  width: min-content;\n",
       "  min-width: 20ex;\n",
       "  max-width: 50ex;\n",
       "  color: var(--sklearn-color-text);\n",
       "  box-shadow: 2pt 2pt 4pt #999;\n",
       "  /* unfitted */\n",
       "  background: var(--sklearn-color-unfitted-level-0);\n",
       "  border: .5pt solid var(--sklearn-color-unfitted-level-3);\n",
       "}\n",
       "\n",
       ".sk-estimator-doc-link.fitted span {\n",
       "  /* fitted */\n",
       "  background: var(--sklearn-color-fitted-level-0);\n",
       "  border: var(--sklearn-color-fitted-level-3);\n",
       "}\n",
       "\n",
       ".sk-estimator-doc-link:hover span {\n",
       "  display: block;\n",
       "}\n",
       "\n",
       "/* \"?\"-specific style due to the `<a>` HTML tag */\n",
       "\n",
       "#sk-container-id-1 a.estimator_doc_link {\n",
       "  float: right;\n",
       "  font-size: 1rem;\n",
       "  line-height: 1em;\n",
       "  font-family: monospace;\n",
       "  background-color: var(--sklearn-color-background);\n",
       "  border-radius: 1rem;\n",
       "  height: 1rem;\n",
       "  width: 1rem;\n",
       "  text-decoration: none;\n",
       "  /* unfitted */\n",
       "  color: var(--sklearn-color-unfitted-level-1);\n",
       "  border: var(--sklearn-color-unfitted-level-1) 1pt solid;\n",
       "}\n",
       "\n",
       "#sk-container-id-1 a.estimator_doc_link.fitted {\n",
       "  /* fitted */\n",
       "  border: var(--sklearn-color-fitted-level-1) 1pt solid;\n",
       "  color: var(--sklearn-color-fitted-level-1);\n",
       "}\n",
       "\n",
       "/* On hover */\n",
       "#sk-container-id-1 a.estimator_doc_link:hover {\n",
       "  /* unfitted */\n",
       "  background-color: var(--sklearn-color-unfitted-level-3);\n",
       "  color: var(--sklearn-color-background);\n",
       "  text-decoration: none;\n",
       "}\n",
       "\n",
       "#sk-container-id-1 a.estimator_doc_link.fitted:hover {\n",
       "  /* fitted */\n",
       "  background-color: var(--sklearn-color-fitted-level-3);\n",
       "}\n",
       "</style><div id=\"sk-container-id-1\" class=\"sk-top-container\"><div class=\"sk-text-repr-fallback\"><pre>LogisticRegression(C=0.9613851675417848, random_state=73467541)</pre><b>In a Jupyter environment, please rerun this cell to show the HTML representation or trust the notebook. <br />On GitHub, the HTML representation is unable to render, please try loading this page with nbviewer.org.</b></div><div class=\"sk-container\" hidden><div class=\"sk-item\"><div class=\"sk-estimator fitted sk-toggleable\"><input class=\"sk-toggleable__control sk-hidden--visually\" id=\"sk-estimator-id-1\" type=\"checkbox\" checked><label for=\"sk-estimator-id-1\" class=\"sk-toggleable__label fitted sk-toggleable__label-arrow\"><div><div>LogisticRegression</div></div><div><a class=\"sk-estimator-doc-link fitted\" rel=\"noreferrer\" target=\"_blank\" href=\"https://scikit-learn.org/1.6/modules/generated/sklearn.linear_model.LogisticRegression.html\">?<span>Documentation for LogisticRegression</span></a><span class=\"sk-estimator-doc-link fitted\">i<span>Fitted</span></span></div></label><div class=\"sk-toggleable__content fitted\"><pre>LogisticRegression(C=0.9613851675417848, random_state=73467541)</pre></div> </div></div></div></div>"
      ],
      "text/plain": [
       "LogisticRegression(C=0.9613851675417848, random_state=73467541)"
      ]
     },
     "execution_count": 7,
     "metadata": {},
     "output_type": "execute_result"
    }
   ],
   "source": [
    "model = LogisticRegression(random_state=seed,\n",
    "                           C=0.9613851675417848)\n",
    "model.fit(X_GSE205672,y_GSE205672)"
   ]
  },
  {
   "cell_type": "code",
   "execution_count": 8,
   "metadata": {},
   "outputs": [],
   "source": [
    "pro_GSE13904 = model.predict_proba(X_GSE13904)[:,1]\n",
    "pro_GSE54514 = model.predict_proba(X_GSE54514)[:,1]\n",
    "pro_GSE64457 = model.predict_proba(X_GSE64457)[:,1]\n",
    "pro_GSE65682 = model.predict_proba(X_GSE65682)[:,1]\n",
    "pro_GSE69063 = model.predict_proba(X_GSE69063)[:,1]\n",
    "pro_GSE95233 = model.predict_proba(X_GSE95233)[:,1]\n",
    "pro_GSE100159 = model.predict_proba(X_GSE100159)[:,1]\n",
    "pro_GSE134347 = model.predict_proba(X_GSE134347)[:,1]\n",
    "pro_GSE137342 = model.predict_proba(X_GSE137342)[:,1]\n",
    "pro_GSE154918 = model.predict_proba(X_GSE154918)[:,1]\n",
    "pro_GSE205672 = model.predict_proba(X_GSE205672)[:,1]\n",
    "pro_GSE210797 = model.predict_proba(X_GSE210797)[:,1]\n",
    "pro_GSE211210 = model.predict_proba(X_GSE211210)[:,1]\n",
    "pro_GSE236713 = model.predict_proba(X_GSE236713)[:,1]\n",
    "pre_GSE13904 = model.predict(X_GSE13904)\n",
    "pre_GSE54514 = model.predict(X_GSE54514)\n",
    "pre_GSE64457 = model.predict(X_GSE64457)\n",
    "pre_GSE65682 = model.predict(X_GSE65682)\n",
    "pre_GSE69063 = model.predict(X_GSE69063)\n",
    "pre_GSE95233 = model.predict(X_GSE95233)\n",
    "pre_GSE100159 = model.predict(X_GSE100159)\n",
    "pre_GSE134347 = model.predict(X_GSE134347)\n",
    "pre_GSE137342 = model.predict(X_GSE137342)\n",
    "pre_GSE154918 = model.predict(X_GSE154918)\n",
    "pre_GSE205672 = model.predict(X_GSE205672)\n",
    "pre_GSE210797 = model.predict(X_GSE210797)\n",
    "pre_GSE211210 = model.predict(X_GSE211210)\n",
    "pre_GSE236713 = model.predict(X_GSE236713)"
   ]
  },
  {
   "cell_type": "code",
   "execution_count": 9,
   "metadata": {},
   "outputs": [],
   "source": [
    "pd.DataFrame({\n",
    "    'True':y_GSE13904,\n",
    "    'Pre':pre_GSE13904\n",
    "}).to_csv('Logistic_GSE13904.csv',index=False)\n",
    "pd.DataFrame({\n",
    "    'True':y_GSE54514,\n",
    "    'Pre':pre_GSE54514\n",
    "}).to_csv('Logistic_GSE54514.csv',index=False)\n",
    "pd.DataFrame({\n",
    "    'True':y_GSE64457,\n",
    "    'Pre':pre_GSE64457\n",
    "}).to_csv('Logistic_GSE64457.csv',index=False)\n",
    "pd.DataFrame({\n",
    "    'True':y_GSE65682,\n",
    "    'Pre':pre_GSE65682\n",
    "}).to_csv('Logistic_GSE65682.csv',index=False)\n",
    "pd.DataFrame({\n",
    "    'True':y_GSE69063,\n",
    "    'Pre':pre_GSE69063\n",
    "}).to_csv('Logistic_GSE69063.csv',index=False)\n",
    "pd.DataFrame({\n",
    "    'True':y_GSE95233,\n",
    "    'Pre':pre_GSE95233\n",
    "}).to_csv('Logistic_GSE95233.csv',index=False)\n",
    "pd.DataFrame({\n",
    "    'True':y_GSE100159,\n",
    "    'Pre':pre_GSE100159\n",
    "}).to_csv('Logistic_GSE100159.csv',index=False)\n",
    "pd.DataFrame({\n",
    "    'True':y_GSE134347,\n",
    "    'Pre':pre_GSE134347\n",
    "}).to_csv('Logistic_GSE134347.csv',index=False)\n",
    "pd.DataFrame({\n",
    "    'True':y_GSE137342,\n",
    "    'Pre':pre_GSE137342\n",
    "}).to_csv('Logistic_GSE137342.csv',index=False)\n",
    "pd.DataFrame({\n",
    "    'True':y_GSE154918,\n",
    "    'Pre':pre_GSE154918\n",
    "}).to_csv('Logistic_GSE154918.csv',index=False)\n",
    "pd.DataFrame({\n",
    "    'True':y_GSE210797,\n",
    "    'Pre':pre_GSE210797\n",
    "}).to_csv('Logistic_GSE210797.csv',index=False)\n",
    "pd.DataFrame({\n",
    "    'True':y_GSE211210,\n",
    "    'Pre':pre_GSE211210\n",
    "}).to_csv('Logistic_GSE211210.csv',index=False)\n",
    "pd.DataFrame({\n",
    "    'True':y_GSE236713,\n",
    "    'Pre':pre_GSE236713\n",
    "}).to_csv('Logistic_GSE236713.csv',index=False)"
   ]
  },
  {
   "cell_type": "code",
   "execution_count": 15,
   "metadata": {},
   "outputs": [
    {
     "name": "stdout",
     "output_type": "stream",
     "text": [
      "AUC = 0.999\n",
      "Accuracy = 0.987\n",
      "Sensitivity = 0.975\n",
      "Specificity = 0.993\n",
      "Precision = 0.987\n",
      "F1 = 0.981\n"
     ]
    }
   ],
   "source": [
    "print('AUC = {:.3f}'.format(roc_auc_score(y_GSE205672,pro_GSE205672)))\n",
    "print('Accuracy = {:.3f}'.format(accuracy_score(y_GSE205672,pre_GSE205672)))\n",
    "print('Sensitivity = {:.3f}'.format(sensitivity_score(y_GSE205672,pre_GSE205672)))\n",
    "print('Specificity = {:.3f}'.format(specificity_score(y_GSE205672,pre_GSE205672)))\n",
    "print('Precision = {:.3f}'.format(precision_score(y_GSE205672,pre_GSE205672)))\n",
    "print('F1 = {:.3f}'.format(f1_score(y_GSE205672,pre_GSE205672)))"
   ]
  },
  {
   "cell_type": "code",
   "execution_count": 16,
   "metadata": {},
   "outputs": [
    {
     "name": "stdout",
     "output_type": "stream",
     "text": [
      "AUC = 0.941\n",
      "Accuracy = 0.864\n",
      "Sensitivity = 0.854\n",
      "Specificity = 0.944\n",
      "Precision = 0.993\n",
      "F1 = 0.918\n"
     ]
    }
   ],
   "source": [
    "print('AUC = {:.3f}'.format(roc_auc_score(y_GSE13904,pro_GSE13904)))\n",
    "print('Accuracy = {:.3f}'.format(accuracy_score(y_GSE13904,pre_GSE13904)))\n",
    "print('Sensitivity = {:.3f}'.format(sensitivity_score(y_GSE13904,pre_GSE13904)))\n",
    "print('Specificity = {:.3f}'.format(specificity_score(y_GSE13904,pre_GSE13904)))\n",
    "print('Precision = {:.3f}'.format(precision_score(y_GSE13904,pre_GSE13904)))\n",
    "print('F1 = {:.3f}'.format(f1_score(y_GSE13904,pre_GSE13904)))"
   ]
  },
  {
   "cell_type": "code",
   "execution_count": 17,
   "metadata": {},
   "outputs": [
    {
     "name": "stdout",
     "output_type": "stream",
     "text": [
      "AUC = 0.381\n",
      "Accuracy = 0.463\n",
      "Sensitivity = 0.484\n",
      "Specificity = 0.444\n",
      "Precision = 0.429\n",
      "F1 = 0.455\n"
     ]
    }
   ],
   "source": [
    "print('AUC = {:.3f}'.format(roc_auc_score(y_GSE54514,pro_GSE54514)))\n",
    "print('Accuracy = {:.3f}'.format(accuracy_score(y_GSE54514,pre_GSE54514)))\n",
    "print('Sensitivity = {:.3f}'.format(sensitivity_score(y_GSE54514,pre_GSE54514)))\n",
    "print('Specificity = {:.3f}'.format(specificity_score(y_GSE54514,pre_GSE54514)))\n",
    "print('Precision = {:.3f}'.format(precision_score(y_GSE54514,pre_GSE54514)))\n",
    "print('F1 = {:.3f}'.format(f1_score(y_GSE54514,pre_GSE54514)))"
   ]
  },
  {
   "cell_type": "code",
   "execution_count": 18,
   "metadata": {},
   "outputs": [
    {
     "name": "stdout",
     "output_type": "stream",
     "text": [
      "AUC = 0.950\n",
      "Accuracy = 0.870\n",
      "Sensitivity = 0.800\n",
      "Specificity = 1.000\n",
      "Precision = 1.000\n",
      "F1 = 0.889\n"
     ]
    }
   ],
   "source": [
    "print('AUC = {:.3f}'.format(roc_auc_score(y_GSE64457,pro_GSE64457)))\n",
    "print('Accuracy = {:.3f}'.format(accuracy_score(y_GSE64457,pre_GSE64457)))\n",
    "print('Sensitivity = {:.3f}'.format(sensitivity_score(y_GSE64457,pre_GSE64457)))\n",
    "print('Specificity = {:.3f}'.format(specificity_score(y_GSE64457,pre_GSE64457)))\n",
    "print('Precision = {:.3f}'.format(precision_score(y_GSE64457,pre_GSE64457)))\n",
    "print('F1 = {:.3f}'.format(f1_score(y_GSE64457,pre_GSE64457)))"
   ]
  },
  {
   "cell_type": "code",
   "execution_count": 19,
   "metadata": {},
   "outputs": [
    {
     "name": "stdout",
     "output_type": "stream",
     "text": [
      "AUC = 0.528\n",
      "Accuracy = 0.581\n",
      "Sensitivity = 0.725\n",
      "Specificity = 0.405\n",
      "Precision = 0.597\n",
      "F1 = 0.655\n"
     ]
    }
   ],
   "source": [
    "print('AUC = {:.3f}'.format(roc_auc_score(y_GSE65682,pro_GSE65682)))\n",
    "print('Accuracy = {:.3f}'.format(accuracy_score(y_GSE65682,pre_GSE65682)))\n",
    "print('Sensitivity = {:.3f}'.format(sensitivity_score(y_GSE65682,pre_GSE65682)))\n",
    "print('Specificity = {:.3f}'.format(specificity_score(y_GSE65682,pre_GSE65682)))\n",
    "print('Precision = {:.3f}'.format(precision_score(y_GSE65682,pre_GSE65682)))\n",
    "print('F1 = {:.3f}'.format(f1_score(y_GSE65682,pre_GSE65682)))"
   ]
  },
  {
   "cell_type": "code",
   "execution_count": 20,
   "metadata": {},
   "outputs": [
    {
     "name": "stdout",
     "output_type": "stream",
     "text": [
      "AUC = 0.812\n",
      "Accuracy = 0.711\n",
      "Sensitivity = 0.684\n",
      "Specificity = 0.758\n",
      "Precision = 0.830\n",
      "F1 = 0.750\n"
     ]
    }
   ],
   "source": [
    "print('AUC = {:.3f}'.format(roc_auc_score(y_GSE69063,pro_GSE69063)))\n",
    "print('Accuracy = {:.3f}'.format(accuracy_score(y_GSE69063,pre_GSE69063)))\n",
    "print('Sensitivity = {:.3f}'.format(sensitivity_score(y_GSE69063,pre_GSE69063)))\n",
    "print('Specificity = {:.3f}'.format(specificity_score(y_GSE69063,pre_GSE69063)))\n",
    "print('Precision = {:.3f}'.format(precision_score(y_GSE69063,pre_GSE69063)))\n",
    "print('F1 = {:.3f}'.format(f1_score(y_GSE69063,pre_GSE69063)))"
   ]
  },
  {
   "cell_type": "code",
   "execution_count": 21,
   "metadata": {},
   "outputs": [
    {
     "name": "stdout",
     "output_type": "stream",
     "text": [
      "AUC = 0.922\n",
      "Accuracy = 0.863\n",
      "Sensitivity = 0.863\n",
      "Specificity = 0.864\n",
      "Precision = 0.967\n",
      "F1 = 0.912\n"
     ]
    }
   ],
   "source": [
    "print('AUC = {:.3f}'.format(roc_auc_score(y_GSE95233,pro_GSE95233)))\n",
    "print('Accuracy = {:.3f}'.format(accuracy_score(y_GSE95233,pre_GSE95233)))\n",
    "print('Sensitivity = {:.3f}'.format(sensitivity_score(y_GSE95233,pre_GSE95233)))\n",
    "print('Specificity = {:.3f}'.format(specificity_score(y_GSE95233,pre_GSE95233)))\n",
    "print('Precision = {:.3f}'.format(precision_score(y_GSE95233,pre_GSE95233)))\n",
    "print('F1 = {:.3f}'.format(f1_score(y_GSE95233,pre_GSE95233)))"
   ]
  },
  {
   "cell_type": "code",
   "execution_count": 22,
   "metadata": {},
   "outputs": [
    {
     "name": "stdout",
     "output_type": "stream",
     "text": [
      "AUC = 1.000\n",
      "Accuracy = 0.978\n",
      "Sensitivity = 0.970\n",
      "Specificity = 1.000\n",
      "Precision = 1.000\n",
      "F1 = 0.985\n"
     ]
    }
   ],
   "source": [
    "print('AUC = {:.3f}'.format(roc_auc_score(y_GSE100159,pro_GSE100159)))\n",
    "print('Accuracy = {:.3f}'.format(accuracy_score(y_GSE100159,pre_GSE100159)))\n",
    "print('Sensitivity = {:.3f}'.format(sensitivity_score(y_GSE100159,pre_GSE100159)))\n",
    "print('Specificity = {:.3f}'.format(specificity_score(y_GSE100159,pre_GSE100159)))\n",
    "print('Precision = {:.3f}'.format(precision_score(y_GSE100159,pre_GSE100159)))\n",
    "print('F1 = {:.3f}'.format(f1_score(y_GSE100159,pre_GSE100159)))"
   ]
  },
  {
   "cell_type": "code",
   "execution_count": 23,
   "metadata": {},
   "outputs": [
    {
     "name": "stdout",
     "output_type": "stream",
     "text": [
      "AUC = 0.756\n",
      "Accuracy = 0.707\n",
      "Sensitivity = 0.776\n",
      "Specificity = 0.578\n",
      "Precision = 0.776\n",
      "F1 = 0.776\n"
     ]
    }
   ],
   "source": [
    "print('AUC = {:.3f}'.format(roc_auc_score(y_GSE134347,pro_GSE134347)))\n",
    "print('Accuracy = {:.3f}'.format(accuracy_score(y_GSE134347,pre_GSE134347)))\n",
    "print('Sensitivity = {:.3f}'.format(sensitivity_score(y_GSE134347,pre_GSE134347)))\n",
    "print('Specificity = {:.3f}'.format(specificity_score(y_GSE134347,pre_GSE134347)))\n",
    "print('Precision = {:.3f}'.format(precision_score(y_GSE134347,pre_GSE134347)))\n",
    "print('F1 = {:.3f}'.format(f1_score(y_GSE134347,pre_GSE134347)))"
   ]
  },
  {
   "cell_type": "code",
   "execution_count": 24,
   "metadata": {},
   "outputs": [
    {
     "name": "stdout",
     "output_type": "stream",
     "text": [
      "AUC = 0.855\n",
      "Accuracy = 0.800\n",
      "Sensitivity = 0.837\n",
      "Specificity = 0.667\n",
      "Precision = 0.900\n",
      "F1 = 0.867\n"
     ]
    }
   ],
   "source": [
    "print('AUC = {:.3f}'.format(roc_auc_score(y_GSE137342,pro_GSE137342)))\n",
    "print('Accuracy = {:.3f}'.format(accuracy_score(y_GSE137342,pre_GSE137342)))\n",
    "print('Sensitivity = {:.3f}'.format(sensitivity_score(y_GSE137342,pre_GSE137342)))\n",
    "print('Specificity = {:.3f}'.format(specificity_score(y_GSE137342,pre_GSE137342)))\n",
    "print('Precision = {:.3f}'.format(precision_score(y_GSE137342,pre_GSE137342)))\n",
    "print('F1 = {:.3f}'.format(f1_score(y_GSE137342,pre_GSE137342)))"
   ]
  },
  {
   "cell_type": "code",
   "execution_count": 25,
   "metadata": {},
   "outputs": [
    {
     "name": "stdout",
     "output_type": "stream",
     "text": [
      "AUC = 0.639\n",
      "Accuracy = 0.717\n",
      "Sensitivity = 0.600\n",
      "Specificity = 0.775\n",
      "Precision = 0.571\n",
      "F1 = 0.585\n"
     ]
    }
   ],
   "source": [
    "print('AUC = {:.3f}'.format(roc_auc_score(y_GSE154918,pro_GSE154918)))\n",
    "print('Accuracy = {:.3f}'.format(accuracy_score(y_GSE154918,pre_GSE154918)))\n",
    "print('Sensitivity = {:.3f}'.format(sensitivity_score(y_GSE154918,pre_GSE154918)))\n",
    "print('Specificity = {:.3f}'.format(specificity_score(y_GSE154918,pre_GSE154918)))\n",
    "print('Precision = {:.3f}'.format(precision_score(y_GSE154918,pre_GSE154918)))\n",
    "print('F1 = {:.3f}'.format(f1_score(y_GSE154918,pre_GSE154918)))"
   ]
  },
  {
   "cell_type": "code",
   "execution_count": 26,
   "metadata": {},
   "outputs": [
    {
     "name": "stdout",
     "output_type": "stream",
     "text": [
      "AUC = 0.472\n",
      "Accuracy = 0.417\n",
      "Sensitivity = 0.500\n",
      "Specificity = 0.333\n",
      "Precision = 0.429\n",
      "F1 = 0.462\n"
     ]
    }
   ],
   "source": [
    "print('AUC = {:.3f}'.format(roc_auc_score(y_GSE210797,pro_GSE210797)))\n",
    "print('Accuracy = {:.3f}'.format(accuracy_score(y_GSE210797,pre_GSE210797)))\n",
    "print('Sensitivity = {:.3f}'.format(sensitivity_score(y_GSE210797,pre_GSE210797)))\n",
    "print('Specificity = {:.3f}'.format(specificity_score(y_GSE210797,pre_GSE210797)))\n",
    "print('Precision = {:.3f}'.format(precision_score(y_GSE210797,pre_GSE210797)))\n",
    "print('F1 = {:.3f}'.format(f1_score(y_GSE210797,pre_GSE210797)))"
   ]
  },
  {
   "cell_type": "code",
   "execution_count": 27,
   "metadata": {},
   "outputs": [
    {
     "name": "stdout",
     "output_type": "stream",
     "text": [
      "AUC = 0.920\n",
      "Accuracy = 0.800\n",
      "Sensitivity = 1.000\n",
      "Specificity = 0.600\n",
      "Precision = 0.714\n",
      "F1 = 0.833\n"
     ]
    }
   ],
   "source": [
    "print('AUC = {:.3f}'.format(roc_auc_score(y_GSE211210,pro_GSE211210)))\n",
    "print('Accuracy = {:.3f}'.format(accuracy_score(y_GSE211210,pre_GSE211210)))\n",
    "print('Sensitivity = {:.3f}'.format(sensitivity_score(y_GSE211210,pre_GSE211210)))\n",
    "print('Specificity = {:.3f}'.format(specificity_score(y_GSE211210,pre_GSE211210)))\n",
    "print('Precision = {:.3f}'.format(precision_score(y_GSE211210,pre_GSE211210)))\n",
    "print('F1 = {:.3f}'.format(f1_score(y_GSE211210,pre_GSE211210)))"
   ]
  },
  {
   "cell_type": "code",
   "execution_count": 28,
   "metadata": {},
   "outputs": [
    {
     "name": "stdout",
     "output_type": "stream",
     "text": [
      "AUC = 0.995\n",
      "Accuracy = 0.890\n",
      "Sensitivity = 0.880\n",
      "Specificity = 1.000\n",
      "Precision = 1.000\n",
      "F1 = 0.936\n"
     ]
    }
   ],
   "source": [
    "print('AUC = {:.3f}'.format(roc_auc_score(y_GSE236713,pro_GSE236713)))\n",
    "print('Accuracy = {:.3f}'.format(accuracy_score(y_GSE236713,pre_GSE236713)))\n",
    "print('Sensitivity = {:.3f}'.format(sensitivity_score(y_GSE236713,pre_GSE236713)))\n",
    "print('Specificity = {:.3f}'.format(specificity_score(y_GSE236713,pre_GSE236713)))\n",
    "print('Precision = {:.3f}'.format(precision_score(y_GSE236713,pre_GSE236713)))\n",
    "print('F1 = {:.3f}'.format(f1_score(y_GSE236713,pre_GSE236713)))"
   ]
  },
  {
   "cell_type": "code",
   "execution_count": null,
   "metadata": {},
   "outputs": [],
   "source": []
  }
 ],
 "metadata": {
  "kernelspec": {
   "display_name": "tabpfn",
   "language": "python",
   "name": "python3"
  },
  "language_info": {
   "codemirror_mode": {
    "name": "ipython",
    "version": 3
   },
   "file_extension": ".py",
   "mimetype": "text/x-python",
   "name": "python",
   "nbconvert_exporter": "python",
   "pygments_lexer": "ipython3",
   "version": "3.11.11"
  }
 },
 "nbformat": 4,
 "nbformat_minor": 2
}
