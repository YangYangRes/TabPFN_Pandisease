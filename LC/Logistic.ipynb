{
 "cells": [
  {
   "cell_type": "code",
   "execution_count": 3,
   "metadata": {},
   "outputs": [],
   "source": [
    "import pandas as pd\n",
    "import numpy as np\n",
    "from sklearn.model_selection import RepeatedStratifiedKFold\n",
    "from sklearn.linear_model import LogisticRegression\n",
    "from sklearn.metrics import roc_auc_score\n",
    "from sklearn.metrics import accuracy_score\n",
    "from sklearn.metrics import f1_score\n",
    "from imblearn.metrics import sensitivity_score\n",
    "from imblearn.metrics import specificity_score\n",
    "from sklearn.metrics import precision_score"
   ]
  },
  {
   "cell_type": "code",
   "execution_count": 4,
   "metadata": {},
   "outputs": [],
   "source": [
    "seed = 3653458742"
   ]
  },
  {
   "cell_type": "code",
   "execution_count": 5,
   "metadata": {},
   "outputs": [],
   "source": [
    "TCGA = pd.read_csv('data_TCGA.csv')\n",
    "X_TCGA = TCGA.iloc[:,2:]\n",
    "y_TCGA = TCGA.iloc[:,1]\n",
    "GSE12236 = pd.read_csv('data_GSE12236.csv')\n",
    "X_GSE12236 = GSE12236.iloc[:,2:]\n",
    "y_GSE12236 = GSE12236.iloc[:,1]\n",
    "GSE12428 = pd.read_csv('data_GSE12428.csv')\n",
    "X_GSE12428 = GSE12428.iloc[:,2:]\n",
    "y_GSE12428 = GSE12428.iloc[:,1]\n",
    "GSE18842 = pd.read_csv('data_GSE18842.csv')\n",
    "X_GSE18842 = GSE18842.iloc[:,2:]\n",
    "y_GSE18842 = GSE18842.iloc[:,1]\n",
    "GSE29250 = pd.read_csv('data_GSE29250.csv')\n",
    "X_GSE29250 = GSE29250.iloc[:,2:]\n",
    "y_GSE29250 = GSE29250.iloc[:,1]\n",
    "GSE31210 = pd.read_csv('data_GSE31210.csv')\n",
    "X_GSE31210 = GSE31210.iloc[:,2:]\n",
    "y_GSE31210 = GSE31210.iloc[:,1]\n",
    "GSE31446 = pd.read_csv('data_GSE31446.csv')\n",
    "X_GSE31446 = GSE31446.iloc[:,2:]\n",
    "y_GSE31446 = GSE31446.iloc[:,1]\n",
    "GSE32863 = pd.read_csv('data_GSE32863.csv')\n",
    "X_GSE32863 = GSE32863.iloc[:,2:]\n",
    "y_GSE32863 = GSE32863.iloc[:,1]\n",
    "GSE33532 = pd.read_csv('data_GSE33532.csv')\n",
    "X_GSE33532 = GSE33532.iloc[:,2:]\n",
    "y_GSE33532 = GSE33532.iloc[:,1]\n",
    "GSE63459 = pd.read_csv('data_GSE63459.csv')\n",
    "X_GSE63459 = GSE63459.iloc[:,2:]\n",
    "y_GSE63459 = GSE63459.iloc[:,1]\n",
    "GSE75037 = pd.read_csv('data_GSE75037.csv')\n",
    "X_GSE75037 = GSE75037.iloc[:,2:]\n",
    "y_GSE75037 = GSE75037.iloc[:,1]\n",
    "GSE85716 = pd.read_csv('data_GSE85716.csv')\n",
    "X_GSE85716 = GSE85716.iloc[:,2:]\n",
    "y_GSE85716 = GSE85716.iloc[:,1]\n",
    "GSE85841 = pd.read_csv('data_GSE85841.csv')\n",
    "X_GSE85841 = GSE85841.iloc[:,2:]\n",
    "y_GSE85841 = GSE85841.iloc[:,1]\n",
    "GSE101929 = pd.read_csv('data_GSE101929.csv')\n",
    "X_GSE101929 = GSE101929.iloc[:,2:]\n",
    "y_GSE101929 = GSE101929.iloc[:,1]\n",
    "GSE115002 = pd.read_csv('data_GSE115002.csv')\n",
    "X_GSE115002 = GSE115002.iloc[:,2:]\n",
    "y_GSE115002 = GSE115002.iloc[:,1]\n",
    "GSE134381 = pd.read_csv('data_GSE134381.csv')\n",
    "X_GSE134381 = GSE134381.iloc[:,2:]\n",
    "y_GSE134381 = GSE134381.iloc[:,1]"
   ]
  },
  {
   "cell_type": "code",
   "execution_count": 6,
   "metadata": {},
   "outputs": [],
   "source": [
    "sp = RepeatedStratifiedKFold(random_state=seed,n_repeats=3,n_splits=5)"
   ]
  },
  {
   "cell_type": "code",
   "execution_count": 44,
   "metadata": {},
   "outputs": [],
   "source": [
    "import hyperopt\n",
    "from hyperopt import hp"
   ]
  },
  {
   "cell_type": "code",
   "execution_count": 45,
   "metadata": {},
   "outputs": [],
   "source": [
    "def objective(params):\n",
    "    aucs = []\n",
    "    for train_index,test_index in sp.split(X_TCGA,y_TCGA):\n",
    "        X_train = X_TCGA.iloc[train_index,:]\n",
    "        X_vali = X_TCGA.iloc[test_index,:]\n",
    "        y_train = y_TCGA[train_index]\n",
    "        y_vali = y_TCGA[test_index]\n",
    "        model = LogisticRegression(random_state=seed,\n",
    "                                   C=params['C'])\n",
    "        model.fit(X_train,y_train)\n",
    "        pro_vali = model.predict_proba(X_vali)[:,1]\n",
    "        auc_vali = roc_auc_score(y_vali,pro_vali)\n",
    "        aucs.append(auc_vali)\n",
    "    return -np.mean(aucs)"
   ]
  },
  {
   "cell_type": "code",
   "execution_count": 46,
   "metadata": {},
   "outputs": [],
   "source": [
    "space = {\n",
    "    'C':hp.uniform('C',0,10)\n",
    "}"
   ]
  },
  {
   "cell_type": "code",
   "execution_count": 47,
   "metadata": {},
   "outputs": [
    {
     "name": "stdout",
     "output_type": "stream",
     "text": [
      "100%|██████████| 100/100 [00:27<00:00,  3.58trial/s, best loss: -1.0]\n"
     ]
    }
   ],
   "source": [
    "best_param = hyperopt.fmin(objective,space,hyperopt.tpe.suggest,max_evals=100)"
   ]
  },
  {
   "cell_type": "code",
   "execution_count": 48,
   "metadata": {},
   "outputs": [
    {
     "data": {
      "text/plain": [
       "{'C': np.float64(9.888187960446661)}"
      ]
     },
     "execution_count": 48,
     "metadata": {},
     "output_type": "execute_result"
    }
   ],
   "source": [
    "best_param"
   ]
  },
  {
   "cell_type": "code",
   "execution_count": 7,
   "metadata": {},
   "outputs": [
    {
     "data": {
      "text/html": [
       "<style>#sk-container-id-1 {\n",
       "  /* Definition of color scheme common for light and dark mode */\n",
       "  --sklearn-color-text: #000;\n",
       "  --sklearn-color-text-muted: #666;\n",
       "  --sklearn-color-line: gray;\n",
       "  /* Definition of color scheme for unfitted estimators */\n",
       "  --sklearn-color-unfitted-level-0: #fff5e6;\n",
       "  --sklearn-color-unfitted-level-1: #f6e4d2;\n",
       "  --sklearn-color-unfitted-level-2: #ffe0b3;\n",
       "  --sklearn-color-unfitted-level-3: chocolate;\n",
       "  /* Definition of color scheme for fitted estimators */\n",
       "  --sklearn-color-fitted-level-0: #f0f8ff;\n",
       "  --sklearn-color-fitted-level-1: #d4ebff;\n",
       "  --sklearn-color-fitted-level-2: #b3dbfd;\n",
       "  --sklearn-color-fitted-level-3: cornflowerblue;\n",
       "\n",
       "  /* Specific color for light theme */\n",
       "  --sklearn-color-text-on-default-background: var(--sg-text-color, var(--theme-code-foreground, var(--jp-content-font-color1, black)));\n",
       "  --sklearn-color-background: var(--sg-background-color, var(--theme-background, var(--jp-layout-color0, white)));\n",
       "  --sklearn-color-border-box: var(--sg-text-color, var(--theme-code-foreground, var(--jp-content-font-color1, black)));\n",
       "  --sklearn-color-icon: #696969;\n",
       "\n",
       "  @media (prefers-color-scheme: dark) {\n",
       "    /* Redefinition of color scheme for dark theme */\n",
       "    --sklearn-color-text-on-default-background: var(--sg-text-color, var(--theme-code-foreground, var(--jp-content-font-color1, white)));\n",
       "    --sklearn-color-background: var(--sg-background-color, var(--theme-background, var(--jp-layout-color0, #111)));\n",
       "    --sklearn-color-border-box: var(--sg-text-color, var(--theme-code-foreground, var(--jp-content-font-color1, white)));\n",
       "    --sklearn-color-icon: #878787;\n",
       "  }\n",
       "}\n",
       "\n",
       "#sk-container-id-1 {\n",
       "  color: var(--sklearn-color-text);\n",
       "}\n",
       "\n",
       "#sk-container-id-1 pre {\n",
       "  padding: 0;\n",
       "}\n",
       "\n",
       "#sk-container-id-1 input.sk-hidden--visually {\n",
       "  border: 0;\n",
       "  clip: rect(1px 1px 1px 1px);\n",
       "  clip: rect(1px, 1px, 1px, 1px);\n",
       "  height: 1px;\n",
       "  margin: -1px;\n",
       "  overflow: hidden;\n",
       "  padding: 0;\n",
       "  position: absolute;\n",
       "  width: 1px;\n",
       "}\n",
       "\n",
       "#sk-container-id-1 div.sk-dashed-wrapped {\n",
       "  border: 1px dashed var(--sklearn-color-line);\n",
       "  margin: 0 0.4em 0.5em 0.4em;\n",
       "  box-sizing: border-box;\n",
       "  padding-bottom: 0.4em;\n",
       "  background-color: var(--sklearn-color-background);\n",
       "}\n",
       "\n",
       "#sk-container-id-1 div.sk-container {\n",
       "  /* jupyter's `normalize.less` sets `[hidden] { display: none; }`\n",
       "     but bootstrap.min.css set `[hidden] { display: none !important; }`\n",
       "     so we also need the `!important` here to be able to override the\n",
       "     default hidden behavior on the sphinx rendered scikit-learn.org.\n",
       "     See: https://github.com/scikit-learn/scikit-learn/issues/21755 */\n",
       "  display: inline-block !important;\n",
       "  position: relative;\n",
       "}\n",
       "\n",
       "#sk-container-id-1 div.sk-text-repr-fallback {\n",
       "  display: none;\n",
       "}\n",
       "\n",
       "div.sk-parallel-item,\n",
       "div.sk-serial,\n",
       "div.sk-item {\n",
       "  /* draw centered vertical line to link estimators */\n",
       "  background-image: linear-gradient(var(--sklearn-color-text-on-default-background), var(--sklearn-color-text-on-default-background));\n",
       "  background-size: 2px 100%;\n",
       "  background-repeat: no-repeat;\n",
       "  background-position: center center;\n",
       "}\n",
       "\n",
       "/* Parallel-specific style estimator block */\n",
       "\n",
       "#sk-container-id-1 div.sk-parallel-item::after {\n",
       "  content: \"\";\n",
       "  width: 100%;\n",
       "  border-bottom: 2px solid var(--sklearn-color-text-on-default-background);\n",
       "  flex-grow: 1;\n",
       "}\n",
       "\n",
       "#sk-container-id-1 div.sk-parallel {\n",
       "  display: flex;\n",
       "  align-items: stretch;\n",
       "  justify-content: center;\n",
       "  background-color: var(--sklearn-color-background);\n",
       "  position: relative;\n",
       "}\n",
       "\n",
       "#sk-container-id-1 div.sk-parallel-item {\n",
       "  display: flex;\n",
       "  flex-direction: column;\n",
       "}\n",
       "\n",
       "#sk-container-id-1 div.sk-parallel-item:first-child::after {\n",
       "  align-self: flex-end;\n",
       "  width: 50%;\n",
       "}\n",
       "\n",
       "#sk-container-id-1 div.sk-parallel-item:last-child::after {\n",
       "  align-self: flex-start;\n",
       "  width: 50%;\n",
       "}\n",
       "\n",
       "#sk-container-id-1 div.sk-parallel-item:only-child::after {\n",
       "  width: 0;\n",
       "}\n",
       "\n",
       "/* Serial-specific style estimator block */\n",
       "\n",
       "#sk-container-id-1 div.sk-serial {\n",
       "  display: flex;\n",
       "  flex-direction: column;\n",
       "  align-items: center;\n",
       "  background-color: var(--sklearn-color-background);\n",
       "  padding-right: 1em;\n",
       "  padding-left: 1em;\n",
       "}\n",
       "\n",
       "\n",
       "/* Toggleable style: style used for estimator/Pipeline/ColumnTransformer box that is\n",
       "clickable and can be expanded/collapsed.\n",
       "- Pipeline and ColumnTransformer use this feature and define the default style\n",
       "- Estimators will overwrite some part of the style using the `sk-estimator` class\n",
       "*/\n",
       "\n",
       "/* Pipeline and ColumnTransformer style (default) */\n",
       "\n",
       "#sk-container-id-1 div.sk-toggleable {\n",
       "  /* Default theme specific background. It is overwritten whether we have a\n",
       "  specific estimator or a Pipeline/ColumnTransformer */\n",
       "  background-color: var(--sklearn-color-background);\n",
       "}\n",
       "\n",
       "/* Toggleable label */\n",
       "#sk-container-id-1 label.sk-toggleable__label {\n",
       "  cursor: pointer;\n",
       "  display: flex;\n",
       "  width: 100%;\n",
       "  margin-bottom: 0;\n",
       "  padding: 0.5em;\n",
       "  box-sizing: border-box;\n",
       "  text-align: center;\n",
       "  align-items: start;\n",
       "  justify-content: space-between;\n",
       "  gap: 0.5em;\n",
       "}\n",
       "\n",
       "#sk-container-id-1 label.sk-toggleable__label .caption {\n",
       "  font-size: 0.6rem;\n",
       "  font-weight: lighter;\n",
       "  color: var(--sklearn-color-text-muted);\n",
       "}\n",
       "\n",
       "#sk-container-id-1 label.sk-toggleable__label-arrow:before {\n",
       "  /* Arrow on the left of the label */\n",
       "  content: \"▸\";\n",
       "  float: left;\n",
       "  margin-right: 0.25em;\n",
       "  color: var(--sklearn-color-icon);\n",
       "}\n",
       "\n",
       "#sk-container-id-1 label.sk-toggleable__label-arrow:hover:before {\n",
       "  color: var(--sklearn-color-text);\n",
       "}\n",
       "\n",
       "/* Toggleable content - dropdown */\n",
       "\n",
       "#sk-container-id-1 div.sk-toggleable__content {\n",
       "  max-height: 0;\n",
       "  max-width: 0;\n",
       "  overflow: hidden;\n",
       "  text-align: left;\n",
       "  /* unfitted */\n",
       "  background-color: var(--sklearn-color-unfitted-level-0);\n",
       "}\n",
       "\n",
       "#sk-container-id-1 div.sk-toggleable__content.fitted {\n",
       "  /* fitted */\n",
       "  background-color: var(--sklearn-color-fitted-level-0);\n",
       "}\n",
       "\n",
       "#sk-container-id-1 div.sk-toggleable__content pre {\n",
       "  margin: 0.2em;\n",
       "  border-radius: 0.25em;\n",
       "  color: var(--sklearn-color-text);\n",
       "  /* unfitted */\n",
       "  background-color: var(--sklearn-color-unfitted-level-0);\n",
       "}\n",
       "\n",
       "#sk-container-id-1 div.sk-toggleable__content.fitted pre {\n",
       "  /* unfitted */\n",
       "  background-color: var(--sklearn-color-fitted-level-0);\n",
       "}\n",
       "\n",
       "#sk-container-id-1 input.sk-toggleable__control:checked~div.sk-toggleable__content {\n",
       "  /* Expand drop-down */\n",
       "  max-height: 200px;\n",
       "  max-width: 100%;\n",
       "  overflow: auto;\n",
       "}\n",
       "\n",
       "#sk-container-id-1 input.sk-toggleable__control:checked~label.sk-toggleable__label-arrow:before {\n",
       "  content: \"▾\";\n",
       "}\n",
       "\n",
       "/* Pipeline/ColumnTransformer-specific style */\n",
       "\n",
       "#sk-container-id-1 div.sk-label input.sk-toggleable__control:checked~label.sk-toggleable__label {\n",
       "  color: var(--sklearn-color-text);\n",
       "  background-color: var(--sklearn-color-unfitted-level-2);\n",
       "}\n",
       "\n",
       "#sk-container-id-1 div.sk-label.fitted input.sk-toggleable__control:checked~label.sk-toggleable__label {\n",
       "  background-color: var(--sklearn-color-fitted-level-2);\n",
       "}\n",
       "\n",
       "/* Estimator-specific style */\n",
       "\n",
       "/* Colorize estimator box */\n",
       "#sk-container-id-1 div.sk-estimator input.sk-toggleable__control:checked~label.sk-toggleable__label {\n",
       "  /* unfitted */\n",
       "  background-color: var(--sklearn-color-unfitted-level-2);\n",
       "}\n",
       "\n",
       "#sk-container-id-1 div.sk-estimator.fitted input.sk-toggleable__control:checked~label.sk-toggleable__label {\n",
       "  /* fitted */\n",
       "  background-color: var(--sklearn-color-fitted-level-2);\n",
       "}\n",
       "\n",
       "#sk-container-id-1 div.sk-label label.sk-toggleable__label,\n",
       "#sk-container-id-1 div.sk-label label {\n",
       "  /* The background is the default theme color */\n",
       "  color: var(--sklearn-color-text-on-default-background);\n",
       "}\n",
       "\n",
       "/* On hover, darken the color of the background */\n",
       "#sk-container-id-1 div.sk-label:hover label.sk-toggleable__label {\n",
       "  color: var(--sklearn-color-text);\n",
       "  background-color: var(--sklearn-color-unfitted-level-2);\n",
       "}\n",
       "\n",
       "/* Label box, darken color on hover, fitted */\n",
       "#sk-container-id-1 div.sk-label.fitted:hover label.sk-toggleable__label.fitted {\n",
       "  color: var(--sklearn-color-text);\n",
       "  background-color: var(--sklearn-color-fitted-level-2);\n",
       "}\n",
       "\n",
       "/* Estimator label */\n",
       "\n",
       "#sk-container-id-1 div.sk-label label {\n",
       "  font-family: monospace;\n",
       "  font-weight: bold;\n",
       "  display: inline-block;\n",
       "  line-height: 1.2em;\n",
       "}\n",
       "\n",
       "#sk-container-id-1 div.sk-label-container {\n",
       "  text-align: center;\n",
       "}\n",
       "\n",
       "/* Estimator-specific */\n",
       "#sk-container-id-1 div.sk-estimator {\n",
       "  font-family: monospace;\n",
       "  border: 1px dotted var(--sklearn-color-border-box);\n",
       "  border-radius: 0.25em;\n",
       "  box-sizing: border-box;\n",
       "  margin-bottom: 0.5em;\n",
       "  /* unfitted */\n",
       "  background-color: var(--sklearn-color-unfitted-level-0);\n",
       "}\n",
       "\n",
       "#sk-container-id-1 div.sk-estimator.fitted {\n",
       "  /* fitted */\n",
       "  background-color: var(--sklearn-color-fitted-level-0);\n",
       "}\n",
       "\n",
       "/* on hover */\n",
       "#sk-container-id-1 div.sk-estimator:hover {\n",
       "  /* unfitted */\n",
       "  background-color: var(--sklearn-color-unfitted-level-2);\n",
       "}\n",
       "\n",
       "#sk-container-id-1 div.sk-estimator.fitted:hover {\n",
       "  /* fitted */\n",
       "  background-color: var(--sklearn-color-fitted-level-2);\n",
       "}\n",
       "\n",
       "/* Specification for estimator info (e.g. \"i\" and \"?\") */\n",
       "\n",
       "/* Common style for \"i\" and \"?\" */\n",
       "\n",
       ".sk-estimator-doc-link,\n",
       "a:link.sk-estimator-doc-link,\n",
       "a:visited.sk-estimator-doc-link {\n",
       "  float: right;\n",
       "  font-size: smaller;\n",
       "  line-height: 1em;\n",
       "  font-family: monospace;\n",
       "  background-color: var(--sklearn-color-background);\n",
       "  border-radius: 1em;\n",
       "  height: 1em;\n",
       "  width: 1em;\n",
       "  text-decoration: none !important;\n",
       "  margin-left: 0.5em;\n",
       "  text-align: center;\n",
       "  /* unfitted */\n",
       "  border: var(--sklearn-color-unfitted-level-1) 1pt solid;\n",
       "  color: var(--sklearn-color-unfitted-level-1);\n",
       "}\n",
       "\n",
       ".sk-estimator-doc-link.fitted,\n",
       "a:link.sk-estimator-doc-link.fitted,\n",
       "a:visited.sk-estimator-doc-link.fitted {\n",
       "  /* fitted */\n",
       "  border: var(--sklearn-color-fitted-level-1) 1pt solid;\n",
       "  color: var(--sklearn-color-fitted-level-1);\n",
       "}\n",
       "\n",
       "/* On hover */\n",
       "div.sk-estimator:hover .sk-estimator-doc-link:hover,\n",
       ".sk-estimator-doc-link:hover,\n",
       "div.sk-label-container:hover .sk-estimator-doc-link:hover,\n",
       ".sk-estimator-doc-link:hover {\n",
       "  /* unfitted */\n",
       "  background-color: var(--sklearn-color-unfitted-level-3);\n",
       "  color: var(--sklearn-color-background);\n",
       "  text-decoration: none;\n",
       "}\n",
       "\n",
       "div.sk-estimator.fitted:hover .sk-estimator-doc-link.fitted:hover,\n",
       ".sk-estimator-doc-link.fitted:hover,\n",
       "div.sk-label-container:hover .sk-estimator-doc-link.fitted:hover,\n",
       ".sk-estimator-doc-link.fitted:hover {\n",
       "  /* fitted */\n",
       "  background-color: var(--sklearn-color-fitted-level-3);\n",
       "  color: var(--sklearn-color-background);\n",
       "  text-decoration: none;\n",
       "}\n",
       "\n",
       "/* Span, style for the box shown on hovering the info icon */\n",
       ".sk-estimator-doc-link span {\n",
       "  display: none;\n",
       "  z-index: 9999;\n",
       "  position: relative;\n",
       "  font-weight: normal;\n",
       "  right: .2ex;\n",
       "  padding: .5ex;\n",
       "  margin: .5ex;\n",
       "  width: min-content;\n",
       "  min-width: 20ex;\n",
       "  max-width: 50ex;\n",
       "  color: var(--sklearn-color-text);\n",
       "  box-shadow: 2pt 2pt 4pt #999;\n",
       "  /* unfitted */\n",
       "  background: var(--sklearn-color-unfitted-level-0);\n",
       "  border: .5pt solid var(--sklearn-color-unfitted-level-3);\n",
       "}\n",
       "\n",
       ".sk-estimator-doc-link.fitted span {\n",
       "  /* fitted */\n",
       "  background: var(--sklearn-color-fitted-level-0);\n",
       "  border: var(--sklearn-color-fitted-level-3);\n",
       "}\n",
       "\n",
       ".sk-estimator-doc-link:hover span {\n",
       "  display: block;\n",
       "}\n",
       "\n",
       "/* \"?\"-specific style due to the `<a>` HTML tag */\n",
       "\n",
       "#sk-container-id-1 a.estimator_doc_link {\n",
       "  float: right;\n",
       "  font-size: 1rem;\n",
       "  line-height: 1em;\n",
       "  font-family: monospace;\n",
       "  background-color: var(--sklearn-color-background);\n",
       "  border-radius: 1rem;\n",
       "  height: 1rem;\n",
       "  width: 1rem;\n",
       "  text-decoration: none;\n",
       "  /* unfitted */\n",
       "  color: var(--sklearn-color-unfitted-level-1);\n",
       "  border: var(--sklearn-color-unfitted-level-1) 1pt solid;\n",
       "}\n",
       "\n",
       "#sk-container-id-1 a.estimator_doc_link.fitted {\n",
       "  /* fitted */\n",
       "  border: var(--sklearn-color-fitted-level-1) 1pt solid;\n",
       "  color: var(--sklearn-color-fitted-level-1);\n",
       "}\n",
       "\n",
       "/* On hover */\n",
       "#sk-container-id-1 a.estimator_doc_link:hover {\n",
       "  /* unfitted */\n",
       "  background-color: var(--sklearn-color-unfitted-level-3);\n",
       "  color: var(--sklearn-color-background);\n",
       "  text-decoration: none;\n",
       "}\n",
       "\n",
       "#sk-container-id-1 a.estimator_doc_link.fitted:hover {\n",
       "  /* fitted */\n",
       "  background-color: var(--sklearn-color-fitted-level-3);\n",
       "}\n",
       "</style><div id=\"sk-container-id-1\" class=\"sk-top-container\"><div class=\"sk-text-repr-fallback\"><pre>LogisticRegression(C=9.888187960446661, random_state=3653458742)</pre><b>In a Jupyter environment, please rerun this cell to show the HTML representation or trust the notebook. <br />On GitHub, the HTML representation is unable to render, please try loading this page with nbviewer.org.</b></div><div class=\"sk-container\" hidden><div class=\"sk-item\"><div class=\"sk-estimator fitted sk-toggleable\"><input class=\"sk-toggleable__control sk-hidden--visually\" id=\"sk-estimator-id-1\" type=\"checkbox\" checked><label for=\"sk-estimator-id-1\" class=\"sk-toggleable__label fitted sk-toggleable__label-arrow\"><div><div>LogisticRegression</div></div><div><a class=\"sk-estimator-doc-link fitted\" rel=\"noreferrer\" target=\"_blank\" href=\"https://scikit-learn.org/1.6/modules/generated/sklearn.linear_model.LogisticRegression.html\">?<span>Documentation for LogisticRegression</span></a><span class=\"sk-estimator-doc-link fitted\">i<span>Fitted</span></span></div></label><div class=\"sk-toggleable__content fitted\"><pre>LogisticRegression(C=9.888187960446661, random_state=3653458742)</pre></div> </div></div></div></div>"
      ],
      "text/plain": [
       "LogisticRegression(C=9.888187960446661, random_state=3653458742)"
      ]
     },
     "execution_count": 7,
     "metadata": {},
     "output_type": "execute_result"
    }
   ],
   "source": [
    "model = LogisticRegression(random_state=seed,\n",
    "                           C=9.888187960446661)\n",
    "model.fit(X_TCGA,y_TCGA)"
   ]
  },
  {
   "cell_type": "code",
   "execution_count": 8,
   "metadata": {},
   "outputs": [],
   "source": [
    "pro_TCGA = model.predict_proba(X_TCGA)[:,1]\n",
    "pro_GSE12236 = model.predict_proba(X_GSE12236)[:,1]\n",
    "pro_GSE12428 = model.predict_proba(X_GSE12428)[:,1]\n",
    "pro_GSE18842 = model.predict_proba(X_GSE18842)[:,1]\n",
    "pro_GSE29250 = model.predict_proba(X_GSE29250)[:,1]\n",
    "pro_GSE31210 = model.predict_proba(X_GSE31210)[:,1]\n",
    "pro_GSE31446 = model.predict_proba(X_GSE31446)[:,1]\n",
    "pro_GSE32863 = model.predict_proba(X_GSE32863)[:,1]\n",
    "pro_GSE33532 = model.predict_proba(X_GSE33532)[:,1]\n",
    "pro_GSE63459 = model.predict_proba(X_GSE63459)[:,1]\n",
    "pro_GSE75037 = model.predict_proba(X_GSE75037)[:,1]\n",
    "pro_GSE85716 = model.predict_proba(X_GSE85716)[:,1]\n",
    "pro_GSE85841 = model.predict_proba(X_GSE85841)[:,1]\n",
    "pro_GSE101929 = model.predict_proba(X_GSE101929)[:,1]\n",
    "pro_GSE115002 = model.predict_proba(X_GSE115002)[:,1]\n",
    "pro_GSE134381 = model.predict_proba(X_GSE134381)[:,1]\n",
    "pre_TCGA = model.predict(X_TCGA)\n",
    "pre_GSE12236 = model.predict(X_GSE12236)\n",
    "pre_GSE12428 = model.predict(X_GSE12428)\n",
    "pre_GSE18842 = model.predict(X_GSE18842)\n",
    "pre_GSE29250 = model.predict(X_GSE29250)\n",
    "pre_GSE31210 = model.predict(X_GSE31210)\n",
    "pre_GSE31446 = model.predict(X_GSE31446)\n",
    "pre_GSE32863 = model.predict(X_GSE32863)\n",
    "pre_GSE33532 = model.predict(X_GSE33532)\n",
    "pre_GSE63459 = model.predict(X_GSE63459)\n",
    "pre_GSE75037 = model.predict(X_GSE75037)\n",
    "pre_GSE85716 = model.predict(X_GSE85716)\n",
    "pre_GSE85841 = model.predict(X_GSE85841)\n",
    "pre_GSE101929 = model.predict(X_GSE101929)\n",
    "pre_GSE115002 = model.predict(X_GSE115002)\n",
    "pre_GSE134381 = model.predict(X_GSE134381)"
   ]
  },
  {
   "cell_type": "code",
   "execution_count": 9,
   "metadata": {},
   "outputs": [],
   "source": [
    "pd.DataFrame({\n",
    "    'True':y_GSE12236,\n",
    "    'Pre':pre_GSE12236\n",
    "}).to_csv('Logistic_GSE12236.csv',index=False)\n",
    "pd.DataFrame({\n",
    "    'True':y_GSE12428,\n",
    "    'Pre':pre_GSE12428\n",
    "}).to_csv('Logistic_GSE12428.csv',index=False)\n",
    "pd.DataFrame({\n",
    "    'True':y_GSE18842,\n",
    "    'Pre':pre_GSE18842\n",
    "}).to_csv('Logistic_GSE18842.csv',index=False)\n",
    "pd.DataFrame({\n",
    "    'True':y_GSE29250,\n",
    "    'Pre':pre_GSE29250\n",
    "}).to_csv('Logistic_GSE29250.csv',index=False)\n",
    "pd.DataFrame({\n",
    "    'True':y_GSE31210,\n",
    "    'Pre':pre_GSE31210\n",
    "}).to_csv('Logistic_GSE31210.csv',index=False)\n",
    "pd.DataFrame({\n",
    "    'True':y_GSE31446,\n",
    "    'Pre':pre_GSE31446\n",
    "}).to_csv('Logistic_GSE31446.csv',index=False)\n",
    "pd.DataFrame({\n",
    "    'True':y_GSE32863,\n",
    "    'Pre':pre_GSE32863\n",
    "}).to_csv('Logistic_GSE32863.csv',index=False)\n",
    "pd.DataFrame({\n",
    "    'True':y_GSE33532,\n",
    "    'Pre':pre_GSE33532\n",
    "}).to_csv('Logistic_GSE33532.csv',index=False)\n",
    "pd.DataFrame({\n",
    "    'True':y_GSE63459,\n",
    "    'Pre':pre_GSE63459\n",
    "}).to_csv('Logistic_GSE63459.csv',index=False)\n",
    "pd.DataFrame({\n",
    "    'True':y_GSE75037,\n",
    "    'Pre':pre_GSE75037\n",
    "}).to_csv('Logistic_GSE75037.csv',index=False)\n",
    "pd.DataFrame({\n",
    "    'True':y_GSE85716,\n",
    "    'Pre':pre_GSE85716\n",
    "}).to_csv('Logistic_GSE85716.csv',index=False)\n",
    "pd.DataFrame({\n",
    "    'True':y_GSE85841,\n",
    "    'Pre':pre_GSE85841\n",
    "}).to_csv('Logistic_GSE85841.csv',index=False)\n",
    "pd.DataFrame({\n",
    "    'True':y_GSE101929,\n",
    "    'Pre':pre_GSE101929\n",
    "}).to_csv('Logistic_GSE101929.csv',index=False)\n",
    "pd.DataFrame({\n",
    "    'True':y_GSE115002,\n",
    "    'Pre':pre_GSE115002\n",
    "}).to_csv('Logistic_GSE115002.csv',index=False)\n",
    "pd.DataFrame({\n",
    "    'True':y_GSE134381,\n",
    "    'Pre':pre_GSE134381\n",
    "}).to_csv('Logistic_GSE134381.csv',index=False)"
   ]
  },
  {
   "cell_type": "code",
   "execution_count": 51,
   "metadata": {},
   "outputs": [
    {
     "name": "stdout",
     "output_type": "stream",
     "text": [
      "AUC = 1.000\n",
      "Accuracy = 1.000\n",
      "Sensitivity = 1.000\n",
      "Specificity = 1.000\n",
      "Precision = 1.000\n",
      "F1 = 1.000\n"
     ]
    }
   ],
   "source": [
    "print('AUC = {:.3f}'.format(roc_auc_score(y_TCGA,pro_TCGA)))\n",
    "print('Accuracy = {:.3f}'.format(accuracy_score(y_TCGA,pre_TCGA)))\n",
    "print('Sensitivity = {:.3f}'.format(sensitivity_score(y_TCGA,pre_TCGA)))\n",
    "print('Specificity = {:.3f}'.format(specificity_score(y_TCGA,pre_TCGA)))\n",
    "print('Precision = {:.3f}'.format(precision_score(y_TCGA,pre_TCGA)))\n",
    "print('F1 = {:.3f}'.format(f1_score(y_TCGA,pre_TCGA)))"
   ]
  },
  {
   "cell_type": "code",
   "execution_count": 52,
   "metadata": {},
   "outputs": [
    {
     "name": "stdout",
     "output_type": "stream",
     "text": [
      "AUC = 1.000\n",
      "Accuracy = 0.825\n",
      "Sensitivity = 1.000\n",
      "Specificity = 0.650\n",
      "Precision = 0.741\n",
      "F1 = 0.851\n"
     ]
    }
   ],
   "source": [
    "print('AUC = {:.3f}'.format(roc_auc_score(y_GSE12236,pro_GSE12236)))\n",
    "print('Accuracy = {:.3f}'.format(accuracy_score(y_GSE12236,pre_GSE12236)))\n",
    "print('Sensitivity = {:.3f}'.format(sensitivity_score(y_GSE12236,pre_GSE12236)))\n",
    "print('Specificity = {:.3f}'.format(specificity_score(y_GSE12236,pre_GSE12236)))\n",
    "print('Precision = {:.3f}'.format(precision_score(y_GSE12236,pre_GSE12236)))\n",
    "print('F1 = {:.3f}'.format(f1_score(y_GSE12236,pre_GSE12236)))"
   ]
  },
  {
   "cell_type": "code",
   "execution_count": 53,
   "metadata": {},
   "outputs": [
    {
     "name": "stdout",
     "output_type": "stream",
     "text": [
      "AUC = 0.807\n",
      "Accuracy = 0.548\n",
      "Sensitivity = 1.000\n",
      "Specificity = 0.000\n",
      "Precision = 0.548\n",
      "F1 = 0.708\n"
     ]
    }
   ],
   "source": [
    "print('AUC = {:.3f}'.format(roc_auc_score(y_GSE12428,pro_GSE12428)))\n",
    "print('Accuracy = {:.3f}'.format(accuracy_score(y_GSE12428,pre_GSE12428)))\n",
    "print('Sensitivity = {:.3f}'.format(sensitivity_score(y_GSE12428,pre_GSE12428)))\n",
    "print('Specificity = {:.3f}'.format(specificity_score(y_GSE12428,pre_GSE12428)))\n",
    "print('Precision = {:.3f}'.format(precision_score(y_GSE12428,pre_GSE12428)))\n",
    "print('F1 = {:.3f}'.format(f1_score(y_GSE12428,pre_GSE12428)))"
   ]
  },
  {
   "cell_type": "code",
   "execution_count": 54,
   "metadata": {},
   "outputs": [
    {
     "name": "stdout",
     "output_type": "stream",
     "text": [
      "AUC = 1.000\n",
      "Accuracy = 0.857\n",
      "Sensitivity = 1.000\n",
      "Specificity = 0.711\n",
      "Precision = 0.780\n",
      "F1 = 0.876\n"
     ]
    }
   ],
   "source": [
    "print('AUC = {:.3f}'.format(roc_auc_score(y_GSE18842,pro_GSE18842)))\n",
    "print('Accuracy = {:.3f}'.format(accuracy_score(y_GSE18842,pre_GSE18842)))\n",
    "print('Sensitivity = {:.3f}'.format(sensitivity_score(y_GSE18842,pre_GSE18842)))\n",
    "print('Specificity = {:.3f}'.format(specificity_score(y_GSE18842,pre_GSE18842)))\n",
    "print('Precision = {:.3f}'.format(precision_score(y_GSE18842,pre_GSE18842)))\n",
    "print('F1 = {:.3f}'.format(f1_score(y_GSE18842,pre_GSE18842)))"
   ]
  },
  {
   "cell_type": "code",
   "execution_count": 55,
   "metadata": {},
   "outputs": [
    {
     "name": "stdout",
     "output_type": "stream",
     "text": [
      "AUC = 0.944\n",
      "Accuracy = 0.750\n",
      "Sensitivity = 0.833\n",
      "Specificity = 0.667\n",
      "Precision = 0.714\n",
      "F1 = 0.769\n"
     ]
    }
   ],
   "source": [
    "print('AUC = {:.3f}'.format(roc_auc_score(y_GSE29250,pro_GSE29250)))\n",
    "print('Accuracy = {:.3f}'.format(accuracy_score(y_GSE29250,pre_GSE29250)))\n",
    "print('Sensitivity = {:.3f}'.format(sensitivity_score(y_GSE29250,pre_GSE29250)))\n",
    "print('Specificity = {:.3f}'.format(specificity_score(y_GSE29250,pre_GSE29250)))\n",
    "print('Precision = {:.3f}'.format(precision_score(y_GSE29250,pre_GSE29250)))\n",
    "print('F1 = {:.3f}'.format(f1_score(y_GSE29250,pre_GSE29250)))"
   ]
  },
  {
   "cell_type": "code",
   "execution_count": 56,
   "metadata": {},
   "outputs": [
    {
     "name": "stdout",
     "output_type": "stream",
     "text": [
      "AUC = 0.973\n",
      "Accuracy = 0.947\n",
      "Sensitivity = 0.991\n",
      "Specificity = 0.450\n",
      "Precision = 0.953\n",
      "F1 = 0.972\n"
     ]
    }
   ],
   "source": [
    "print('AUC = {:.3f}'.format(roc_auc_score(y_GSE31210,pro_GSE31210)))\n",
    "print('Accuracy = {:.3f}'.format(accuracy_score(y_GSE31210,pre_GSE31210)))\n",
    "print('Sensitivity = {:.3f}'.format(sensitivity_score(y_GSE31210,pre_GSE31210)))\n",
    "print('Specificity = {:.3f}'.format(specificity_score(y_GSE31210,pre_GSE31210)))\n",
    "print('Precision = {:.3f}'.format(precision_score(y_GSE31210,pre_GSE31210)))\n",
    "print('F1 = {:.3f}'.format(f1_score(y_GSE31210,pre_GSE31210)))"
   ]
  },
  {
   "cell_type": "code",
   "execution_count": 57,
   "metadata": {},
   "outputs": [
    {
     "name": "stdout",
     "output_type": "stream",
     "text": [
      "AUC = 0.971\n",
      "Accuracy = 0.734\n",
      "Sensitivity = 1.000\n",
      "Specificity = 0.433\n",
      "Precision = 0.667\n",
      "F1 = 0.800\n"
     ]
    }
   ],
   "source": [
    "print('AUC = {:.3f}'.format(roc_auc_score(y_GSE31446,pro_GSE31446)))\n",
    "print('Accuracy = {:.3f}'.format(accuracy_score(y_GSE31446,pre_GSE31446)))\n",
    "print('Sensitivity = {:.3f}'.format(sensitivity_score(y_GSE31446,pre_GSE31446)))\n",
    "print('Specificity = {:.3f}'.format(specificity_score(y_GSE31446,pre_GSE31446)))\n",
    "print('Precision = {:.3f}'.format(precision_score(y_GSE31446,pre_GSE31446)))\n",
    "print('F1 = {:.3f}'.format(f1_score(y_GSE31446,pre_GSE31446)))"
   ]
  },
  {
   "cell_type": "code",
   "execution_count": 58,
   "metadata": {},
   "outputs": [
    {
     "name": "stdout",
     "output_type": "stream",
     "text": [
      "AUC = 0.996\n",
      "Accuracy = 0.879\n",
      "Sensitivity = 1.000\n",
      "Specificity = 0.759\n",
      "Precision = 0.806\n",
      "F1 = 0.892\n"
     ]
    }
   ],
   "source": [
    "print('AUC = {:.3f}'.format(roc_auc_score(y_GSE32863,pro_GSE32863)))\n",
    "print('Accuracy = {:.3f}'.format(accuracy_score(y_GSE32863,pre_GSE32863)))\n",
    "print('Sensitivity = {:.3f}'.format(sensitivity_score(y_GSE32863,pre_GSE32863)))\n",
    "print('Specificity = {:.3f}'.format(specificity_score(y_GSE32863,pre_GSE32863)))\n",
    "print('Precision = {:.3f}'.format(precision_score(y_GSE32863,pre_GSE32863)))\n",
    "print('F1 = {:.3f}'.format(f1_score(y_GSE32863,pre_GSE32863)))"
   ]
  },
  {
   "cell_type": "code",
   "execution_count": 59,
   "metadata": {},
   "outputs": [
    {
     "name": "stdout",
     "output_type": "stream",
     "text": [
      "AUC = 0.986\n",
      "Accuracy = 0.920\n",
      "Sensitivity = 1.000\n",
      "Specificity = 0.600\n",
      "Precision = 0.909\n",
      "F1 = 0.952\n"
     ]
    }
   ],
   "source": [
    "print('AUC = {:.3f}'.format(roc_auc_score(y_GSE33532,pro_GSE33532)))\n",
    "print('Accuracy = {:.3f}'.format(accuracy_score(y_GSE33532,pre_GSE33532)))\n",
    "print('Sensitivity = {:.3f}'.format(sensitivity_score(y_GSE33532,pre_GSE33532)))\n",
    "print('Specificity = {:.3f}'.format(specificity_score(y_GSE33532,pre_GSE33532)))\n",
    "print('Precision = {:.3f}'.format(precision_score(y_GSE33532,pre_GSE33532)))\n",
    "print('F1 = {:.3f}'.format(f1_score(y_GSE33532,pre_GSE33532)))"
   ]
  },
  {
   "cell_type": "code",
   "execution_count": 60,
   "metadata": {},
   "outputs": [
    {
     "name": "stdout",
     "output_type": "stream",
     "text": [
      "AUC = 0.914\n",
      "Accuracy = 0.554\n",
      "Sensitivity = 0.970\n",
      "Specificity = 0.125\n",
      "Precision = 0.533\n",
      "F1 = 0.688\n"
     ]
    }
   ],
   "source": [
    "print('AUC = {:.3f}'.format(roc_auc_score(y_GSE63459,pro_GSE63459)))\n",
    "print('Accuracy = {:.3f}'.format(accuracy_score(y_GSE63459,pre_GSE63459)))\n",
    "print('Sensitivity = {:.3f}'.format(sensitivity_score(y_GSE63459,pre_GSE63459)))\n",
    "print('Specificity = {:.3f}'.format(specificity_score(y_GSE63459,pre_GSE63459)))\n",
    "print('Precision = {:.3f}'.format(precision_score(y_GSE63459,pre_GSE63459)))\n",
    "print('F1 = {:.3f}'.format(f1_score(y_GSE63459,pre_GSE63459)))"
   ]
  },
  {
   "cell_type": "code",
   "execution_count": 61,
   "metadata": {},
   "outputs": [
    {
     "name": "stdout",
     "output_type": "stream",
     "text": [
      "AUC = 1.000\n",
      "Accuracy = 0.964\n",
      "Sensitivity = 1.000\n",
      "Specificity = 0.928\n",
      "Precision = 0.933\n",
      "F1 = 0.965\n"
     ]
    }
   ],
   "source": [
    "print('AUC = {:.3f}'.format(roc_auc_score(y_GSE75037,pro_GSE75037)))\n",
    "print('Accuracy = {:.3f}'.format(accuracy_score(y_GSE75037,pre_GSE75037)))\n",
    "print('Sensitivity = {:.3f}'.format(sensitivity_score(y_GSE75037,pre_GSE75037)))\n",
    "print('Specificity = {:.3f}'.format(specificity_score(y_GSE75037,pre_GSE75037)))\n",
    "print('Precision = {:.3f}'.format(precision_score(y_GSE75037,pre_GSE75037)))\n",
    "print('F1 = {:.3f}'.format(f1_score(y_GSE75037,pre_GSE75037)))"
   ]
  },
  {
   "cell_type": "code",
   "execution_count": 62,
   "metadata": {},
   "outputs": [
    {
     "name": "stdout",
     "output_type": "stream",
     "text": [
      "AUC = 1.000\n",
      "Accuracy = 0.833\n",
      "Sensitivity = 1.000\n",
      "Specificity = 0.667\n",
      "Precision = 0.750\n",
      "F1 = 0.857\n"
     ]
    }
   ],
   "source": [
    "print('AUC = {:.3f}'.format(roc_auc_score(y_GSE85716,pro_GSE85716)))\n",
    "print('Accuracy = {:.3f}'.format(accuracy_score(y_GSE85716,pre_GSE85716)))\n",
    "print('Sensitivity = {:.3f}'.format(sensitivity_score(y_GSE85716,pre_GSE85716)))\n",
    "print('Specificity = {:.3f}'.format(specificity_score(y_GSE85716,pre_GSE85716)))\n",
    "print('Precision = {:.3f}'.format(precision_score(y_GSE85716,pre_GSE85716)))\n",
    "print('F1 = {:.3f}'.format(f1_score(y_GSE85716,pre_GSE85716)))"
   ]
  },
  {
   "cell_type": "code",
   "execution_count": 63,
   "metadata": {},
   "outputs": [
    {
     "name": "stdout",
     "output_type": "stream",
     "text": [
      "AUC = 1.000\n",
      "Accuracy = 0.938\n",
      "Sensitivity = 1.000\n",
      "Specificity = 0.875\n",
      "Precision = 0.889\n",
      "F1 = 0.941\n"
     ]
    }
   ],
   "source": [
    "print('AUC = {:.3f}'.format(roc_auc_score(y_GSE85841,pro_GSE85841)))\n",
    "print('Accuracy = {:.3f}'.format(accuracy_score(y_GSE85841,pre_GSE85841)))\n",
    "print('Sensitivity = {:.3f}'.format(sensitivity_score(y_GSE85841,pre_GSE85841)))\n",
    "print('Specificity = {:.3f}'.format(specificity_score(y_GSE85841,pre_GSE85841)))\n",
    "print('Precision = {:.3f}'.format(precision_score(y_GSE85841,pre_GSE85841)))\n",
    "print('F1 = {:.3f}'.format(f1_score(y_GSE85841,pre_GSE85841)))"
   ]
  },
  {
   "cell_type": "code",
   "execution_count": 64,
   "metadata": {},
   "outputs": [
    {
     "name": "stdout",
     "output_type": "stream",
     "text": [
      "AUC = 0.991\n",
      "Accuracy = 0.864\n",
      "Sensitivity = 1.000\n",
      "Specificity = 0.735\n",
      "Precision = 0.780\n",
      "F1 = 0.877\n"
     ]
    }
   ],
   "source": [
    "print('AUC = {:.3f}'.format(roc_auc_score(y_GSE101929,pro_GSE101929)))\n",
    "print('Accuracy = {:.3f}'.format(accuracy_score(y_GSE101929,pre_GSE101929)))\n",
    "print('Sensitivity = {:.3f}'.format(sensitivity_score(y_GSE101929,pre_GSE101929)))\n",
    "print('Specificity = {:.3f}'.format(specificity_score(y_GSE101929,pre_GSE101929)))\n",
    "print('Precision = {:.3f}'.format(precision_score(y_GSE101929,pre_GSE101929)))\n",
    "print('F1 = {:.3f}'.format(f1_score(y_GSE101929,pre_GSE101929)))"
   ]
  },
  {
   "cell_type": "code",
   "execution_count": 65,
   "metadata": {},
   "outputs": [
    {
     "name": "stdout",
     "output_type": "stream",
     "text": [
      "AUC = 0.991\n",
      "Accuracy = 0.904\n",
      "Sensitivity = 0.981\n",
      "Specificity = 0.827\n",
      "Precision = 0.850\n",
      "F1 = 0.911\n"
     ]
    }
   ],
   "source": [
    "print('AUC = {:.3f}'.format(roc_auc_score(y_GSE115002,pro_GSE115002)))\n",
    "print('Accuracy = {:.3f}'.format(accuracy_score(y_GSE115002,pre_GSE115002)))\n",
    "print('Sensitivity = {:.3f}'.format(sensitivity_score(y_GSE115002,pre_GSE115002)))\n",
    "print('Specificity = {:.3f}'.format(specificity_score(y_GSE115002,pre_GSE115002)))\n",
    "print('Precision = {:.3f}'.format(precision_score(y_GSE115002,pre_GSE115002)))\n",
    "print('F1 = {:.3f}'.format(f1_score(y_GSE115002,pre_GSE115002)))"
   ]
  },
  {
   "cell_type": "code",
   "execution_count": 66,
   "metadata": {},
   "outputs": [
    {
     "name": "stdout",
     "output_type": "stream",
     "text": [
      "AUC = 0.750\n",
      "Accuracy = 0.676\n",
      "Sensitivity = 0.919\n",
      "Specificity = 0.432\n",
      "Precision = 0.618\n",
      "F1 = 0.739\n"
     ]
    }
   ],
   "source": [
    "print('AUC = {:.3f}'.format(roc_auc_score(y_GSE134381,pro_GSE134381)))\n",
    "print('Accuracy = {:.3f}'.format(accuracy_score(y_GSE134381,pre_GSE134381)))\n",
    "print('Sensitivity = {:.3f}'.format(sensitivity_score(y_GSE134381,pre_GSE134381)))\n",
    "print('Specificity = {:.3f}'.format(specificity_score(y_GSE134381,pre_GSE134381)))\n",
    "print('Precision = {:.3f}'.format(precision_score(y_GSE134381,pre_GSE134381)))\n",
    "print('F1 = {:.3f}'.format(f1_score(y_GSE134381,pre_GSE134381)))"
   ]
  },
  {
   "cell_type": "code",
   "execution_count": null,
   "metadata": {},
   "outputs": [],
   "source": []
  }
 ],
 "metadata": {
  "kernelspec": {
   "display_name": "tabpfn",
   "language": "python",
   "name": "python3"
  },
  "language_info": {
   "codemirror_mode": {
    "name": "ipython",
    "version": 3
   },
   "file_extension": ".py",
   "mimetype": "text/x-python",
   "name": "python",
   "nbconvert_exporter": "python",
   "pygments_lexer": "ipython3",
   "version": "3.11.11"
  }
 },
 "nbformat": 4,
 "nbformat_minor": 2
}
