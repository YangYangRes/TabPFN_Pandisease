{
 "cells": [
  {
   "cell_type": "code",
   "execution_count": 1,
   "id": "initial_id",
   "metadata": {
    "ExecuteTime": {
     "end_time": "2025-02-03T14:13:31.111538Z",
     "start_time": "2025-02-03T14:13:31.101940Z"
    }
   },
   "outputs": [],
   "source": [
    "import pandas as pd\n",
    "import numpy as np\n",
    "from sklearn.model_selection import RepeatedStratifiedKFold\n",
    "from sklearn.svm import SVC\n",
    "from sklearn.metrics import roc_auc_score"
   ]
  },
  {
   "cell_type": "code",
   "execution_count": 2,
   "id": "269cc60141b3ee32",
   "metadata": {
    "ExecuteTime": {
     "end_time": "2025-02-03T14:13:31.246008Z",
     "start_time": "2025-02-03T14:13:31.238780Z"
    }
   },
   "outputs": [],
   "source": [
    "seed = 564563451"
   ]
  },
  {
   "cell_type": "code",
   "execution_count": 3,
   "id": "f5322eb23e981ac9",
   "metadata": {
    "ExecuteTime": {
     "end_time": "2025-02-03T14:13:31.382654Z",
     "start_time": "2025-02-03T14:13:31.368260Z"
    }
   },
   "outputs": [],
   "source": [
    "train = pd.read_csv('train.csv')\n",
    "X_ini = train.iloc[:,1:4]\n",
    "y_ini = train.iloc[:,4]"
   ]
  },
  {
   "cell_type": "code",
   "execution_count": 4,
   "id": "7b7b6eaf551e6815",
   "metadata": {
    "ExecuteTime": {
     "end_time": "2025-02-03T14:13:31.494025Z",
     "start_time": "2025-02-03T14:13:31.489225Z"
    }
   },
   "outputs": [],
   "source": [
    "sp = RepeatedStratifiedKFold(random_state=seed,n_repeats=3,n_splits=5)"
   ]
  },
  {
   "cell_type": "code",
   "execution_count": 5,
   "id": "3c678bc9be3e0f72",
   "metadata": {
    "ExecuteTime": {
     "end_time": "2025-02-03T14:13:31.619958Z",
     "start_time": "2025-02-03T14:13:31.614284Z"
    }
   },
   "outputs": [],
   "source": [
    "import hyperopt\n",
    "from hyperopt import hp"
   ]
  },
  {
   "cell_type": "code",
   "execution_count": 6,
   "id": "51f7d759cc0b8abc",
   "metadata": {
    "ExecuteTime": {
     "end_time": "2025-02-03T14:13:32.018765Z",
     "start_time": "2025-02-03T14:13:32.010667Z"
    }
   },
   "outputs": [],
   "source": [
    "def objective(param):\n",
    "    aucs = []\n",
    "    for train_index,test_index in sp.split(X_ini,y_ini):\n",
    "        X_train = X_ini.iloc[train_index,:]\n",
    "        X_vali = X_ini.iloc[test_index,:]\n",
    "        y_train = y_ini[train_index]\n",
    "        y_vali = y_ini[test_index]\n",
    "        model = SVC(random_state=seed,\n",
    "                    C=param['C'],\n",
    "                    gamma=param['gamma'],\n",
    "                    probability=True)\n",
    "        model.fit(X_train,y_train)\n",
    "        pro_vali = model.predict_proba(X_vali)[:,1]\n",
    "        auc_vali = roc_auc_score(y_vali,pro_vali)\n",
    "        aucs.append(auc_vali)\n",
    "    return -np.mean(aucs)"
   ]
  },
  {
   "cell_type": "code",
   "execution_count": 7,
   "id": "a79855f1ced62609",
   "metadata": {
    "ExecuteTime": {
     "end_time": "2025-02-03T14:13:32.603825Z",
     "start_time": "2025-02-03T14:13:32.598491Z"
    }
   },
   "outputs": [],
   "source": [
    "#超参数搜索范围，根据数据集不同进行修改\n",
    "space = {\n",
    "    'C':hp.uniform('C',0,1),\n",
    "    'gamma':hp.uniform('gamma',0,1),\n",
    "}"
   ]
  },
  {
   "cell_type": "code",
   "execution_count": 8,
   "id": "f552b59cc1908379",
   "metadata": {
    "ExecuteTime": {
     "end_time": "2025-02-03T14:13:42.140578Z",
     "start_time": "2025-02-03T14:13:33.084368Z"
    }
   },
   "outputs": [
    {
     "name": "stdout",
     "output_type": "stream",
     "text": [
      "100%|█████████████████████████████████████████████| 100/100 [00:12<00:00,  8.20trial/s, best loss: -0.8377645502645503]\n"
     ]
    }
   ],
   "source": [
    "best_param = hyperopt.fmin(objective,space,hyperopt.tpe.suggest,max_evals=100)"
   ]
  },
  {
   "cell_type": "code",
   "execution_count": 9,
   "id": "e179b8f7d72ad525",
   "metadata": {
    "ExecuteTime": {
     "end_time": "2025-02-03T14:13:44.418429Z",
     "start_time": "2025-02-03T14:13:44.409694Z"
    }
   },
   "outputs": [
    {
     "data": {
      "text/plain": [
       "{'C': 0.6440129769327001, 'gamma': 0.00804304738703121}"
      ]
     },
     "execution_count": 9,
     "metadata": {},
     "output_type": "execute_result"
    }
   ],
   "source": [
    "best_param"
   ]
  },
  {
   "cell_type": "code",
   "execution_count": 10,
   "id": "7e829dc2c4c611b9",
   "metadata": {
    "ExecuteTime": {
     "end_time": "2025-02-03T14:13:44.859783Z",
     "start_time": "2025-02-03T14:13:44.844569Z"
    }
   },
   "outputs": [],
   "source": [
    "#这里注意range()范围与上面的搜索空间保持一致\n",
    "model = SVC(random_state=seed,\n",
    "            C=best_param['C'],\n",
    "            gamma=best_param['gamma'],\n",
    "            probability=True)\n",
    "model.fit(X_ini,y_ini)\n",
    "pro_train = model.predict_proba(X_ini)[:,1]"
   ]
  },
  {
   "cell_type": "code",
   "execution_count": 11,
   "id": "c837bf18d4797b77",
   "metadata": {
    "ExecuteTime": {
     "end_time": "2025-02-03T14:13:45.435740Z",
     "start_time": "2025-02-03T14:13:45.422823Z"
    }
   },
   "outputs": [
    {
     "name": "stdout",
     "output_type": "stream",
     "text": [
      "训练集AUC=0.845\n"
     ]
    }
   ],
   "source": [
    "print('训练集AUC={:.3f}'.format(roc_auc_score(y_ini,pro_train)))"
   ]
  },
  {
   "cell_type": "code",
   "execution_count": 12,
   "id": "16212245-cd93-446e-82e0-b5ce3f3d4d51",
   "metadata": {},
   "outputs": [
    {
     "name": "stdout",
     "output_type": "stream",
     "text": [
      "训练集AUC=0.845\n",
      "训练集Accuracy=0.736\n",
      "训练集Precision=0.702\n",
      "训练集Sensitivity (Recall)=0.857\n",
      "训练集Specificity=0.606\n",
      "训练集F1=0.772\n"
     ]
    }
   ],
   "source": [
    "from sklearn.metrics import roc_auc_score, accuracy_score, precision_score, recall_score, f1_score, confusion_matrix\n",
    "# 使用模型对训练集数据进行预测，得到预测标签\n",
    "y_pred_train = model.predict(X_ini)  \n",
    "\n",
    "# 计算训练集的AUC值（需要模型输出的概率值 pro_train）\n",
    "auc_train = roc_auc_score(y_ini, pro_train)\n",
    "\n",
    "# 计算训练集准确率（正确预测样本比例）\n",
    "accuracy_train = accuracy_score(y_ini, y_pred_train)\n",
    "\n",
    "# 计算训练集精确率（预测为正的样本中真实为正的比例）\n",
    "precision_train = precision_score(y_ini, y_pred_train)\n",
    "\n",
    "# 计算训练集召回率（真实为正的样本中被正确预测的比例）\n",
    "recall_train = recall_score(y_ini, y_pred_train)\n",
    "\n",
    "# 计算训练集F1分数（精确率和召回率的调和平均数）\n",
    "f1_train = f1_score(y_ini, y_pred_train)\n",
    "\n",
    "# 生成训练集的混淆矩阵（四分类表格）\n",
    "confusion_train = confusion_matrix(y_ini, y_pred_train)\n",
    "\n",
    "# 解构混淆矩阵四个值：真阴、假阳、假阴、真阳\n",
    "tn, fp, fn, tp = confusion_train.ravel()\n",
    "\n",
    "# 计算特异度（真实为负的样本中被正确识别的比例）\n",
    "specificity_train = tn / (tn + fp)\n",
    "\n",
    "print('训练集AUC={:.3f}'.format(auc_train))\n",
    "print('训练集Accuracy={:.3f}'.format(accuracy_train))\n",
    "print('训练集Precision={:.3f}'.format(precision_train))\n",
    "print('训练集Sensitivity (Recall)={:.3f}'.format(recall_train))\n",
    "print('训练集Specificity={:.3f}'.format(specificity_train))\n",
    "print('训练集F1={:.3f}'.format(f1_train))"
   ]
  },
  {
   "cell_type": "code",
   "execution_count": 13,
   "id": "3142b0b58ddb964c",
   "metadata": {
    "ExecuteTime": {
     "end_time": "2025-02-03T14:13:46.855823Z",
     "start_time": "2025-02-03T14:13:46.837598Z"
    }
   },
   "outputs": [],
   "source": [
    "df_train = pd.DataFrame({\n",
    "    'ID':train['ID'],\n",
    "    'True':y_ini,\n",
    "    'Pre':pro_train\n",
    "})\n",
    "df_train.to_csv('SVM_train.csv',index=False)"
   ]
  },
  {
   "cell_type": "code",
   "execution_count": 14,
   "id": "7533fb78-2e41-4d8a-acc2-fed1c7f09562",
   "metadata": {},
   "outputs": [
    {
     "name": "stdout",
     "output_type": "stream",
     "text": [
      "\n",
      "Results for test1.csv:\n",
      "测试集 AUC = 0.693\n",
      "测试集 Accuracy = 0.595\n",
      "测试集 Precision = 0.615\n",
      "测试集 Sensitivity (Recall) = 0.762\n",
      "测试集 Specificity = 0.375\n",
      "测试集 F1 = 0.681\n",
      "\n",
      "Results for test2.csv:\n",
      "测试集 AUC = 0.850\n",
      "测试集 Accuracy = 0.800\n",
      "测试集 Precision = 0.750\n",
      "测试集 Sensitivity (Recall) = 0.900\n",
      "测试集 Specificity = 0.700\n",
      "测试集 F1 = 0.818\n",
      "\n",
      "Results for test3.csv:\n",
      "测试集 AUC = 0.520\n",
      "测试集 Accuracy = 0.500\n",
      "测试集 Precision = 0.500\n",
      "测试集 Sensitivity (Recall) = 0.600\n",
      "测试集 Specificity = 0.400\n",
      "测试集 F1 = 0.545\n",
      "\n",
      "Results for test4.csv:\n",
      "测试集 AUC = 0.580\n",
      "测试集 Accuracy = 0.556\n",
      "测试集 Precision = 0.538\n",
      "测试集 Sensitivity (Recall) = 0.778\n",
      "测试集 Specificity = 0.333\n",
      "测试集 F1 = 0.636\n",
      "\n",
      "Results for test5.csv:\n",
      "测试集 AUC = 0.856\n",
      "测试集 Accuracy = 0.842\n",
      "测试集 Precision = 0.818\n",
      "测试集 Sensitivity (Recall) = 0.900\n",
      "测试集 Specificity = 0.778\n",
      "测试集 F1 = 0.857\n",
      "\n",
      "Results for test6.csv:\n",
      "测试集 AUC = 0.790\n",
      "测试集 Accuracy = 0.682\n",
      "测试集 Precision = 0.500\n",
      "测试集 Sensitivity (Recall) = 0.714\n",
      "测试集 Specificity = 0.667\n",
      "测试集 F1 = 0.588\n",
      "\n",
      "Results for test7.csv:\n",
      "测试集 AUC = 0.906\n",
      "测试集 Accuracy = 0.750\n",
      "测试集 Precision = 0.571\n",
      "测试集 Sensitivity (Recall) = 1.000\n",
      "测试集 Specificity = 0.625\n",
      "测试集 F1 = 0.727\n",
      "\n",
      "Results for test8.csv:\n",
      "测试集 AUC = 0.639\n",
      "测试集 Accuracy = 0.667\n",
      "测试集 Precision = 0.667\n",
      "测试集 Sensitivity (Recall) = 0.667\n",
      "测试集 Specificity = 0.667\n",
      "测试集 F1 = 0.667\n",
      "模型已保存到当前目录下的 SVM_model.joblib\n"
     ]
    }
   ],
   "source": [
    "# 导入必要库\n",
    "import pandas as pd\n",
    "from sklearn.metrics import (roc_auc_score, accuracy_score, \n",
    "                           precision_score, recall_score, \n",
    "                           f1_score, confusion_matrix)\n",
    "\n",
    "# 定义测试集文件列表（简化路径）\n",
    "test_files = [\n",
    "    'test1.csv',\n",
    "    'test2.csv',\n",
    "    'test3.csv',\n",
    "    'test4.csv',\n",
    "    'test5.csv',\n",
    "    'test6.csv',\n",
    "    'test7.csv',\n",
    "    'test8.csv'\n",
    "]\n",
    "\n",
    "# 遍历每个测试集文件\n",
    "for test_file in test_files:\n",
    "    # 数据加载\n",
    "    test = pd.read_csv(test_file)  # 读取CSV文件\n",
    "    \n",
    "    # 特征工程\n",
    "    X_test = test.iloc[:, 1:4]   # 提取第2到第10列作为特征（假设第1列为ID）\n",
    "    y_test = test.iloc[:, 4]     # 提取第11列作为真实标签\n",
    "    \n",
    "    # 模型预测\n",
    "    pro_test = model.predict_proba(X_test)[:, 1]  # 获取正类预测概率\n",
    "    y_pred_test = model.predict(X_test)           # 获取预测标签（0/1分类）\n",
    "    \n",
    "    # 计算评估指标\n",
    "    auc_test = roc_auc_score(y_test, pro_test)          # AUC面积\n",
    "    accuracy_test = accuracy_score(y_test, y_pred_test)  # 准确率\n",
    "    precision_test = precision_score(y_test, y_pred_test) # 精确率\n",
    "    recall_test = recall_score(y_test, y_pred_test)       # 召回率/敏感度\n",
    "    f1_test = f1_score(y_test, y_pred_test)              # F1分数\n",
    "    \n",
    "    # 混淆矩阵分析\n",
    "    confusion_test = confusion_matrix(y_test, y_pred_test)  # 生成混淆矩阵\n",
    "    tn, fp, fn, tp = confusion_test.ravel()                # 解构四类结果\n",
    "    specificity_test = tn / (tn + fp)                      # 计算特异度\n",
    "    \n",
    "    # 输出评估结果\n",
    "    print(f'\\nResults for {test_file}:')\n",
    "    print(f'测试集 AUC = {auc_test:.3f}')                   \n",
    "    print(f'测试集 Accuracy = {accuracy_test:.3f}')         \n",
    "    print(f'测试集 Precision = {precision_test:.3f}')       \n",
    "    print(f'测试集 Sensitivity (Recall) = {recall_test:.3f}')\n",
    "    print(f'测试集 Specificity = {specificity_test:.3f}')   \n",
    "    print(f'测试集 F1 = {f1_test:.3f}')                     \n",
    "    \n",
    "    # 保存预测结果\n",
    "    df_test = pd.DataFrame({\n",
    "        'ID': test['ID'],       # 保留原始ID列\n",
    "        'True': y_test,          # 真实标签\n",
    "        'Pre': pro_test          # 预测概率值\n",
    "    })\n",
    "    df_test.to_csv(f'SVM_{test_file}_predictions.csv', index=False)  # 生成预测文件\n",
    "\n",
    "# 保存模型\n",
    "import joblib\n",
    "\n",
    "model_filename = 'SVM_model.joblib'\n",
    "joblib.dump(model, model_filename)  # 这里model需要是已训练好的模型对象\n",
    "print(f\"模型已保存到当前目录下的 {model_filename}\")"
   ]
  },
  {
   "cell_type": "code",
   "execution_count": null,
   "id": "9e0f48d6-7a89-4378-b947-0a6a2fa43c0f",
   "metadata": {},
   "outputs": [],
   "source": []
  },
  {
   "cell_type": "code",
   "execution_count": null,
   "id": "b82e365a-0222-45e6-b53d-9bcc13c43858",
   "metadata": {},
   "outputs": [],
   "source": []
  }
 ],
 "metadata": {
  "kernelspec": {
   "display_name": "Python 3 (ipykernel)",
   "language": "python",
   "name": "python3"
  },
  "language_info": {
   "codemirror_mode": {
    "name": "ipython",
    "version": 3
   },
   "file_extension": ".py",
   "mimetype": "text/x-python",
   "name": "python",
   "nbconvert_exporter": "python",
   "pygments_lexer": "ipython3",
   "version": "3.12.3"
  }
 },
 "nbformat": 4,
 "nbformat_minor": 5
}
